{
  "nbformat": 4,
  "nbformat_minor": 0,
  "metadata": {
    "colab": {
      "name": "pandas_practice.ipynb",
      "provenance": [],
      "collapsed_sections": [],
      "authorship_tag": "ABX9TyPCuCcPEixJPh1iB7NNWGOH",
      "include_colab_link": true
    },
    "kernelspec": {
      "name": "python3",
      "display_name": "Python 3"
    },
    "language_info": {
      "name": "python"
    }
  },
  "cells": [
    {
      "cell_type": "markdown",
      "metadata": {
        "id": "view-in-github",
        "colab_type": "text"
      },
      "source": [
        "<a href=\"https://colab.research.google.com/github/Rag-gy/path-to-ML/blob/main/pandas_practice.ipynb\" target=\"_parent\"><img src=\"https://colab.research.google.com/assets/colab-badge.svg\" alt=\"Open In Colab\"/></a>"
      ]
    },
    {
      "cell_type": "code",
      "metadata": {
        "id": "r8sD3MHAVTYB"
      },
      "source": [
        "import numpy as np\n",
        "import pandas as pd"
      ],
      "execution_count": null,
      "outputs": []
    },
    {
      "cell_type": "code",
      "source": [
        "myindex=[1,2,3,4]\n",
        "mydata=[1968,1973,1885,1997]"
      ],
      "metadata": {
        "id": "tG7sdJSJ3nDY"
      },
      "execution_count": null,
      "outputs": []
    },
    {
      "cell_type": "code",
      "source": [
        "a=pd.Series(data=mydata, index=myindex)\n",
        "\n",
        "print(a)"
      ],
      "metadata": {
        "colab": {
          "base_uri": "https://localhost:8080/"
        },
        "id": "I7S9cNpeel7o",
        "outputId": "389c6506-fdea-4c9f-8ef3-7e067ddfce2a"
      },
      "execution_count": null,
      "outputs": [
        {
          "output_type": "stream",
          "name": "stdout",
          "text": [
            "1    1968\n",
            "2    1973\n",
            "3    1885\n",
            "4    1997\n",
            "dtype: int64\n"
          ]
        }
      ]
    },
    {
      "cell_type": "code",
      "source": [
        "b=pd.Series(data=[x for x in range(1,5)],index=myindex)\n",
        "c=a.add(b,fill_value=0)\n",
        "print(c)"
      ],
      "metadata": {
        "colab": {
          "base_uri": "https://localhost:8080/"
        },
        "id": "-Kkh-mL9hauf",
        "outputId": "fbdd9cc7-6f38-4984-c070-3e6624edebef"
      },
      "execution_count": null,
      "outputs": [
        {
          "output_type": "stream",
          "name": "stdout",
          "text": [
            "1    1969\n",
            "2    1975\n",
            "3    1888\n",
            "4    2001\n",
            "dtype: int64\n"
          ]
        }
      ]
    },
    {
      "cell_type": "code",
      "source": [
        "np.random.seed(100)\n",
        "new_data=np.random.randint(0,101,(4,3))"
      ],
      "metadata": {
        "id": "7QdunS9DjNnd"
      },
      "execution_count": null,
      "outputs": []
    },
    {
      "cell_type": "code",
      "source": [
        "new_data"
      ],
      "metadata": {
        "colab": {
          "base_uri": "https://localhost:8080/"
        },
        "id": "e2KxVkMYklPf",
        "outputId": "6ad3acff-971d-46d5-cdc5-2121aff3e732"
      },
      "execution_count": null,
      "outputs": [
        {
          "output_type": "execute_result",
          "data": {
            "text/plain": [
              "array([[ 8, 24, 67],\n",
              "       [87, 79, 48],\n",
              "       [10, 94, 52],\n",
              "       [98, 53, 66]])"
            ]
          },
          "metadata": {},
          "execution_count": 20
        }
      ]
    },
    {
      "cell_type": "code",
      "source": [
        "my_row=[\"mon\", \"tue\", \"wed\", \"turs\"]\n",
        "\n",
        "my_cols=[\"KOM\", \"PSP\", \"PPD\"]\n",
        "\n",
        "b = pd.DataFrame(new_data, index=my_row, columns=my_cols)\n",
        "b"
      ],
      "metadata": {
        "colab": {
          "base_uri": "https://localhost:8080/",
          "height": 174
        },
        "id": "otPgZ-2Slqos",
        "outputId": "fc41e17c-5213-4c5d-df54-5a254119b39c"
      },
      "execution_count": null,
      "outputs": [
        {
          "output_type": "execute_result",
          "data": {
            "text/html": [
              "\n",
              "  <div id=\"df-8f212f7c-23ff-41a3-ba8a-9abf0460e7f0\">\n",
              "    <div class=\"colab-df-container\">\n",
              "      <div>\n",
              "<style scoped>\n",
              "    .dataframe tbody tr th:only-of-type {\n",
              "        vertical-align: middle;\n",
              "    }\n",
              "\n",
              "    .dataframe tbody tr th {\n",
              "        vertical-align: top;\n",
              "    }\n",
              "\n",
              "    .dataframe thead th {\n",
              "        text-align: right;\n",
              "    }\n",
              "</style>\n",
              "<table border=\"1\" class=\"dataframe\">\n",
              "  <thead>\n",
              "    <tr style=\"text-align: right;\">\n",
              "      <th></th>\n",
              "      <th>KOM</th>\n",
              "      <th>PSP</th>\n",
              "      <th>PPD</th>\n",
              "    </tr>\n",
              "  </thead>\n",
              "  <tbody>\n",
              "    <tr>\n",
              "      <th>mon</th>\n",
              "      <td>8</td>\n",
              "      <td>24</td>\n",
              "      <td>67</td>\n",
              "    </tr>\n",
              "    <tr>\n",
              "      <th>tue</th>\n",
              "      <td>87</td>\n",
              "      <td>79</td>\n",
              "      <td>48</td>\n",
              "    </tr>\n",
              "    <tr>\n",
              "      <th>wed</th>\n",
              "      <td>10</td>\n",
              "      <td>94</td>\n",
              "      <td>52</td>\n",
              "    </tr>\n",
              "    <tr>\n",
              "      <th>turs</th>\n",
              "      <td>98</td>\n",
              "      <td>53</td>\n",
              "      <td>66</td>\n",
              "    </tr>\n",
              "  </tbody>\n",
              "</table>\n",
              "</div>\n",
              "      <button class=\"colab-df-convert\" onclick=\"convertToInteractive('df-8f212f7c-23ff-41a3-ba8a-9abf0460e7f0')\"\n",
              "              title=\"Convert this dataframe to an interactive table.\"\n",
              "              style=\"display:none;\">\n",
              "        \n",
              "  <svg xmlns=\"http://www.w3.org/2000/svg\" height=\"24px\"viewBox=\"0 0 24 24\"\n",
              "       width=\"24px\">\n",
              "    <path d=\"M0 0h24v24H0V0z\" fill=\"none\"/>\n",
              "    <path d=\"M18.56 5.44l.94 2.06.94-2.06 2.06-.94-2.06-.94-.94-2.06-.94 2.06-2.06.94zm-11 1L8.5 8.5l.94-2.06 2.06-.94-2.06-.94L8.5 2.5l-.94 2.06-2.06.94zm10 10l.94 2.06.94-2.06 2.06-.94-2.06-.94-.94-2.06-.94 2.06-2.06.94z\"/><path d=\"M17.41 7.96l-1.37-1.37c-.4-.4-.92-.59-1.43-.59-.52 0-1.04.2-1.43.59L10.3 9.45l-7.72 7.72c-.78.78-.78 2.05 0 2.83L4 21.41c.39.39.9.59 1.41.59.51 0 1.02-.2 1.41-.59l7.78-7.78 2.81-2.81c.8-.78.8-2.07 0-2.86zM5.41 20L4 18.59l7.72-7.72 1.47 1.35L5.41 20z\"/>\n",
              "  </svg>\n",
              "      </button>\n",
              "      \n",
              "  <style>\n",
              "    .colab-df-container {\n",
              "      display:flex;\n",
              "      flex-wrap:wrap;\n",
              "      gap: 12px;\n",
              "    }\n",
              "\n",
              "    .colab-df-convert {\n",
              "      background-color: #E8F0FE;\n",
              "      border: none;\n",
              "      border-radius: 50%;\n",
              "      cursor: pointer;\n",
              "      display: none;\n",
              "      fill: #1967D2;\n",
              "      height: 32px;\n",
              "      padding: 0 0 0 0;\n",
              "      width: 32px;\n",
              "    }\n",
              "\n",
              "    .colab-df-convert:hover {\n",
              "      background-color: #E2EBFA;\n",
              "      box-shadow: 0px 1px 2px rgba(60, 64, 67, 0.3), 0px 1px 3px 1px rgba(60, 64, 67, 0.15);\n",
              "      fill: #174EA6;\n",
              "    }\n",
              "\n",
              "    [theme=dark] .colab-df-convert {\n",
              "      background-color: #3B4455;\n",
              "      fill: #D2E3FC;\n",
              "    }\n",
              "\n",
              "    [theme=dark] .colab-df-convert:hover {\n",
              "      background-color: #434B5C;\n",
              "      box-shadow: 0px 1px 3px 1px rgba(0, 0, 0, 0.15);\n",
              "      filter: drop-shadow(0px 1px 2px rgba(0, 0, 0, 0.3));\n",
              "      fill: #FFFFFF;\n",
              "    }\n",
              "  </style>\n",
              "\n",
              "      <script>\n",
              "        const buttonEl =\n",
              "          document.querySelector('#df-8f212f7c-23ff-41a3-ba8a-9abf0460e7f0 button.colab-df-convert');\n",
              "        buttonEl.style.display =\n",
              "          google.colab.kernel.accessAllowed ? 'block' : 'none';\n",
              "\n",
              "        async function convertToInteractive(key) {\n",
              "          const element = document.querySelector('#df-8f212f7c-23ff-41a3-ba8a-9abf0460e7f0');\n",
              "          const dataTable =\n",
              "            await google.colab.kernel.invokeFunction('convertToInteractive',\n",
              "                                                     [key], {});\n",
              "          if (!dataTable) return;\n",
              "\n",
              "          const docLinkHtml = 'Like what you see? Visit the ' +\n",
              "            '<a target=\"_blank\" href=https://colab.research.google.com/notebooks/data_table.ipynb>data table notebook</a>'\n",
              "            + ' to learn more about interactive tables.';\n",
              "          element.innerHTML = '';\n",
              "          dataTable['output_type'] = 'display_data';\n",
              "          await google.colab.output.renderOutput(dataTable, element);\n",
              "          const docLink = document.createElement('div');\n",
              "          docLink.innerHTML = docLinkHtml;\n",
              "          element.appendChild(docLink);\n",
              "        }\n",
              "      </script>\n",
              "    </div>\n",
              "  </div>\n",
              "  "
            ],
            "text/plain": [
              "      KOM  PSP  PPD\n",
              "mon     8   24   67\n",
              "tue    87   79   48\n",
              "wed    10   94   52\n",
              "turs   98   53   66"
            ]
          },
          "metadata": {},
          "execution_count": 21
        }
      ]
    },
    {
      "cell_type": "code",
      "source": [
        "from google.colab import files\n",
        "uploaded = files.upload()"
      ],
      "metadata": {
        "colab": {
          "resources": {
            "http://localhost:8080/nbextensions/google.colab/files.js": {
              "data": "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",
              "ok": true,
              "headers": [
                [
                  "content-type",
                  "application/javascript"
                ]
              ],
              "status": 200,
              "status_text": ""
            }
          },
          "base_uri": "https://localhost:8080/",
          "height": 343
        },
        "id": "MSZNHCWnmpOG",
        "outputId": "c1a9f368-f05b-4738-a9ff-d6da33fb390d"
      },
      "execution_count": null,
      "outputs": [
        {
          "data": {
            "text/html": [
              "\n",
              "     <input type=\"file\" id=\"files-442abdf8-48f0-4f55-b0df-92f4d4db02ec\" name=\"files[]\" multiple disabled\n",
              "        style=\"border:none\" />\n",
              "     <output id=\"result-442abdf8-48f0-4f55-b0df-92f4d4db02ec\">\n",
              "      Upload widget is only available when the cell has been executed in the\n",
              "      current browser session. Please rerun this cell to enable.\n",
              "      </output>\n",
              "      <script src=\"/nbextensions/google.colab/files.js\"></script> "
            ],
            "text/plain": [
              "<IPython.core.display.HTML object>"
            ]
          },
          "metadata": {},
          "output_type": "display_data"
        },
        {
          "ename": "TypeError",
          "evalue": "ignored",
          "output_type": "error",
          "traceback": [
            "\u001b[0;31m---------------------------------------------------------------------------\u001b[0m",
            "\u001b[0;31mTypeError\u001b[0m                                 Traceback (most recent call last)",
            "\u001b[0;32m<ipython-input-9-21dc3c638f66>\u001b[0m in \u001b[0;36m<module>\u001b[0;34m()\u001b[0m\n\u001b[1;32m      1\u001b[0m \u001b[0;32mfrom\u001b[0m \u001b[0mgoogle\u001b[0m\u001b[0;34m.\u001b[0m\u001b[0mcolab\u001b[0m \u001b[0;32mimport\u001b[0m \u001b[0mfiles\u001b[0m\u001b[0;34m\u001b[0m\u001b[0;34m\u001b[0m\u001b[0m\n\u001b[0;32m----> 2\u001b[0;31m \u001b[0muploaded\u001b[0m \u001b[0;34m=\u001b[0m \u001b[0mfiles\u001b[0m\u001b[0;34m.\u001b[0m\u001b[0mupload\u001b[0m\u001b[0;34m(\u001b[0m\u001b[0;34m)\u001b[0m\u001b[0;34m\u001b[0m\u001b[0;34m\u001b[0m\u001b[0m\n\u001b[0m",
            "\u001b[0;32m/usr/local/lib/python3.7/dist-packages/google/colab/files.py\u001b[0m in \u001b[0;36mupload\u001b[0;34m()\u001b[0m\n\u001b[1;32m     66\u001b[0m   \u001b[0mlocal_filenames\u001b[0m \u001b[0;34m=\u001b[0m \u001b[0mdict\u001b[0m\u001b[0;34m(\u001b[0m\u001b[0;34m)\u001b[0m\u001b[0;34m\u001b[0m\u001b[0;34m\u001b[0m\u001b[0m\n\u001b[1;32m     67\u001b[0m \u001b[0;34m\u001b[0m\u001b[0m\n\u001b[0;32m---> 68\u001b[0;31m   \u001b[0;32mwhile\u001b[0m \u001b[0mresult\u001b[0m\u001b[0;34m[\u001b[0m\u001b[0;34m'action'\u001b[0m\u001b[0;34m]\u001b[0m \u001b[0;34m!=\u001b[0m \u001b[0;34m'complete'\u001b[0m\u001b[0;34m:\u001b[0m\u001b[0;34m\u001b[0m\u001b[0;34m\u001b[0m\u001b[0m\n\u001b[0m\u001b[1;32m     69\u001b[0m     result = _output.eval_js(\n\u001b[1;32m     70\u001b[0m         'google.colab._files._uploadFilesContinue(\"{output_id}\")'.format(\n",
            "\u001b[0;31mTypeError\u001b[0m: 'NoneType' object is not subscriptable"
          ]
        }
      ]
    },
    {
      "cell_type": "code",
      "source": [
        "f=pd.read_csv('tips.csv')\n",
        "f"
      ],
      "metadata": {
        "colab": {
          "base_uri": "https://localhost:8080/",
          "height": 661
        },
        "id": "vMhyHTGTpsFe",
        "outputId": "7ab583f0-38c6-442a-bdb7-78f6e90b877f"
      },
      "execution_count": null,
      "outputs": [
        {
          "output_type": "execute_result",
          "data": {
            "text/html": [
              "\n",
              "  <div id=\"df-308919fe-a79f-4bad-8bb9-c3281ca782e0\">\n",
              "    <div class=\"colab-df-container\">\n",
              "      <div>\n",
              "<style scoped>\n",
              "    .dataframe tbody tr th:only-of-type {\n",
              "        vertical-align: middle;\n",
              "    }\n",
              "\n",
              "    .dataframe tbody tr th {\n",
              "        vertical-align: top;\n",
              "    }\n",
              "\n",
              "    .dataframe thead th {\n",
              "        text-align: right;\n",
              "    }\n",
              "</style>\n",
              "<table border=\"1\" class=\"dataframe\">\n",
              "  <thead>\n",
              "    <tr style=\"text-align: right;\">\n",
              "      <th></th>\n",
              "      <th>total_bill</th>\n",
              "      <th>tip</th>\n",
              "      <th>sex</th>\n",
              "      <th>smoker</th>\n",
              "      <th>day</th>\n",
              "      <th>time</th>\n",
              "      <th>size</th>\n",
              "      <th>price_per_person</th>\n",
              "      <th>Payer Name</th>\n",
              "      <th>CC Number</th>\n",
              "      <th>Payment ID</th>\n",
              "    </tr>\n",
              "  </thead>\n",
              "  <tbody>\n",
              "    <tr>\n",
              "      <th>0</th>\n",
              "      <td>16.99</td>\n",
              "      <td>1.01</td>\n",
              "      <td>Female</td>\n",
              "      <td>No</td>\n",
              "      <td>Sun</td>\n",
              "      <td>Dinner</td>\n",
              "      <td>2</td>\n",
              "      <td>8.49</td>\n",
              "      <td>Christy Cunningham</td>\n",
              "      <td>3560325168603410</td>\n",
              "      <td>Sun2959</td>\n",
              "    </tr>\n",
              "    <tr>\n",
              "      <th>1</th>\n",
              "      <td>10.34</td>\n",
              "      <td>1.66</td>\n",
              "      <td>Male</td>\n",
              "      <td>No</td>\n",
              "      <td>Sun</td>\n",
              "      <td>Dinner</td>\n",
              "      <td>3</td>\n",
              "      <td>3.45</td>\n",
              "      <td>Douglas Tucker</td>\n",
              "      <td>4478071379779230</td>\n",
              "      <td>Sun4608</td>\n",
              "    </tr>\n",
              "    <tr>\n",
              "      <th>2</th>\n",
              "      <td>21.01</td>\n",
              "      <td>3.50</td>\n",
              "      <td>Male</td>\n",
              "      <td>No</td>\n",
              "      <td>Sun</td>\n",
              "      <td>Dinner</td>\n",
              "      <td>3</td>\n",
              "      <td>7.00</td>\n",
              "      <td>Travis Walters</td>\n",
              "      <td>6011812112971322</td>\n",
              "      <td>Sun4458</td>\n",
              "    </tr>\n",
              "    <tr>\n",
              "      <th>3</th>\n",
              "      <td>23.68</td>\n",
              "      <td>3.31</td>\n",
              "      <td>Male</td>\n",
              "      <td>No</td>\n",
              "      <td>Sun</td>\n",
              "      <td>Dinner</td>\n",
              "      <td>2</td>\n",
              "      <td>11.84</td>\n",
              "      <td>Nathaniel Harris</td>\n",
              "      <td>4676137647685994</td>\n",
              "      <td>Sun5260</td>\n",
              "    </tr>\n",
              "    <tr>\n",
              "      <th>4</th>\n",
              "      <td>24.59</td>\n",
              "      <td>3.61</td>\n",
              "      <td>Female</td>\n",
              "      <td>No</td>\n",
              "      <td>Sun</td>\n",
              "      <td>Dinner</td>\n",
              "      <td>4</td>\n",
              "      <td>6.15</td>\n",
              "      <td>Tonya Carter</td>\n",
              "      <td>4832732618637221</td>\n",
              "      <td>Sun2251</td>\n",
              "    </tr>\n",
              "    <tr>\n",
              "      <th>...</th>\n",
              "      <td>...</td>\n",
              "      <td>...</td>\n",
              "      <td>...</td>\n",
              "      <td>...</td>\n",
              "      <td>...</td>\n",
              "      <td>...</td>\n",
              "      <td>...</td>\n",
              "      <td>...</td>\n",
              "      <td>...</td>\n",
              "      <td>...</td>\n",
              "      <td>...</td>\n",
              "    </tr>\n",
              "    <tr>\n",
              "      <th>239</th>\n",
              "      <td>29.03</td>\n",
              "      <td>5.92</td>\n",
              "      <td>Male</td>\n",
              "      <td>No</td>\n",
              "      <td>Sat</td>\n",
              "      <td>Dinner</td>\n",
              "      <td>3</td>\n",
              "      <td>9.68</td>\n",
              "      <td>Michael Avila</td>\n",
              "      <td>5296068606052842</td>\n",
              "      <td>Sat2657</td>\n",
              "    </tr>\n",
              "    <tr>\n",
              "      <th>240</th>\n",
              "      <td>27.18</td>\n",
              "      <td>2.00</td>\n",
              "      <td>Female</td>\n",
              "      <td>Yes</td>\n",
              "      <td>Sat</td>\n",
              "      <td>Dinner</td>\n",
              "      <td>2</td>\n",
              "      <td>13.59</td>\n",
              "      <td>Monica Sanders</td>\n",
              "      <td>3506806155565404</td>\n",
              "      <td>Sat1766</td>\n",
              "    </tr>\n",
              "    <tr>\n",
              "      <th>241</th>\n",
              "      <td>22.67</td>\n",
              "      <td>2.00</td>\n",
              "      <td>Male</td>\n",
              "      <td>Yes</td>\n",
              "      <td>Sat</td>\n",
              "      <td>Dinner</td>\n",
              "      <td>2</td>\n",
              "      <td>11.34</td>\n",
              "      <td>Keith Wong</td>\n",
              "      <td>6011891618747196</td>\n",
              "      <td>Sat3880</td>\n",
              "    </tr>\n",
              "    <tr>\n",
              "      <th>242</th>\n",
              "      <td>17.82</td>\n",
              "      <td>1.75</td>\n",
              "      <td>Male</td>\n",
              "      <td>No</td>\n",
              "      <td>Sat</td>\n",
              "      <td>Dinner</td>\n",
              "      <td>2</td>\n",
              "      <td>8.91</td>\n",
              "      <td>Dennis Dixon</td>\n",
              "      <td>4375220550950</td>\n",
              "      <td>Sat17</td>\n",
              "    </tr>\n",
              "    <tr>\n",
              "      <th>243</th>\n",
              "      <td>18.78</td>\n",
              "      <td>3.00</td>\n",
              "      <td>Female</td>\n",
              "      <td>No</td>\n",
              "      <td>Thur</td>\n",
              "      <td>Dinner</td>\n",
              "      <td>2</td>\n",
              "      <td>9.39</td>\n",
              "      <td>Michelle Hardin</td>\n",
              "      <td>3511451626698139</td>\n",
              "      <td>Thur672</td>\n",
              "    </tr>\n",
              "  </tbody>\n",
              "</table>\n",
              "<p>244 rows × 11 columns</p>\n",
              "</div>\n",
              "      <button class=\"colab-df-convert\" onclick=\"convertToInteractive('df-308919fe-a79f-4bad-8bb9-c3281ca782e0')\"\n",
              "              title=\"Convert this dataframe to an interactive table.\"\n",
              "              style=\"display:none;\">\n",
              "        \n",
              "  <svg xmlns=\"http://www.w3.org/2000/svg\" height=\"24px\"viewBox=\"0 0 24 24\"\n",
              "       width=\"24px\">\n",
              "    <path d=\"M0 0h24v24H0V0z\" fill=\"none\"/>\n",
              "    <path d=\"M18.56 5.44l.94 2.06.94-2.06 2.06-.94-2.06-.94-.94-2.06-.94 2.06-2.06.94zm-11 1L8.5 8.5l.94-2.06 2.06-.94-2.06-.94L8.5 2.5l-.94 2.06-2.06.94zm10 10l.94 2.06.94-2.06 2.06-.94-2.06-.94-.94-2.06-.94 2.06-2.06.94z\"/><path d=\"M17.41 7.96l-1.37-1.37c-.4-.4-.92-.59-1.43-.59-.52 0-1.04.2-1.43.59L10.3 9.45l-7.72 7.72c-.78.78-.78 2.05 0 2.83L4 21.41c.39.39.9.59 1.41.59.51 0 1.02-.2 1.41-.59l7.78-7.78 2.81-2.81c.8-.78.8-2.07 0-2.86zM5.41 20L4 18.59l7.72-7.72 1.47 1.35L5.41 20z\"/>\n",
              "  </svg>\n",
              "      </button>\n",
              "      \n",
              "  <style>\n",
              "    .colab-df-container {\n",
              "      display:flex;\n",
              "      flex-wrap:wrap;\n",
              "      gap: 12px;\n",
              "    }\n",
              "\n",
              "    .colab-df-convert {\n",
              "      background-color: #E8F0FE;\n",
              "      border: none;\n",
              "      border-radius: 50%;\n",
              "      cursor: pointer;\n",
              "      display: none;\n",
              "      fill: #1967D2;\n",
              "      height: 32px;\n",
              "      padding: 0 0 0 0;\n",
              "      width: 32px;\n",
              "    }\n",
              "\n",
              "    .colab-df-convert:hover {\n",
              "      background-color: #E2EBFA;\n",
              "      box-shadow: 0px 1px 2px rgba(60, 64, 67, 0.3), 0px 1px 3px 1px rgba(60, 64, 67, 0.15);\n",
              "      fill: #174EA6;\n",
              "    }\n",
              "\n",
              "    [theme=dark] .colab-df-convert {\n",
              "      background-color: #3B4455;\n",
              "      fill: #D2E3FC;\n",
              "    }\n",
              "\n",
              "    [theme=dark] .colab-df-convert:hover {\n",
              "      background-color: #434B5C;\n",
              "      box-shadow: 0px 1px 3px 1px rgba(0, 0, 0, 0.15);\n",
              "      filter: drop-shadow(0px 1px 2px rgba(0, 0, 0, 0.3));\n",
              "      fill: #FFFFFF;\n",
              "    }\n",
              "  </style>\n",
              "\n",
              "      <script>\n",
              "        const buttonEl =\n",
              "          document.querySelector('#df-308919fe-a79f-4bad-8bb9-c3281ca782e0 button.colab-df-convert');\n",
              "        buttonEl.style.display =\n",
              "          google.colab.kernel.accessAllowed ? 'block' : 'none';\n",
              "\n",
              "        async function convertToInteractive(key) {\n",
              "          const element = document.querySelector('#df-308919fe-a79f-4bad-8bb9-c3281ca782e0');\n",
              "          const dataTable =\n",
              "            await google.colab.kernel.invokeFunction('convertToInteractive',\n",
              "                                                     [key], {});\n",
              "          if (!dataTable) return;\n",
              "\n",
              "          const docLinkHtml = 'Like what you see? Visit the ' +\n",
              "            '<a target=\"_blank\" href=https://colab.research.google.com/notebooks/data_table.ipynb>data table notebook</a>'\n",
              "            + ' to learn more about interactive tables.';\n",
              "          element.innerHTML = '';\n",
              "          dataTable['output_type'] = 'display_data';\n",
              "          await google.colab.output.renderOutput(dataTable, element);\n",
              "          const docLink = document.createElement('div');\n",
              "          docLink.innerHTML = docLinkHtml;\n",
              "          element.appendChild(docLink);\n",
              "        }\n",
              "      </script>\n",
              "    </div>\n",
              "  </div>\n",
              "  "
            ],
            "text/plain": [
              "     total_bill   tip     sex  ...          Payer Name         CC Number Payment ID\n",
              "0         16.99  1.01  Female  ...  Christy Cunningham  3560325168603410    Sun2959\n",
              "1         10.34  1.66    Male  ...      Douglas Tucker  4478071379779230    Sun4608\n",
              "2         21.01  3.50    Male  ...      Travis Walters  6011812112971322    Sun4458\n",
              "3         23.68  3.31    Male  ...    Nathaniel Harris  4676137647685994    Sun5260\n",
              "4         24.59  3.61  Female  ...        Tonya Carter  4832732618637221    Sun2251\n",
              "..          ...   ...     ...  ...                 ...               ...        ...\n",
              "239       29.03  5.92    Male  ...       Michael Avila  5296068606052842    Sat2657\n",
              "240       27.18  2.00  Female  ...      Monica Sanders  3506806155565404    Sat1766\n",
              "241       22.67  2.00    Male  ...          Keith Wong  6011891618747196    Sat3880\n",
              "242       17.82  1.75    Male  ...        Dennis Dixon     4375220550950      Sat17\n",
              "243       18.78  3.00  Female  ...     Michelle Hardin  3511451626698139    Thur672\n",
              "\n",
              "[244 rows x 11 columns]"
            ]
          },
          "metadata": {},
          "execution_count": 23
        }
      ]
    },
    {
      "cell_type": "code",
      "source": [
        "b.loc[\"tue\"]"
      ],
      "metadata": {
        "colab": {
          "base_uri": "https://localhost:8080/"
        },
        "id": "44T-_1rBqV1k",
        "outputId": "fe4d49f4-b95a-4621-9e4a-40e4331f5ce6"
      },
      "execution_count": null,
      "outputs": [
        {
          "output_type": "execute_result",
          "data": {
            "text/plain": [
              "KOM    87\n",
              "PSP    79\n",
              "PPD    48\n",
              "Name: tue, dtype: int64"
            ]
          },
          "metadata": {},
          "execution_count": 24
        }
      ]
    },
    {
      "cell_type": "code",
      "source": [
        "f.columns#return the coolumns"
      ],
      "metadata": {
        "colab": {
          "base_uri": "https://localhost:8080/"
        },
        "id": "nH7FWKcDrXJe",
        "outputId": "bfac6b2b-8e44-41bd-b214-5caeb0dcdbd0"
      },
      "execution_count": null,
      "outputs": [
        {
          "output_type": "execute_result",
          "data": {
            "text/plain": [
              "Index(['total_bill', 'tip', 'sex', 'smoker', 'day', 'time', 'size',\n",
              "       'price_per_person', 'Payer Name', 'CC Number', 'Payment ID'],\n",
              "      dtype='object')"
            ]
          },
          "metadata": {},
          "execution_count": 25
        }
      ]
    },
    {
      "cell_type": "code",
      "source": [
        " f.index#return the rows "
      ],
      "metadata": {
        "id": "t8Dn1nuzscx_"
      },
      "execution_count": null,
      "outputs": []
    },
    {
      "cell_type": "code",
      "source": [
        "f.head(10)#will print the first ten rows"
      ],
      "metadata": {
        "id": "Ivpnb4X2swzd"
      },
      "execution_count": null,
      "outputs": []
    },
    {
      "cell_type": "code",
      "source": [
        "f.tail(10)#return the last ten rows"
      ],
      "metadata": {
        "id": "2eaJzJP-2Bt7"
      },
      "execution_count": null,
      "outputs": []
    },
    {
      "cell_type": "code",
      "source": [
        "f.info() #gives info abot the dataframe"
      ],
      "metadata": {
        "id": "3_T6beIK2Nn0"
      },
      "execution_count": null,
      "outputs": []
    },
    {
      "cell_type": "code",
      "source": [
        "(f.describe()).T#gives mean,min,max values of all numeric datas in the table"
      ],
      "metadata": {
        "id": "TEuXSBE52S_p"
      },
      "execution_count": null,
      "outputs": []
    },
    {
      "cell_type": "code",
      "source": [
        "f.head()"
      ],
      "metadata": {
        "id": "rK0bVkHT4Hf2"
      },
      "execution_count": null,
      "outputs": []
    },
    {
      "cell_type": "code",
      "source": [
        "f.drop('tip_percentage', axis=1,inplace=True)#used to delete a row or a column from a csv file. Inplace must be given to save the changes"
      ],
      "metadata": {
        "id": "zaREG3zV25X4"
      },
      "execution_count": null,
      "outputs": []
    },
    {
      "cell_type": "code",
      "source": [
        "f.loc[0:10]#used to access the rows and colmns and s similar to iloc[]"
      ],
      "metadata": {
        "id": "g6N-WaDm5xyW"
      },
      "execution_count": null,
      "outputs": []
    },
    {
      "cell_type": "code",
      "source": [
        "f.pop('tip_percentage')\n",
        "f"
      ],
      "metadata": {
        "id": "_HWeL7u4927J"
      },
      "execution_count": null,
      "outputs": []
    },
    {
      "cell_type": "code",
      "source": [
        "f.pop('tip_percentage')#pop fuction returns the col which was deleted and save the changes. this pop function is used to delete only cols"
      ],
      "metadata": {
        "id": "jgKPZnrv_2D8"
      },
      "execution_count": null,
      "outputs": []
    },
    {
      "cell_type": "code",
      "source": [
        "f.insert(2,'tip_percentage',np.round(f['tip']/f['total_bill']*100,2))\n",
        "f"
      ],
      "metadata": {
        "id": "z-PDRVex_5cE"
      },
      "execution_count": null,
      "outputs": []
    },
    {
      "cell_type": "code",
      "source": [
        "f.head(10)"
      ],
      "metadata": {
        "id": "6QGauPsoAOas"
      },
      "execution_count": null,
      "outputs": []
    },
    {
      "cell_type": "code",
      "source": [
        "f['tip_percentage'][0]"
      ],
      "metadata": {
        "id": "Cuo4w8iUBUf_"
      },
      "execution_count": null,
      "outputs": []
    },
    {
      "cell_type": "code",
      "source": [
        "f.head()"
      ],
      "metadata": {
        "id": "sP6bQwzJE8bP"
      },
      "execution_count": null,
      "outputs": []
    },
    {
      "cell_type": "code",
      "source": [
        "f=f.set_index('Payment ID')#it is used to set the index or change the index"
      ],
      "metadata": {
        "id": "25kLPcEDFC9Q"
      },
      "execution_count": null,
      "outputs": []
    },
    {
      "cell_type": "code",
      "source": [
        "f.head()"
      ],
      "metadata": {
        "id": "bzlEL4NtKpGM"
      },
      "execution_count": null,
      "outputs": []
    },
    {
      "cell_type": "code",
      "source": [
        "f.index"
      ],
      "metadata": {
        "id": "BOXI_7eNLPGN"
      },
      "execution_count": null,
      "outputs": []
    },
    {
      "cell_type": "code",
      "source": [
        "f=f.reset_index()#this will reset the index by changing the set index as a new column"
      ],
      "metadata": {
        "id": "iiKslrHWLfEV"
      },
      "execution_count": null,
      "outputs": []
    },
    {
      "cell_type": "code",
      "source": [
        "f.head()"
      ],
      "metadata": {
        "id": "WxVXBmOXLpoW"
      },
      "execution_count": null,
      "outputs": []
    },
    {
      "cell_type": "code",
      "source": [
        "f=f.set_index('Payment ID')"
      ],
      "metadata": {
        "id": "KrQx06_WL-PQ"
      },
      "execution_count": null,
      "outputs": []
    },
    {
      "cell_type": "code",
      "source": [
        "f.head()"
      ],
      "metadata": {
        "id": "xMaKmmk-MJ40"
      },
      "execution_count": null,
      "outputs": []
    },
    {
      "cell_type": "code",
      "source": [
        "f.loc['Sun2959':'Sun5260']#it givesd output on basis of the label not index"
      ],
      "metadata": {
        "id": "GvKpe6zkMhGj"
      },
      "execution_count": null,
      "outputs": []
    },
    {
      "cell_type": "code",
      "source": [
        "f=f.drop(\"Sun4608\",axis=0)\n",
        "f.head()"
      ],
      "metadata": {
        "id": "bZ4KChHxM2O1"
      },
      "execution_count": null,
      "outputs": []
    },
    {
      "cell_type": "code",
      "source": [
        "f.iloc[1:3]"
      ],
      "metadata": {
        "id": "wdLdq_CPNtzi"
      },
      "execution_count": null,
      "outputs": []
    },
    {
      "cell_type": "code",
      "source": [
        "# f = f.set_index('total_bill')\n",
        "\n",
        "f.head()\n",
        "\n",
        "f = f.reset_index()\n",
        "\n",
        "f.head()"
      ],
      "metadata": {
        "id": "S77pQdUyN379"
      },
      "execution_count": null,
      "outputs": []
    },
    {
      "cell_type": "code",
      "source": [
        "f=pd.read_csv('tips.csv')\n",
        "f.head()"
      ],
      "metadata": {
        "id": "PxCSPTgyQLE4"
      },
      "execution_count": null,
      "outputs": []
    },
    {
      "cell_type": "code",
      "source": [
        "f[f['sex']=='Male']#this is single condition fitering"
      ],
      "metadata": {
        "id": "1ocINh6ESQIQ"
      },
      "execution_count": null,
      "outputs": []
    },
    {
      "cell_type": "code",
      "source": [
        "f[((f['sex']==\"Male\")&(f[\"tip\"]>6))|((f['sex']==\"Female\")&(f['tip']>5))]#multiple filter condition"
      ],
      "metadata": {
        "id": "g_objb3bS3NQ"
      },
      "execution_count": null,
      "outputs": []
    },
    {
      "cell_type": "code",
      "source": [
        "f[(f['day'].isin([\"Sat\"]))&(f['tip']>6)]#this isin operator is used to find values which satisfy the values in list(similar to an or)"
      ],
      "metadata": {
        "id": "dPMvUAA4U7_E"
      },
      "execution_count": null,
      "outputs": []
    },
    {
      "cell_type": "code",
      "source": [
        "f=pd.read_csv('tips.csv')"
      ],
      "metadata": {
        "id": "c6SDUG_bb2k3"
      },
      "execution_count": null,
      "outputs": []
    },
    {
      "cell_type": "code",
      "source": [
        "f.head()"
      ],
      "metadata": {
        "id": "AG9d4LVEdFjM"
      },
      "execution_count": null,
      "outputs": []
    },
    {
      "cell_type": "code",
      "source": [
        "def last_three(num):\n",
        "  return int(str(num)[-4:])\n",
        "\n",
        "def Initial(name):\n",
        "  return (name[0])"
      ],
      "metadata": {
        "id": "JJoTycRAdNvf"
      },
      "execution_count": null,
      "outputs": []
    },
    {
      "cell_type": "code",
      "source": [
        "f.insert(10,'cvv',f['CC Number'].apply(last_three))\n",
        "f.insert(9,'Initial',f['Payer Name'].apply(Initial))"
      ],
      "metadata": {
        "id": "uoeo9cKMei4y"
      },
      "execution_count": null,
      "outputs": []
    },
    {
      "cell_type": "code",
      "source": [
        "f.head()"
      ],
      "metadata": {
        "id": "-wuLF6AcfK5v"
      },
      "execution_count": null,
      "outputs": []
    },
    {
      "cell_type": "code",
      "source": [
        "f=f.rename(columns={'cvv':\"CVV\"})"
      ],
      "metadata": {
        "id": "w4_oJSXmfk03"
      },
      "execution_count": null,
      "outputs": []
    },
    {
      "cell_type": "code",
      "source": [
        "f.head()"
      ],
      "metadata": {
        "id": "HSg5Pbvuf2XU"
      },
      "execution_count": null,
      "outputs": []
    },
    {
      "cell_type": "code",
      "source": [
        "def review(price):\n",
        "  if price<10:\n",
        "    return \"$\"\n",
        "  elif price>=10 and price<30:\n",
        "    return \"$$\"\n",
        "  else:\n",
        "    return \"$$$\""
      ],
      "metadata": {
        "id": "fDyVJAs_gRCB"
      },
      "execution_count": null,
      "outputs": []
    },
    {
      "cell_type": "code",
      "source": [
        "f[\"Review\"]=f['total_bill'].apply(review)"
      ],
      "metadata": {
        "id": "s2vVyzt8gygt"
      },
      "execution_count": null,
      "outputs": []
    },
    {
      "cell_type": "code",
      "source": [
        "f.head()"
      ],
      "metadata": {
        "id": "8QMDr9Zcg9om"
      },
      "execution_count": null,
      "outputs": []
    },
    {
      "cell_type": "code",
      "source": [
        "f[((f['Review']==\"$$$\")&(f['sex']=='Male')&(f['day']!=\"Sat\")&(f['day']!=\"Sun\")&(f['size']>3)|(f['sex']==\"Female\"))]"
      ],
      "metadata": {
        "id": "EaN60jP3hJcH"
      },
      "execution_count": null,
      "outputs": []
    },
    {
      "cell_type": "code",
      "source": [
        "y=lambda x,y:x+5+y\n",
        "y(5,10)"
      ],
      "metadata": {
        "id": "vah51Gk2iX5N"
      },
      "execution_count": null,
      "outputs": []
    },
    {
      "cell_type": "code",
      "source": [
        "def quality(bill,tip):\n",
        "  if tip/bill>0.25:\n",
        "    return 'Generous'\n",
        "  else:\n",
        "    return 'Not Generous'"
      ],
      "metadata": {
        "id": "z_JYre7swgiO"
      },
      "execution_count": null,
      "outputs": []
    },
    {
      "cell_type": "code",
      "source": [
        "f[\"Quality\"]=f[['total_bill','tip']].apply(lambda f:quality(f['total_bill'],f['tip']),axis=1)"
      ],
      "metadata": {
        "id": "yUHpeu-9yCdp"
      },
      "execution_count": null,
      "outputs": []
    },
    {
      "cell_type": "code",
      "source": [
        "f.head()"
      ],
      "metadata": {
        "id": "Dq-ZrpKVzSaR"
      },
      "execution_count": null,
      "outputs": []
    },
    {
      "cell_type": "code",
      "source": [
        "f.head()"
      ],
      "metadata": {
        "id": "lksI2Q0nzaI8"
      },
      "execution_count": null,
      "outputs": []
    },
    {
      "cell_type": "code",
      "source": [
        "f=pd.read_csv('tips.csv')"
      ],
      "metadata": {
        "id": "UDpJABWtIsgA"
      },
      "execution_count": null,
      "outputs": []
    },
    {
      "cell_type": "code",
      "source": [
        "def quality(tip,price):\n",
        "  if tip/price>0.25:\n",
        "    return \"Generous\"\n",
        "  else:\n",
        "    return \"Not Generous\""
      ],
      "metadata": {
        "id": "bVkSYw7RJfg6"
      },
      "execution_count": null,
      "outputs": []
    },
    {
      "cell_type": "code",
      "source": [
        "f['Quality']=f[['tip','total_bill']].apply(lambda f:quality(f['tip'],f['total_bill']),axis=1)"
      ],
      "metadata": {
        "id": "Av0DUsxJJtpe"
      },
      "execution_count": null,
      "outputs": []
    },
    {
      "cell_type": "code",
      "source": [
        "f[f['Quality']==\"Generous\"]"
      ],
      "metadata": {
        "id": "cZnTVkYNKnBW"
      },
      "execution_count": null,
      "outputs": []
    },
    {
      "cell_type": "code",
      "source": [
        "def tiptop(bill,tip,size):\n",
        "  if size>3:\n",
        "    if bill>30 and tip>5:\n",
        "      return \"WOW\"\n",
        "    else:\n",
        "      return \"Not WOW\"\n",
        "  else:\n",
        "    return \"Simbly waste\""
      ],
      "metadata": {
        "id": "McsXRn_LKv46"
      },
      "execution_count": null,
      "outputs": []
    },
    {
      "cell_type": "code",
      "source": [
        "f[\"remark\"]=f[['total_bill','tip','size']].apply(lambda f: tiptop(f['total_bill'],f['tip'],f['size']),axis=1)"
      ],
      "metadata": {
        "id": "a5VniYNtLT3M"
      },
      "execution_count": null,
      "outputs": []
    },
    {
      "cell_type": "code",
      "source": [
        "f[f['remark']==\"WOW\"]"
      ],
      "metadata": {
        "id": "2Y0EBNvMMOxh"
      },
      "execution_count": null,
      "outputs": []
    },
    {
      "cell_type": "code",
      "source": [
        "f=f.drop('remark',axis=1)"
      ],
      "metadata": {
        "id": "kTtWnpWOMYAS"
      },
      "execution_count": null,
      "outputs": []
    },
    {
      "cell_type": "code",
      "source": [
        "f.head()"
      ],
      "metadata": {
        "id": "TtiY3Xa3MfBa"
      },
      "execution_count": null,
      "outputs": []
    },
    {
      "cell_type": "code",
      "source": [
        "f['remark']=np.vectorize(tiptop)(f['total_bill'],f['tip'],f['size']) #the purpose of numpy vectorize is to transform functios which are not numpy aware"
      ],
      "metadata": {
        "id": "6VhPqNjdMy9y"
      },
      "execution_count": null,
      "outputs": []
    },
    {
      "cell_type": "code",
      "source": [
        "f.head()"
      ],
      "metadata": {
        "id": "QDqZNwcmNCfT"
      },
      "execution_count": null,
      "outputs": []
    },
    {
      "cell_type": "code",
      "source": [
        "f.sort_values('tip')"
      ],
      "metadata": {
        "id": "FThtCu1LQuhk"
      },
      "execution_count": null,
      "outputs": []
    },
    {
      "cell_type": "code",
      "source": [
        "f.sort_values(['tip','total_bill'],ascending=False)"
      ],
      "metadata": {
        "id": "W5LHo7NIRh-n"
      },
      "execution_count": null,
      "outputs": []
    },
    {
      "cell_type": "code",
      "source": [
        "f['total_bill'].idxmin()#returns the index of the minimum value of the total bill"
      ],
      "metadata": {
        "id": "m8fFbvAjSCvm"
      },
      "execution_count": null,
      "outputs": []
    },
    {
      "cell_type": "code",
      "source": [
        "f.iloc[f['total_bill'].idxmin()]#this gives the row with minimum totalbill"
      ],
      "metadata": {
        "id": "p4O0vwKoSeHY"
      },
      "execution_count": null,
      "outputs": []
    },
    {
      "cell_type": "code",
      "source": [
        "f.corr()#this returns the correlation between the integers in the data"
      ],
      "metadata": {
        "id": "gqvi0a4mSnjf"
      },
      "execution_count": null,
      "outputs": []
    },
    {
      "cell_type": "code",
      "source": [
        "f['sex'].count()#returns the total count of the values"
      ],
      "metadata": {
        "id": "RW-3e0NtTrlw"
      },
      "execution_count": null,
      "outputs": []
    },
    {
      "cell_type": "code",
      "source": [
        "f['sex'].value_counts()#returns the count of specific types in the data as Males=157, females=87"
      ],
      "metadata": {
        "id": "v9MD9pLcT5O-"
      },
      "execution_count": null,
      "outputs": []
    },
    {
      "cell_type": "code",
      "source": [
        "f['size'].value_counts()"
      ],
      "metadata": {
        "id": "8wLyjs0tUKdI"
      },
      "execution_count": null,
      "outputs": []
    },
    {
      "cell_type": "code",
      "source": [
        "f['size'].unique()#return the unique values"
      ],
      "metadata": {
        "id": "HqLnO3vtUezQ"
      },
      "execution_count": null,
      "outputs": []
    },
    {
      "cell_type": "code",
      "source": [
        "f['size'].nunique()#returns the number of unique values"
      ],
      "metadata": {
        "id": "zLtd3sjyZDOo"
      },
      "execution_count": null,
      "outputs": []
    },
    {
      "cell_type": "code",
      "source": [
        "import pandas as pd\n",
        "import numpy as npm"
      ],
      "metadata": {
        "id": "S1p9MKfEZJVP"
      },
      "execution_count": null,
      "outputs": []
    },
    {
      "cell_type": "code",
      "source": [
        "from google.colab import files\n",
        "uploaded = files.upload()"
      ],
      "metadata": {
        "id": "QDf2d17nmSIC"
      },
      "execution_count": null,
      "outputs": []
    },
    {
      "cell_type": "code",
      "source": [
        "f=pd.read_csv('tips.csv')\n",
        "\n",
        "f['sex'].value_counts()"
      ],
      "metadata": {
        "id": "TY0JoBFKm2LS"
      },
      "execution_count": null,
      "outputs": []
    },
    {
      "cell_type": "code",
      "source": [
        "f['sex'].replace([\"Female\",\"Male\"],[\"F\",\"M\"])#used to replace a single value in a data"
      ],
      "metadata": {
        "id": "InMqmARmorFw"
      },
      "execution_count": null,
      "outputs": []
    },
    {
      "cell_type": "code",
      "source": [
        "my_map={\"Male\":\"M\",\"Female\":\"F\"}\n",
        "f['sex']=f['sex'].map(my_map)#this is used to replace a particular value in a row with other value\n",
        "                             #this accepts only dictionary and is suitable for replacing multiple values in a data"
      ],
      "metadata": {
        "id": "HqqrCpkSpmI6"
      },
      "execution_count": null,
      "outputs": []
    },
    {
      "cell_type": "code",
      "source": [
        "f.head()"
      ],
      "metadata": {
        "id": "h8NWbI5tp2Od"
      },
      "execution_count": null,
      "outputs": []
    },
    {
      "cell_type": "code",
      "source": [
        "dd=[1,2,3,2,1]\n",
        "\n",
        "dd=pd.DataFrame(dd,[\"a\",\"b\",\"c\",\"d\",\"e\"],[\"MF\"])\n",
        "dd"
      ],
      "metadata": {
        "id": "MyASlwJUqi9d"
      },
      "execution_count": null,
      "outputs": []
    },
    {
      "cell_type": "code",
      "source": [
        "dd.duplicated()# returns the boolean True if th evalues are repeated"
      ],
      "metadata": {
        "id": "NcdJehoi0wsp"
      },
      "execution_count": null,
      "outputs": []
    },
    {
      "cell_type": "code",
      "source": [
        "dd=dd.drop_duplicates()# drops or delete the duplicate values from the rows\n",
        "dd"
      ],
      "metadata": {
        "id": "aGRqEzeiqi3n"
      },
      "execution_count": null,
      "outputs": []
    },
    {
      "cell_type": "code",
      "source": [
        "(f['total_bill']<=20) & (f['total_bill']>=10)"
      ],
      "metadata": {
        "id": "FyLoc2B4r9UX"
      },
      "execution_count": null,
      "outputs": []
    },
    {
      "cell_type": "code",
      "source": [
        "f['total_bill'].between(10,20,inclusive=True)#returns the values between the given range and inclusive is used if the the end values are also included"
      ],
      "metadata": {
        "id": "jINdpkpQsVur"
      },
      "execution_count": null,
      "outputs": []
    },
    {
      "cell_type": "code",
      "source": [
        "f.sort_values('tip',ascending=False).iloc[0:2]"
      ],
      "metadata": {
        "id": "ocFmnz78zJ4y"
      },
      "execution_count": null,
      "outputs": []
    },
    {
      "cell_type": "code",
      "source": [
        "f.nsmallest(2,'tip')#this is similar to sort_values but return n values from the sorted order"
      ],
      "metadata": {
        "id": "9tvsTPknzZ56"
      },
      "execution_count": null,
      "outputs": []
    },
    {
      "cell_type": "code",
      "source": [
        "f.sample(frac=0.025)"
      ],
      "metadata": {
        "id": "ow8YpZkHz55U"
      },
      "execution_count": null,
      "outputs": []
    },
    {
      "cell_type": "code",
      "source": [
        "f.sort_values('tip',ascending=False)"
      ],
      "metadata": {
        "id": "XE2-64KS5XH1"
      },
      "execution_count": null,
      "outputs": []
    },
    {
      "cell_type": "code",
      "source": [
        "n=np.array([[1776,None,None,None],[1867,38,1.7,3.86],[1821,126,1.22,0.76]])"
      ],
      "metadata": {
        "id": "GYaHgK8F5fYD"
      },
      "execution_count": null,
      "outputs": []
    },
    {
      "cell_type": "code",
      "source": [
        "n=pd.DataFrame(n,[\"USA\",\"CANADA\",\"MEXICO\"],[\"Year\",\"Pop\",\"GDP\",\"Area\"])"
      ],
      "metadata": {
        "id": "7mTnBwd9_UJu"
      },
      "execution_count": null,
      "outputs": []
    },
    {
      "cell_type": "code",
      "source": [
        "n=n.drop(\"USA\")"
      ],
      "metadata": {
        "id": "ODdIQ3ic_oxr"
      },
      "execution_count": null,
      "outputs": []
    },
    {
      "cell_type": "code",
      "source": [
        "n=n.drop(\"Year\",axis=1)"
      ],
      "metadata": {
        "id": "2GqeDYjj_6c6"
      },
      "execution_count": null,
      "outputs": []
    },
    {
      "cell_type": "code",
      "source": [
        "n"
      ],
      "metadata": {
        "id": "xmJVsmw_FEhw"
      },
      "execution_count": null,
      "outputs": []
    },
    {
      "cell_type": "code",
      "source": [
        "np.nan"
      ],
      "metadata": {
        "id": "914PlDuoPOrB"
      },
      "execution_count": null,
      "outputs": []
    },
    {
      "cell_type": "code",
      "source": [
        "pd.NA"
      ],
      "metadata": {
        "id": "aw6y5bVfPWGe"
      },
      "execution_count": null,
      "outputs": []
    },
    {
      "cell_type": "code",
      "source": [
        "import numpy as np\n",
        "import pandas as pd"
      ],
      "metadata": {
        "id": "Im1o6wKdNRfO"
      },
      "execution_count": null,
      "outputs": []
    },
    {
      "cell_type": "code",
      "source": [
        "from google.colab import files\n",
        "uploaded=files.upload()"
      ],
      "metadata": {
        "id": "hy0AC08eNZul"
      },
      "execution_count": null,
      "outputs": []
    },
    {
      "cell_type": "code",
      "source": [
        "f=pd.read_csv(\"movie_scores.csv\")"
      ],
      "metadata": {
        "id": "Yz4WaVcGOfYC"
      },
      "execution_count": null,
      "outputs": []
    },
    {
      "cell_type": "code",
      "source": [
        "f.isnull()#returns the bool value for null values"
      ],
      "metadata": {
        "id": "VJ-NIimcOtNq"
      },
      "execution_count": null,
      "outputs": []
    },
    {
      "cell_type": "code",
      "source": [
        "f[(f['pre_movie_score'].isnull())&(f['sex'].notnull())]"
      ],
      "metadata": {
        "id": "RYIQHjwVO8te"
      },
      "execution_count": null,
      "outputs": []
    },
    {
      "cell_type": "code",
      "source": [
        "#KEEP DATA\n",
        "#DROP DATA\n",
        "#FILL DATA"
      ],
      "metadata": {
        "id": "Jq_-PeEoQNkO"
      },
      "execution_count": null,
      "outputs": []
    },
    {
      "cell_type": "code",
      "source": [
        "help(f.dropna)"
      ],
      "metadata": {
        "id": "kM2EO2O0RGuA"
      },
      "execution_count": null,
      "outputs": []
    },
    {
      "cell_type": "code",
      "source": [
        "f.dropna(how=\"all\")#used to drop the rows which has all values as Nan"
      ],
      "metadata": {
        "id": "nkJjGCRCSH_4"
      },
      "execution_count": null,
      "outputs": []
    },
    {
      "cell_type": "code",
      "source": [
        "f.dropna(subset=[\"sex\",'pre_movie_score'])#used to drop the rows which has NaN in the specified columns"
      ],
      "metadata": {
        "id": "8WA7WileSpgy"
      },
      "execution_count": null,
      "outputs": []
    },
    {
      "cell_type": "code",
      "source": [
        "f.dropna(axis=1)#drops the columns which has atleast oneNaN"
      ],
      "metadata": {
        "id": "jfYxYyg0TETa"
      },
      "execution_count": null,
      "outputs": []
    },
    {
      "cell_type": "code",
      "source": [
        "f.dropna(axis=1)"
      ],
      "metadata": {
        "id": "nzVKuqRbTurk"
      },
      "execution_count": null,
      "outputs": []
    },
    {
      "cell_type": "code",
      "source": [
        "help(f.fillna)"
      ],
      "metadata": {
        "id": "GI5BNWgUUWUO"
      },
      "execution_count": null,
      "outputs": []
    },
    {
      "cell_type": "code",
      "source": [
        "import pandas as pd"
      ],
      "metadata": {
        "id": "MxDB0U3J0xZY"
      },
      "execution_count": null,
      "outputs": []
    },
    {
      "cell_type": "code",
      "source": [
        "import numpy as np\n",
        "\n",
        "from google.colab import files\n",
        "uploaded = files.upload()"
      ],
      "metadata": {
        "id": "zcHtyUNe0zKf"
      },
      "execution_count": null,
      "outputs": []
    },
    {
      "cell_type": "code",
      "source": [
        "df = pd.read_csv(\"movie_scores.csv\")"
      ],
      "metadata": {
        "id": "2sjye_cM4Qb_"
      },
      "execution_count": null,
      "outputs": []
    },
    {
      "cell_type": "code",
      "source": [
        "df"
      ],
      "metadata": {
        "id": "CJFMxTpM5r7U"
      },
      "execution_count": null,
      "outputs": []
    },
    {
      "cell_type": "code",
      "source": [
        "df[df['pre_movie_score'].notnull()]"
      ],
      "metadata": {
        "id": "kLVg6MVP5x8V"
      },
      "execution_count": null,
      "outputs": []
    },
    {
      "cell_type": "code",
      "source": [
        "df[df['pre_movie_score'].isnull()&df['sex'].notnull()]"
      ],
      "metadata": {
        "id": "3r7QUtFv55g8"
      },
      "execution_count": null,
      "outputs": []
    },
    {
      "cell_type": "code",
      "source": [
        "df.fillna('New Value!')#fills parameter in all places of NA"
      ],
      "metadata": {
        "id": "lNJz8Yfv6MJG"
      },
      "execution_count": null,
      "outputs": []
    },
    {
      "cell_type": "code",
      "source": [
        "df"
      ],
      "metadata": {
        "id": "wQU7xBf47Ljx"
      },
      "execution_count": null,
      "outputs": []
    },
    {
      "cell_type": "code",
      "source": [
        "df['pre_movie_score']=df['pre_movie_score'].fillna(0)#used to fill a particular column which has NA"
      ],
      "metadata": {
        "id": "PKVKJD2Q7VpR"
      },
      "execution_count": null,
      "outputs": []
    },
    {
      "cell_type": "code",
      "source": [
        "df = pd.read_csv(\"movie_scores.csv\")"
      ],
      "metadata": {
        "id": "DbE4IbIE7idN"
      },
      "execution_count": null,
      "outputs": []
    },
    {
      "cell_type": "code",
      "source": [
        "df"
      ],
      "metadata": {
        "id": "L2MT-Dc873QB"
      },
      "execution_count": null,
      "outputs": []
    },
    {
      "cell_type": "code",
      "source": [
        "df['pre_movie_score'].mean()#returns the mean of the particular column(only with int)"
      ],
      "metadata": {
        "id": "jJzOfdkF76FY"
      },
      "execution_count": null,
      "outputs": []
    },
    {
      "cell_type": "code",
      "source": [
        "df.fillna(df.mean())#this wil;l automatically fill the na in numeric columns with the mean of the column"
      ],
      "metadata": {
        "id": "VSlWcmeG-oyJ"
      },
      "execution_count": null,
      "outputs": []
    },
    {
      "cell_type": "code",
      "source": [
        "airline_tix = {'first':100, 'bussiness':np.nan, 'economy-plus':50, 'economy':30}\n",
        "ser = pd.Series(airline_tix)"
      ],
      "metadata": {
        "id": "qSmK1Iw_-5bv"
      },
      "execution_count": null,
      "outputs": []
    },
    {
      "cell_type": "code",
      "source": [
        "ser"
      ],
      "metadata": {
        "id": "p0lAG9yz_g36"
      },
      "execution_count": null,
      "outputs": []
    },
    {
      "cell_type": "code",
      "source": [
        "ser.interpolate()#fills the NAN in numeric column with a value which is mean of before and after value, mostly preffered for ordered values"
      ],
      "metadata": {
        "id": "OOlAhOQZ_h80"
      },
      "execution_count": null,
      "outputs": []
    },
    {
      "cell_type": "code",
      "source": [
        "from google.colab import files\n",
        "uploaded = files.upload()"
      ],
      "metadata": {
        "id": "nropRbY_AbMo"
      },
      "execution_count": null,
      "outputs": []
    },
    {
      "cell_type": "code",
      "source": [
        "df = pd.read_csv(\"mpg.csv\")"
      ],
      "metadata": {
        "id": "k9wVsxidE5M2"
      },
      "execution_count": null,
      "outputs": []
    },
    {
      "cell_type": "code",
      "source": [
        "df.head()"
      ],
      "metadata": {
        "id": "556lkelTGvwx"
      },
      "execution_count": null,
      "outputs": []
    },
    {
      "cell_type": "code",
      "source": [
        "df.groupby('model_year').mean()#takes model year as index and returns the mean of the other column with numerical value"
      ],
      "metadata": {
        "id": "538rqkamGypa"
      },
      "execution_count": null,
      "outputs": []
    },
    {
      "cell_type": "code",
      "source": [
        "df.groupby('model_year').mean()['mpg']#returns only the mean of mpg"
      ],
      "metadata": {
        "id": "fu3joKhTHH7S"
      },
      "execution_count": null,
      "outputs": []
    },
    {
      "cell_type": "code",
      "source": [
        "df.groupby('model_year').mean()[['mpg','cylinders', 'weight']] #return the mean of the list elements"
      ],
      "metadata": {
        "id": "XYxiTJrLHT4n"
      },
      "execution_count": null,
      "outputs": []
    },
    {
      "cell_type": "code",
      "source": [
        "df.groupby(['model_year', 'cylinders']).mean()"
      ],
      "metadata": {
        "id": "mqdM-LElJ1sV"
      },
      "execution_count": null,
      "outputs": []
    },
    {
      "cell_type": "code",
      "source": [
        "df.groupby(['model_year', 'cylinders']).mean().columns"
      ],
      "metadata": {
        "id": "uuNZ4AMgO2Su"
      },
      "execution_count": null,
      "outputs": []
    },
    {
      "cell_type": "code",
      "source": [
        "df.groupby(['model_year', 'cylinders']).mean()['mpg']"
      ],
      "metadata": {
        "id": "yOswRn4-PHYq"
      },
      "execution_count": null,
      "outputs": []
    },
    {
      "cell_type": "code",
      "source": [
        "df.groupby('model_year').describe().head().transpose()"
      ],
      "metadata": {
        "id": "WdJINDQOkhCk"
      },
      "execution_count": null,
      "outputs": []
    },
    {
      "cell_type": "code",
      "source": [
        " yearcyl = df.groupby(['model_year', 'cylinders']).mean()\n",
        " yearcyl"
      ],
      "metadata": {
        "id": "-eSK6z8MkwgU"
      },
      "execution_count": null,
      "outputs": []
    },
    {
      "cell_type": "code",
      "source": [
        "yearcyl.index.names#returns name of the index in the Dataset"
      ],
      "metadata": {
        "id": "SJ9xAdr7laSd"
      },
      "execution_count": null,
      "outputs": []
    },
    {
      "cell_type": "code",
      "source": [
        "yearcyl.index.levels#return the levels or range of index"
      ],
      "metadata": {
        "id": "FBJlw_FoljsE"
      },
      "execution_count": null,
      "outputs": []
    },
    {
      "cell_type": "code",
      "source": [
        "yearcyl.loc[70]#normally looks for the outermost index"
      ],
      "metadata": {
        "id": "WTDGO3zHl3G8"
      },
      "execution_count": null,
      "outputs": []
    },
    {
      "cell_type": "code",
      "source": [
        "yearcyl.loc[[70,82]]"
      ],
      "metadata": {
        "id": "AM-I3TJamvuc"
      },
      "execution_count": null,
      "outputs": []
    },
    {
      "cell_type": "code",
      "source": [
        "yearcyl.loc[(70,4)]#tuple is passed to selecxt the inner index(70,4) in 70th index 4th index"
      ],
      "metadata": {
        "id": "P3Hny-T8m_Fz"
      },
      "execution_count": null,
      "outputs": []
    },
    {
      "cell_type": "code",
      "source": [
        "yearcyl.xs(key=70,level='model_year')#cross section is used to select values only on basis of inner index and it cannot accept list of keys"
      ],
      "metadata": {
        "id": "Bln65WF6nPEI"
      },
      "execution_count": null,
      "outputs": []
    },
    {
      "cell_type": "code",
      "source": [
        "yearcyl.xs(key=4, level='cylinders')#in this in the cylinder index the value 4 is selected from all the years"
      ],
      "metadata": {
        "id": "fwaz73Ir1G5P"
      },
      "execution_count": null,
      "outputs": []
    },
    {
      "cell_type": "code",
      "source": [
        "yearcyl.swaplevel()"
      ],
      "metadata": {
        "id": "47u2cMs92kgi"
      },
      "execution_count": null,
      "outputs": []
    },
    {
      "cell_type": "code",
      "source": [
        "yearcyl.head()"
      ],
      "metadata": {
        "id": "k2OnVal33nzn"
      },
      "execution_count": null,
      "outputs": []
    },
    {
      "cell_type": "code",
      "source": [
        "df.agg(['std','mean'])#used to get the mean and the std dev of the cols(used to get multiple calculated values of the cols)"
      ],
      "metadata": {
        "id": "uksXBoca3rrV"
      },
      "execution_count": null,
      "outputs": []
    },
    {
      "cell_type": "code",
      "source": [
        "df.agg(['std','mean'])['mpg']"
      ],
      "metadata": {
        "id": "xYTN7qEa5DjO"
      },
      "execution_count": null,
      "outputs": []
    },
    {
      "cell_type": "code",
      "source": [
        "df.agg({'mpg':['max','mean'], 'weight':['mean','min']})#used to get particular cols with specific attributes and it returns NaN for uncalled attributes of the rows"
      ],
      "metadata": {
        "id": "xFF1iRfS5Jfd"
      },
      "execution_count": null,
      "outputs": []
    },
    {
      "cell_type": "code",
      "source": [
        "import pandas as pd\n",
        "import numpy as np"
      ],
      "metadata": {
        "id": "RS_n1ORL5ohx"
      },
      "execution_count": null,
      "outputs": []
    },
    {
      "cell_type": "code",
      "source": [
        "data_one = {'A':['A0', 'A1', 'A2', 'A3'], 'B':['B0','B1','B2','B3']}\n",
        "data_two = {'C':['C0','C1','C2','C3'], 'D':['D0','D1','D2','D3']}"
      ],
      "metadata": {
        "id": "3dlMHUMG9lJu"
      },
      "execution_count": null,
      "outputs": []
    },
    {
      "cell_type": "code",
      "source": [
        "one = pd.DataFrame(data_one)\n",
        "two = pd.DataFrame(data_two)"
      ],
      "metadata": {
        "id": "QKRRBuBM-Kj-"
      },
      "execution_count": null,
      "outputs": []
    },
    {
      "cell_type": "code",
      "source": [
        "one"
      ],
      "metadata": {
        "colab": {
          "base_uri": "https://localhost:8080/",
          "height": 174
        },
        "id": "JyzHD_bv-VHs",
        "outputId": "cc5f71cc-7216-4c4a-89f2-9c18e4f0638d"
      },
      "execution_count": null,
      "outputs": [
        {
          "output_type": "execute_result",
          "data": {
            "text/html": [
              "\n",
              "  <div id=\"df-1e15783d-3e1b-4f94-856a-58e17ec9c50d\">\n",
              "    <div class=\"colab-df-container\">\n",
              "      <div>\n",
              "<style scoped>\n",
              "    .dataframe tbody tr th:only-of-type {\n",
              "        vertical-align: middle;\n",
              "    }\n",
              "\n",
              "    .dataframe tbody tr th {\n",
              "        vertical-align: top;\n",
              "    }\n",
              "\n",
              "    .dataframe thead th {\n",
              "        text-align: right;\n",
              "    }\n",
              "</style>\n",
              "<table border=\"1\" class=\"dataframe\">\n",
              "  <thead>\n",
              "    <tr style=\"text-align: right;\">\n",
              "      <th></th>\n",
              "      <th>A</th>\n",
              "      <th>B</th>\n",
              "    </tr>\n",
              "  </thead>\n",
              "  <tbody>\n",
              "    <tr>\n",
              "      <th>0</th>\n",
              "      <td>A0</td>\n",
              "      <td>B0</td>\n",
              "    </tr>\n",
              "    <tr>\n",
              "      <th>1</th>\n",
              "      <td>A1</td>\n",
              "      <td>B1</td>\n",
              "    </tr>\n",
              "    <tr>\n",
              "      <th>2</th>\n",
              "      <td>A2</td>\n",
              "      <td>B2</td>\n",
              "    </tr>\n",
              "    <tr>\n",
              "      <th>3</th>\n",
              "      <td>A3</td>\n",
              "      <td>B3</td>\n",
              "    </tr>\n",
              "  </tbody>\n",
              "</table>\n",
              "</div>\n",
              "      <button class=\"colab-df-convert\" onclick=\"convertToInteractive('df-1e15783d-3e1b-4f94-856a-58e17ec9c50d')\"\n",
              "              title=\"Convert this dataframe to an interactive table.\"\n",
              "              style=\"display:none;\">\n",
              "        \n",
              "  <svg xmlns=\"http://www.w3.org/2000/svg\" height=\"24px\"viewBox=\"0 0 24 24\"\n",
              "       width=\"24px\">\n",
              "    <path d=\"M0 0h24v24H0V0z\" fill=\"none\"/>\n",
              "    <path d=\"M18.56 5.44l.94 2.06.94-2.06 2.06-.94-2.06-.94-.94-2.06-.94 2.06-2.06.94zm-11 1L8.5 8.5l.94-2.06 2.06-.94-2.06-.94L8.5 2.5l-.94 2.06-2.06.94zm10 10l.94 2.06.94-2.06 2.06-.94-2.06-.94-.94-2.06-.94 2.06-2.06.94z\"/><path d=\"M17.41 7.96l-1.37-1.37c-.4-.4-.92-.59-1.43-.59-.52 0-1.04.2-1.43.59L10.3 9.45l-7.72 7.72c-.78.78-.78 2.05 0 2.83L4 21.41c.39.39.9.59 1.41.59.51 0 1.02-.2 1.41-.59l7.78-7.78 2.81-2.81c.8-.78.8-2.07 0-2.86zM5.41 20L4 18.59l7.72-7.72 1.47 1.35L5.41 20z\"/>\n",
              "  </svg>\n",
              "      </button>\n",
              "      \n",
              "  <style>\n",
              "    .colab-df-container {\n",
              "      display:flex;\n",
              "      flex-wrap:wrap;\n",
              "      gap: 12px;\n",
              "    }\n",
              "\n",
              "    .colab-df-convert {\n",
              "      background-color: #E8F0FE;\n",
              "      border: none;\n",
              "      border-radius: 50%;\n",
              "      cursor: pointer;\n",
              "      display: none;\n",
              "      fill: #1967D2;\n",
              "      height: 32px;\n",
              "      padding: 0 0 0 0;\n",
              "      width: 32px;\n",
              "    }\n",
              "\n",
              "    .colab-df-convert:hover {\n",
              "      background-color: #E2EBFA;\n",
              "      box-shadow: 0px 1px 2px rgba(60, 64, 67, 0.3), 0px 1px 3px 1px rgba(60, 64, 67, 0.15);\n",
              "      fill: #174EA6;\n",
              "    }\n",
              "\n",
              "    [theme=dark] .colab-df-convert {\n",
              "      background-color: #3B4455;\n",
              "      fill: #D2E3FC;\n",
              "    }\n",
              "\n",
              "    [theme=dark] .colab-df-convert:hover {\n",
              "      background-color: #434B5C;\n",
              "      box-shadow: 0px 1px 3px 1px rgba(0, 0, 0, 0.15);\n",
              "      filter: drop-shadow(0px 1px 2px rgba(0, 0, 0, 0.3));\n",
              "      fill: #FFFFFF;\n",
              "    }\n",
              "  </style>\n",
              "\n",
              "      <script>\n",
              "        const buttonEl =\n",
              "          document.querySelector('#df-1e15783d-3e1b-4f94-856a-58e17ec9c50d button.colab-df-convert');\n",
              "        buttonEl.style.display =\n",
              "          google.colab.kernel.accessAllowed ? 'block' : 'none';\n",
              "\n",
              "        async function convertToInteractive(key) {\n",
              "          const element = document.querySelector('#df-1e15783d-3e1b-4f94-856a-58e17ec9c50d');\n",
              "          const dataTable =\n",
              "            await google.colab.kernel.invokeFunction('convertToInteractive',\n",
              "                                                     [key], {});\n",
              "          if (!dataTable) return;\n",
              "\n",
              "          const docLinkHtml = 'Like what you see? Visit the ' +\n",
              "            '<a target=\"_blank\" href=https://colab.research.google.com/notebooks/data_table.ipynb>data table notebook</a>'\n",
              "            + ' to learn more about interactive tables.';\n",
              "          element.innerHTML = '';\n",
              "          dataTable['output_type'] = 'display_data';\n",
              "          await google.colab.output.renderOutput(dataTable, element);\n",
              "          const docLink = document.createElement('div');\n",
              "          docLink.innerHTML = docLinkHtml;\n",
              "          element.appendChild(docLink);\n",
              "        }\n",
              "      </script>\n",
              "    </div>\n",
              "  </div>\n",
              "  "
            ],
            "text/plain": [
              "    A   B\n",
              "0  A0  B0\n",
              "1  A1  B1\n",
              "2  A2  B2\n",
              "3  A3  B3"
            ]
          },
          "metadata": {},
          "execution_count": 14
        }
      ]
    },
    {
      "cell_type": "code",
      "source": [
        "two"
      ],
      "metadata": {
        "colab": {
          "base_uri": "https://localhost:8080/",
          "height": 174
        },
        "id": "e7SbXixD-Xiv",
        "outputId": "59115311-ea47-45aa-e006-0c7bc3879255"
      },
      "execution_count": null,
      "outputs": [
        {
          "output_type": "execute_result",
          "data": {
            "text/html": [
              "\n",
              "  <div id=\"df-2a149e4d-9516-4966-93c1-ff16151f2dfb\">\n",
              "    <div class=\"colab-df-container\">\n",
              "      <div>\n",
              "<style scoped>\n",
              "    .dataframe tbody tr th:only-of-type {\n",
              "        vertical-align: middle;\n",
              "    }\n",
              "\n",
              "    .dataframe tbody tr th {\n",
              "        vertical-align: top;\n",
              "    }\n",
              "\n",
              "    .dataframe thead th {\n",
              "        text-align: right;\n",
              "    }\n",
              "</style>\n",
              "<table border=\"1\" class=\"dataframe\">\n",
              "  <thead>\n",
              "    <tr style=\"text-align: right;\">\n",
              "      <th></th>\n",
              "      <th>C</th>\n",
              "      <th>D</th>\n",
              "    </tr>\n",
              "  </thead>\n",
              "  <tbody>\n",
              "    <tr>\n",
              "      <th>0</th>\n",
              "      <td>C0</td>\n",
              "      <td>D0</td>\n",
              "    </tr>\n",
              "    <tr>\n",
              "      <th>1</th>\n",
              "      <td>C1</td>\n",
              "      <td>D1</td>\n",
              "    </tr>\n",
              "    <tr>\n",
              "      <th>2</th>\n",
              "      <td>C2</td>\n",
              "      <td>D2</td>\n",
              "    </tr>\n",
              "    <tr>\n",
              "      <th>3</th>\n",
              "      <td>C3</td>\n",
              "      <td>D3</td>\n",
              "    </tr>\n",
              "  </tbody>\n",
              "</table>\n",
              "</div>\n",
              "      <button class=\"colab-df-convert\" onclick=\"convertToInteractive('df-2a149e4d-9516-4966-93c1-ff16151f2dfb')\"\n",
              "              title=\"Convert this dataframe to an interactive table.\"\n",
              "              style=\"display:none;\">\n",
              "        \n",
              "  <svg xmlns=\"http://www.w3.org/2000/svg\" height=\"24px\"viewBox=\"0 0 24 24\"\n",
              "       width=\"24px\">\n",
              "    <path d=\"M0 0h24v24H0V0z\" fill=\"none\"/>\n",
              "    <path d=\"M18.56 5.44l.94 2.06.94-2.06 2.06-.94-2.06-.94-.94-2.06-.94 2.06-2.06.94zm-11 1L8.5 8.5l.94-2.06 2.06-.94-2.06-.94L8.5 2.5l-.94 2.06-2.06.94zm10 10l.94 2.06.94-2.06 2.06-.94-2.06-.94-.94-2.06-.94 2.06-2.06.94z\"/><path d=\"M17.41 7.96l-1.37-1.37c-.4-.4-.92-.59-1.43-.59-.52 0-1.04.2-1.43.59L10.3 9.45l-7.72 7.72c-.78.78-.78 2.05 0 2.83L4 21.41c.39.39.9.59 1.41.59.51 0 1.02-.2 1.41-.59l7.78-7.78 2.81-2.81c.8-.78.8-2.07 0-2.86zM5.41 20L4 18.59l7.72-7.72 1.47 1.35L5.41 20z\"/>\n",
              "  </svg>\n",
              "      </button>\n",
              "      \n",
              "  <style>\n",
              "    .colab-df-container {\n",
              "      display:flex;\n",
              "      flex-wrap:wrap;\n",
              "      gap: 12px;\n",
              "    }\n",
              "\n",
              "    .colab-df-convert {\n",
              "      background-color: #E8F0FE;\n",
              "      border: none;\n",
              "      border-radius: 50%;\n",
              "      cursor: pointer;\n",
              "      display: none;\n",
              "      fill: #1967D2;\n",
              "      height: 32px;\n",
              "      padding: 0 0 0 0;\n",
              "      width: 32px;\n",
              "    }\n",
              "\n",
              "    .colab-df-convert:hover {\n",
              "      background-color: #E2EBFA;\n",
              "      box-shadow: 0px 1px 2px rgba(60, 64, 67, 0.3), 0px 1px 3px 1px rgba(60, 64, 67, 0.15);\n",
              "      fill: #174EA6;\n",
              "    }\n",
              "\n",
              "    [theme=dark] .colab-df-convert {\n",
              "      background-color: #3B4455;\n",
              "      fill: #D2E3FC;\n",
              "    }\n",
              "\n",
              "    [theme=dark] .colab-df-convert:hover {\n",
              "      background-color: #434B5C;\n",
              "      box-shadow: 0px 1px 3px 1px rgba(0, 0, 0, 0.15);\n",
              "      filter: drop-shadow(0px 1px 2px rgba(0, 0, 0, 0.3));\n",
              "      fill: #FFFFFF;\n",
              "    }\n",
              "  </style>\n",
              "\n",
              "      <script>\n",
              "        const buttonEl =\n",
              "          document.querySelector('#df-2a149e4d-9516-4966-93c1-ff16151f2dfb button.colab-df-convert');\n",
              "        buttonEl.style.display =\n",
              "          google.colab.kernel.accessAllowed ? 'block' : 'none';\n",
              "\n",
              "        async function convertToInteractive(key) {\n",
              "          const element = document.querySelector('#df-2a149e4d-9516-4966-93c1-ff16151f2dfb');\n",
              "          const dataTable =\n",
              "            await google.colab.kernel.invokeFunction('convertToInteractive',\n",
              "                                                     [key], {});\n",
              "          if (!dataTable) return;\n",
              "\n",
              "          const docLinkHtml = 'Like what you see? Visit the ' +\n",
              "            '<a target=\"_blank\" href=https://colab.research.google.com/notebooks/data_table.ipynb>data table notebook</a>'\n",
              "            + ' to learn more about interactive tables.';\n",
              "          element.innerHTML = '';\n",
              "          dataTable['output_type'] = 'display_data';\n",
              "          await google.colab.output.renderOutput(dataTable, element);\n",
              "          const docLink = document.createElement('div');\n",
              "          docLink.innerHTML = docLinkHtml;\n",
              "          element.appendChild(docLink);\n",
              "        }\n",
              "      </script>\n",
              "    </div>\n",
              "  </div>\n",
              "  "
            ],
            "text/plain": [
              "    C   D\n",
              "0  C0  D0\n",
              "1  C1  D1\n",
              "2  C2  D2\n",
              "3  C3  D3"
            ]
          },
          "metadata": {},
          "execution_count": 15
        }
      ]
    },
    {
      "cell_type": "code",
      "source": [
        "pd.concat([one,two])#thre is NaN in ther column C & D in first 4 rows because the values of C and D in first Dataset is unavailabe"
      ],
      "metadata": {
        "colab": {
          "base_uri": "https://localhost:8080/",
          "height": 300
        },
        "id": "1_Mc109mAT3c",
        "outputId": "fc40701c-94a3-475a-cf68-c6dd8a112651"
      },
      "execution_count": null,
      "outputs": [
        {
          "output_type": "execute_result",
          "data": {
            "text/html": [
              "\n",
              "  <div id=\"df-c3a9aac3-8349-4d18-a890-6571339b1a4e\">\n",
              "    <div class=\"colab-df-container\">\n",
              "      <div>\n",
              "<style scoped>\n",
              "    .dataframe tbody tr th:only-of-type {\n",
              "        vertical-align: middle;\n",
              "    }\n",
              "\n",
              "    .dataframe tbody tr th {\n",
              "        vertical-align: top;\n",
              "    }\n",
              "\n",
              "    .dataframe thead th {\n",
              "        text-align: right;\n",
              "    }\n",
              "</style>\n",
              "<table border=\"1\" class=\"dataframe\">\n",
              "  <thead>\n",
              "    <tr style=\"text-align: right;\">\n",
              "      <th></th>\n",
              "      <th>A</th>\n",
              "      <th>B</th>\n",
              "      <th>C</th>\n",
              "      <th>D</th>\n",
              "    </tr>\n",
              "  </thead>\n",
              "  <tbody>\n",
              "    <tr>\n",
              "      <th>0</th>\n",
              "      <td>A0</td>\n",
              "      <td>B0</td>\n",
              "      <td>NaN</td>\n",
              "      <td>NaN</td>\n",
              "    </tr>\n",
              "    <tr>\n",
              "      <th>1</th>\n",
              "      <td>A1</td>\n",
              "      <td>B1</td>\n",
              "      <td>NaN</td>\n",
              "      <td>NaN</td>\n",
              "    </tr>\n",
              "    <tr>\n",
              "      <th>2</th>\n",
              "      <td>A2</td>\n",
              "      <td>B2</td>\n",
              "      <td>NaN</td>\n",
              "      <td>NaN</td>\n",
              "    </tr>\n",
              "    <tr>\n",
              "      <th>3</th>\n",
              "      <td>A3</td>\n",
              "      <td>B3</td>\n",
              "      <td>NaN</td>\n",
              "      <td>NaN</td>\n",
              "    </tr>\n",
              "    <tr>\n",
              "      <th>0</th>\n",
              "      <td>NaN</td>\n",
              "      <td>NaN</td>\n",
              "      <td>C0</td>\n",
              "      <td>D0</td>\n",
              "    </tr>\n",
              "    <tr>\n",
              "      <th>1</th>\n",
              "      <td>NaN</td>\n",
              "      <td>NaN</td>\n",
              "      <td>C1</td>\n",
              "      <td>D1</td>\n",
              "    </tr>\n",
              "    <tr>\n",
              "      <th>2</th>\n",
              "      <td>NaN</td>\n",
              "      <td>NaN</td>\n",
              "      <td>C2</td>\n",
              "      <td>D2</td>\n",
              "    </tr>\n",
              "    <tr>\n",
              "      <th>3</th>\n",
              "      <td>NaN</td>\n",
              "      <td>NaN</td>\n",
              "      <td>C3</td>\n",
              "      <td>D3</td>\n",
              "    </tr>\n",
              "  </tbody>\n",
              "</table>\n",
              "</div>\n",
              "      <button class=\"colab-df-convert\" onclick=\"convertToInteractive('df-c3a9aac3-8349-4d18-a890-6571339b1a4e')\"\n",
              "              title=\"Convert this dataframe to an interactive table.\"\n",
              "              style=\"display:none;\">\n",
              "        \n",
              "  <svg xmlns=\"http://www.w3.org/2000/svg\" height=\"24px\"viewBox=\"0 0 24 24\"\n",
              "       width=\"24px\">\n",
              "    <path d=\"M0 0h24v24H0V0z\" fill=\"none\"/>\n",
              "    <path d=\"M18.56 5.44l.94 2.06.94-2.06 2.06-.94-2.06-.94-.94-2.06-.94 2.06-2.06.94zm-11 1L8.5 8.5l.94-2.06 2.06-.94-2.06-.94L8.5 2.5l-.94 2.06-2.06.94zm10 10l.94 2.06.94-2.06 2.06-.94-2.06-.94-.94-2.06-.94 2.06-2.06.94z\"/><path d=\"M17.41 7.96l-1.37-1.37c-.4-.4-.92-.59-1.43-.59-.52 0-1.04.2-1.43.59L10.3 9.45l-7.72 7.72c-.78.78-.78 2.05 0 2.83L4 21.41c.39.39.9.59 1.41.59.51 0 1.02-.2 1.41-.59l7.78-7.78 2.81-2.81c.8-.78.8-2.07 0-2.86zM5.41 20L4 18.59l7.72-7.72 1.47 1.35L5.41 20z\"/>\n",
              "  </svg>\n",
              "      </button>\n",
              "      \n",
              "  <style>\n",
              "    .colab-df-container {\n",
              "      display:flex;\n",
              "      flex-wrap:wrap;\n",
              "      gap: 12px;\n",
              "    }\n",
              "\n",
              "    .colab-df-convert {\n",
              "      background-color: #E8F0FE;\n",
              "      border: none;\n",
              "      border-radius: 50%;\n",
              "      cursor: pointer;\n",
              "      display: none;\n",
              "      fill: #1967D2;\n",
              "      height: 32px;\n",
              "      padding: 0 0 0 0;\n",
              "      width: 32px;\n",
              "    }\n",
              "\n",
              "    .colab-df-convert:hover {\n",
              "      background-color: #E2EBFA;\n",
              "      box-shadow: 0px 1px 2px rgba(60, 64, 67, 0.3), 0px 1px 3px 1px rgba(60, 64, 67, 0.15);\n",
              "      fill: #174EA6;\n",
              "    }\n",
              "\n",
              "    [theme=dark] .colab-df-convert {\n",
              "      background-color: #3B4455;\n",
              "      fill: #D2E3FC;\n",
              "    }\n",
              "\n",
              "    [theme=dark] .colab-df-convert:hover {\n",
              "      background-color: #434B5C;\n",
              "      box-shadow: 0px 1px 3px 1px rgba(0, 0, 0, 0.15);\n",
              "      filter: drop-shadow(0px 1px 2px rgba(0, 0, 0, 0.3));\n",
              "      fill: #FFFFFF;\n",
              "    }\n",
              "  </style>\n",
              "\n",
              "      <script>\n",
              "        const buttonEl =\n",
              "          document.querySelector('#df-c3a9aac3-8349-4d18-a890-6571339b1a4e button.colab-df-convert');\n",
              "        buttonEl.style.display =\n",
              "          google.colab.kernel.accessAllowed ? 'block' : 'none';\n",
              "\n",
              "        async function convertToInteractive(key) {\n",
              "          const element = document.querySelector('#df-c3a9aac3-8349-4d18-a890-6571339b1a4e');\n",
              "          const dataTable =\n",
              "            await google.colab.kernel.invokeFunction('convertToInteractive',\n",
              "                                                     [key], {});\n",
              "          if (!dataTable) return;\n",
              "\n",
              "          const docLinkHtml = 'Like what you see? Visit the ' +\n",
              "            '<a target=\"_blank\" href=https://colab.research.google.com/notebooks/data_table.ipynb>data table notebook</a>'\n",
              "            + ' to learn more about interactive tables.';\n",
              "          element.innerHTML = '';\n",
              "          dataTable['output_type'] = 'display_data';\n",
              "          await google.colab.output.renderOutput(dataTable, element);\n",
              "          const docLink = document.createElement('div');\n",
              "          docLink.innerHTML = docLinkHtml;\n",
              "          element.appendChild(docLink);\n",
              "        }\n",
              "      </script>\n",
              "    </div>\n",
              "  </div>\n",
              "  "
            ],
            "text/plain": [
              "     A    B    C    D\n",
              "0   A0   B0  NaN  NaN\n",
              "1   A1   B1  NaN  NaN\n",
              "2   A2   B2  NaN  NaN\n",
              "3   A3   B3  NaN  NaN\n",
              "0  NaN  NaN   C0   D0\n",
              "1  NaN  NaN   C1   D1\n",
              "2  NaN  NaN   C2   D2\n",
              "3  NaN  NaN   C3   D3"
            ]
          },
          "metadata": {},
          "execution_count": 16
        }
      ]
    },
    {
      "cell_type": "code",
      "source": [
        "pd.concat([one,two],axis=1)"
      ],
      "metadata": {
        "colab": {
          "base_uri": "https://localhost:8080/",
          "height": 174
        },
        "id": "dobl7nab-YZU",
        "outputId": "b670a1e2-898a-4080-f515-cb2646a2b558"
      },
      "execution_count": null,
      "outputs": [
        {
          "output_type": "execute_result",
          "data": {
            "text/html": [
              "\n",
              "  <div id=\"df-debdf05d-d74f-4d9e-b61c-0562b0336f66\">\n",
              "    <div class=\"colab-df-container\">\n",
              "      <div>\n",
              "<style scoped>\n",
              "    .dataframe tbody tr th:only-of-type {\n",
              "        vertical-align: middle;\n",
              "    }\n",
              "\n",
              "    .dataframe tbody tr th {\n",
              "        vertical-align: top;\n",
              "    }\n",
              "\n",
              "    .dataframe thead th {\n",
              "        text-align: right;\n",
              "    }\n",
              "</style>\n",
              "<table border=\"1\" class=\"dataframe\">\n",
              "  <thead>\n",
              "    <tr style=\"text-align: right;\">\n",
              "      <th></th>\n",
              "      <th>A</th>\n",
              "      <th>B</th>\n",
              "      <th>C</th>\n",
              "      <th>D</th>\n",
              "    </tr>\n",
              "  </thead>\n",
              "  <tbody>\n",
              "    <tr>\n",
              "      <th>0</th>\n",
              "      <td>A0</td>\n",
              "      <td>B0</td>\n",
              "      <td>C0</td>\n",
              "      <td>D0</td>\n",
              "    </tr>\n",
              "    <tr>\n",
              "      <th>1</th>\n",
              "      <td>A1</td>\n",
              "      <td>B1</td>\n",
              "      <td>C1</td>\n",
              "      <td>D1</td>\n",
              "    </tr>\n",
              "    <tr>\n",
              "      <th>2</th>\n",
              "      <td>A2</td>\n",
              "      <td>B2</td>\n",
              "      <td>C2</td>\n",
              "      <td>D2</td>\n",
              "    </tr>\n",
              "    <tr>\n",
              "      <th>3</th>\n",
              "      <td>A3</td>\n",
              "      <td>B3</td>\n",
              "      <td>C3</td>\n",
              "      <td>D3</td>\n",
              "    </tr>\n",
              "  </tbody>\n",
              "</table>\n",
              "</div>\n",
              "      <button class=\"colab-df-convert\" onclick=\"convertToInteractive('df-debdf05d-d74f-4d9e-b61c-0562b0336f66')\"\n",
              "              title=\"Convert this dataframe to an interactive table.\"\n",
              "              style=\"display:none;\">\n",
              "        \n",
              "  <svg xmlns=\"http://www.w3.org/2000/svg\" height=\"24px\"viewBox=\"0 0 24 24\"\n",
              "       width=\"24px\">\n",
              "    <path d=\"M0 0h24v24H0V0z\" fill=\"none\"/>\n",
              "    <path d=\"M18.56 5.44l.94 2.06.94-2.06 2.06-.94-2.06-.94-.94-2.06-.94 2.06-2.06.94zm-11 1L8.5 8.5l.94-2.06 2.06-.94-2.06-.94L8.5 2.5l-.94 2.06-2.06.94zm10 10l.94 2.06.94-2.06 2.06-.94-2.06-.94-.94-2.06-.94 2.06-2.06.94z\"/><path d=\"M17.41 7.96l-1.37-1.37c-.4-.4-.92-.59-1.43-.59-.52 0-1.04.2-1.43.59L10.3 9.45l-7.72 7.72c-.78.78-.78 2.05 0 2.83L4 21.41c.39.39.9.59 1.41.59.51 0 1.02-.2 1.41-.59l7.78-7.78 2.81-2.81c.8-.78.8-2.07 0-2.86zM5.41 20L4 18.59l7.72-7.72 1.47 1.35L5.41 20z\"/>\n",
              "  </svg>\n",
              "      </button>\n",
              "      \n",
              "  <style>\n",
              "    .colab-df-container {\n",
              "      display:flex;\n",
              "      flex-wrap:wrap;\n",
              "      gap: 12px;\n",
              "    }\n",
              "\n",
              "    .colab-df-convert {\n",
              "      background-color: #E8F0FE;\n",
              "      border: none;\n",
              "      border-radius: 50%;\n",
              "      cursor: pointer;\n",
              "      display: none;\n",
              "      fill: #1967D2;\n",
              "      height: 32px;\n",
              "      padding: 0 0 0 0;\n",
              "      width: 32px;\n",
              "    }\n",
              "\n",
              "    .colab-df-convert:hover {\n",
              "      background-color: #E2EBFA;\n",
              "      box-shadow: 0px 1px 2px rgba(60, 64, 67, 0.3), 0px 1px 3px 1px rgba(60, 64, 67, 0.15);\n",
              "      fill: #174EA6;\n",
              "    }\n",
              "\n",
              "    [theme=dark] .colab-df-convert {\n",
              "      background-color: #3B4455;\n",
              "      fill: #D2E3FC;\n",
              "    }\n",
              "\n",
              "    [theme=dark] .colab-df-convert:hover {\n",
              "      background-color: #434B5C;\n",
              "      box-shadow: 0px 1px 3px 1px rgba(0, 0, 0, 0.15);\n",
              "      filter: drop-shadow(0px 1px 2px rgba(0, 0, 0, 0.3));\n",
              "      fill: #FFFFFF;\n",
              "    }\n",
              "  </style>\n",
              "\n",
              "      <script>\n",
              "        const buttonEl =\n",
              "          document.querySelector('#df-debdf05d-d74f-4d9e-b61c-0562b0336f66 button.colab-df-convert');\n",
              "        buttonEl.style.display =\n",
              "          google.colab.kernel.accessAllowed ? 'block' : 'none';\n",
              "\n",
              "        async function convertToInteractive(key) {\n",
              "          const element = document.querySelector('#df-debdf05d-d74f-4d9e-b61c-0562b0336f66');\n",
              "          const dataTable =\n",
              "            await google.colab.kernel.invokeFunction('convertToInteractive',\n",
              "                                                     [key], {});\n",
              "          if (!dataTable) return;\n",
              "\n",
              "          const docLinkHtml = 'Like what you see? Visit the ' +\n",
              "            '<a target=\"_blank\" href=https://colab.research.google.com/notebooks/data_table.ipynb>data table notebook</a>'\n",
              "            + ' to learn more about interactive tables.';\n",
              "          element.innerHTML = '';\n",
              "          dataTable['output_type'] = 'display_data';\n",
              "          await google.colab.output.renderOutput(dataTable, element);\n",
              "          const docLink = document.createElement('div');\n",
              "          docLink.innerHTML = docLinkHtml;\n",
              "          element.appendChild(docLink);\n",
              "        }\n",
              "      </script>\n",
              "    </div>\n",
              "  </div>\n",
              "  "
            ],
            "text/plain": [
              "    A   B   C   D\n",
              "0  A0  B0  C0  D0\n",
              "1  A1  B1  C1  D1\n",
              "2  A2  B2  C2  D2\n",
              "3  A3  B3  C3  D3"
            ]
          },
          "metadata": {},
          "execution_count": 17
        }
      ]
    },
    {
      "cell_type": "code",
      "source": [
        "two.columns = one.columns#this is used to change the column name of two to columnn name of one"
      ],
      "metadata": {
        "id": "GfvUBpUxAvIY"
      },
      "execution_count": null,
      "outputs": []
    },
    {
      "cell_type": "code",
      "source": [
        "two"
      ],
      "metadata": {
        "colab": {
          "base_uri": "https://localhost:8080/",
          "height": 174
        },
        "id": "I0ajPoiDCU18",
        "outputId": "f1bb833c-3287-4228-a55f-cf289dff32ec"
      },
      "execution_count": null,
      "outputs": [
        {
          "output_type": "execute_result",
          "data": {
            "text/html": [
              "\n",
              "  <div id=\"df-2b2777f6-7ec8-460b-98ec-f3b96314acd2\">\n",
              "    <div class=\"colab-df-container\">\n",
              "      <div>\n",
              "<style scoped>\n",
              "    .dataframe tbody tr th:only-of-type {\n",
              "        vertical-align: middle;\n",
              "    }\n",
              "\n",
              "    .dataframe tbody tr th {\n",
              "        vertical-align: top;\n",
              "    }\n",
              "\n",
              "    .dataframe thead th {\n",
              "        text-align: right;\n",
              "    }\n",
              "</style>\n",
              "<table border=\"1\" class=\"dataframe\">\n",
              "  <thead>\n",
              "    <tr style=\"text-align: right;\">\n",
              "      <th></th>\n",
              "      <th>A</th>\n",
              "      <th>B</th>\n",
              "    </tr>\n",
              "  </thead>\n",
              "  <tbody>\n",
              "    <tr>\n",
              "      <th>0</th>\n",
              "      <td>C0</td>\n",
              "      <td>D0</td>\n",
              "    </tr>\n",
              "    <tr>\n",
              "      <th>1</th>\n",
              "      <td>C1</td>\n",
              "      <td>D1</td>\n",
              "    </tr>\n",
              "    <tr>\n",
              "      <th>2</th>\n",
              "      <td>C2</td>\n",
              "      <td>D2</td>\n",
              "    </tr>\n",
              "    <tr>\n",
              "      <th>3</th>\n",
              "      <td>C3</td>\n",
              "      <td>D3</td>\n",
              "    </tr>\n",
              "  </tbody>\n",
              "</table>\n",
              "</div>\n",
              "      <button class=\"colab-df-convert\" onclick=\"convertToInteractive('df-2b2777f6-7ec8-460b-98ec-f3b96314acd2')\"\n",
              "              title=\"Convert this dataframe to an interactive table.\"\n",
              "              style=\"display:none;\">\n",
              "        \n",
              "  <svg xmlns=\"http://www.w3.org/2000/svg\" height=\"24px\"viewBox=\"0 0 24 24\"\n",
              "       width=\"24px\">\n",
              "    <path d=\"M0 0h24v24H0V0z\" fill=\"none\"/>\n",
              "    <path d=\"M18.56 5.44l.94 2.06.94-2.06 2.06-.94-2.06-.94-.94-2.06-.94 2.06-2.06.94zm-11 1L8.5 8.5l.94-2.06 2.06-.94-2.06-.94L8.5 2.5l-.94 2.06-2.06.94zm10 10l.94 2.06.94-2.06 2.06-.94-2.06-.94-.94-2.06-.94 2.06-2.06.94z\"/><path d=\"M17.41 7.96l-1.37-1.37c-.4-.4-.92-.59-1.43-.59-.52 0-1.04.2-1.43.59L10.3 9.45l-7.72 7.72c-.78.78-.78 2.05 0 2.83L4 21.41c.39.39.9.59 1.41.59.51 0 1.02-.2 1.41-.59l7.78-7.78 2.81-2.81c.8-.78.8-2.07 0-2.86zM5.41 20L4 18.59l7.72-7.72 1.47 1.35L5.41 20z\"/>\n",
              "  </svg>\n",
              "      </button>\n",
              "      \n",
              "  <style>\n",
              "    .colab-df-container {\n",
              "      display:flex;\n",
              "      flex-wrap:wrap;\n",
              "      gap: 12px;\n",
              "    }\n",
              "\n",
              "    .colab-df-convert {\n",
              "      background-color: #E8F0FE;\n",
              "      border: none;\n",
              "      border-radius: 50%;\n",
              "      cursor: pointer;\n",
              "      display: none;\n",
              "      fill: #1967D2;\n",
              "      height: 32px;\n",
              "      padding: 0 0 0 0;\n",
              "      width: 32px;\n",
              "    }\n",
              "\n",
              "    .colab-df-convert:hover {\n",
              "      background-color: #E2EBFA;\n",
              "      box-shadow: 0px 1px 2px rgba(60, 64, 67, 0.3), 0px 1px 3px 1px rgba(60, 64, 67, 0.15);\n",
              "      fill: #174EA6;\n",
              "    }\n",
              "\n",
              "    [theme=dark] .colab-df-convert {\n",
              "      background-color: #3B4455;\n",
              "      fill: #D2E3FC;\n",
              "    }\n",
              "\n",
              "    [theme=dark] .colab-df-convert:hover {\n",
              "      background-color: #434B5C;\n",
              "      box-shadow: 0px 1px 3px 1px rgba(0, 0, 0, 0.15);\n",
              "      filter: drop-shadow(0px 1px 2px rgba(0, 0, 0, 0.3));\n",
              "      fill: #FFFFFF;\n",
              "    }\n",
              "  </style>\n",
              "\n",
              "      <script>\n",
              "        const buttonEl =\n",
              "          document.querySelector('#df-2b2777f6-7ec8-460b-98ec-f3b96314acd2 button.colab-df-convert');\n",
              "        buttonEl.style.display =\n",
              "          google.colab.kernel.accessAllowed ? 'block' : 'none';\n",
              "\n",
              "        async function convertToInteractive(key) {\n",
              "          const element = document.querySelector('#df-2b2777f6-7ec8-460b-98ec-f3b96314acd2');\n",
              "          const dataTable =\n",
              "            await google.colab.kernel.invokeFunction('convertToInteractive',\n",
              "                                                     [key], {});\n",
              "          if (!dataTable) return;\n",
              "\n",
              "          const docLinkHtml = 'Like what you see? Visit the ' +\n",
              "            '<a target=\"_blank\" href=https://colab.research.google.com/notebooks/data_table.ipynb>data table notebook</a>'\n",
              "            + ' to learn more about interactive tables.';\n",
              "          element.innerHTML = '';\n",
              "          dataTable['output_type'] = 'display_data';\n",
              "          await google.colab.output.renderOutput(dataTable, element);\n",
              "          const docLink = document.createElement('div');\n",
              "          docLink.innerHTML = docLinkHtml;\n",
              "          element.appendChild(docLink);\n",
              "        }\n",
              "      </script>\n",
              "    </div>\n",
              "  </div>\n",
              "  "
            ],
            "text/plain": [
              "    A   B\n",
              "0  C0  D0\n",
              "1  C1  D1\n",
              "2  C2  D2\n",
              "3  C3  D3"
            ]
          },
          "metadata": {},
          "execution_count": 19
        }
      ]
    },
    {
      "cell_type": "code",
      "source": [
        "pd.concat([one,two], ignore_index=True, sort = False)#the ignore_index is used to ignore the indexes of the DataFrames and create a new index"
      ],
      "metadata": {
        "colab": {
          "base_uri": "https://localhost:8080/",
          "height": 300
        },
        "id": "Xa30YdpACYGi",
        "outputId": "c2492c1c-520a-4bde-b98d-5630461796cc"
      },
      "execution_count": null,
      "outputs": [
        {
          "output_type": "execute_result",
          "data": {
            "text/html": [
              "\n",
              "  <div id=\"df-7d652923-e933-4ff0-8331-a90cdbca4e9f\">\n",
              "    <div class=\"colab-df-container\">\n",
              "      <div>\n",
              "<style scoped>\n",
              "    .dataframe tbody tr th:only-of-type {\n",
              "        vertical-align: middle;\n",
              "    }\n",
              "\n",
              "    .dataframe tbody tr th {\n",
              "        vertical-align: top;\n",
              "    }\n",
              "\n",
              "    .dataframe thead th {\n",
              "        text-align: right;\n",
              "    }\n",
              "</style>\n",
              "<table border=\"1\" class=\"dataframe\">\n",
              "  <thead>\n",
              "    <tr style=\"text-align: right;\">\n",
              "      <th></th>\n",
              "      <th>A</th>\n",
              "      <th>B</th>\n",
              "    </tr>\n",
              "  </thead>\n",
              "  <tbody>\n",
              "    <tr>\n",
              "      <th>0</th>\n",
              "      <td>A0</td>\n",
              "      <td>B0</td>\n",
              "    </tr>\n",
              "    <tr>\n",
              "      <th>1</th>\n",
              "      <td>A1</td>\n",
              "      <td>B1</td>\n",
              "    </tr>\n",
              "    <tr>\n",
              "      <th>2</th>\n",
              "      <td>A2</td>\n",
              "      <td>B2</td>\n",
              "    </tr>\n",
              "    <tr>\n",
              "      <th>3</th>\n",
              "      <td>A3</td>\n",
              "      <td>B3</td>\n",
              "    </tr>\n",
              "    <tr>\n",
              "      <th>4</th>\n",
              "      <td>C0</td>\n",
              "      <td>D0</td>\n",
              "    </tr>\n",
              "    <tr>\n",
              "      <th>5</th>\n",
              "      <td>C1</td>\n",
              "      <td>D1</td>\n",
              "    </tr>\n",
              "    <tr>\n",
              "      <th>6</th>\n",
              "      <td>C2</td>\n",
              "      <td>D2</td>\n",
              "    </tr>\n",
              "    <tr>\n",
              "      <th>7</th>\n",
              "      <td>C3</td>\n",
              "      <td>D3</td>\n",
              "    </tr>\n",
              "  </tbody>\n",
              "</table>\n",
              "</div>\n",
              "      <button class=\"colab-df-convert\" onclick=\"convertToInteractive('df-7d652923-e933-4ff0-8331-a90cdbca4e9f')\"\n",
              "              title=\"Convert this dataframe to an interactive table.\"\n",
              "              style=\"display:none;\">\n",
              "        \n",
              "  <svg xmlns=\"http://www.w3.org/2000/svg\" height=\"24px\"viewBox=\"0 0 24 24\"\n",
              "       width=\"24px\">\n",
              "    <path d=\"M0 0h24v24H0V0z\" fill=\"none\"/>\n",
              "    <path d=\"M18.56 5.44l.94 2.06.94-2.06 2.06-.94-2.06-.94-.94-2.06-.94 2.06-2.06.94zm-11 1L8.5 8.5l.94-2.06 2.06-.94-2.06-.94L8.5 2.5l-.94 2.06-2.06.94zm10 10l.94 2.06.94-2.06 2.06-.94-2.06-.94-.94-2.06-.94 2.06-2.06.94z\"/><path d=\"M17.41 7.96l-1.37-1.37c-.4-.4-.92-.59-1.43-.59-.52 0-1.04.2-1.43.59L10.3 9.45l-7.72 7.72c-.78.78-.78 2.05 0 2.83L4 21.41c.39.39.9.59 1.41.59.51 0 1.02-.2 1.41-.59l7.78-7.78 2.81-2.81c.8-.78.8-2.07 0-2.86zM5.41 20L4 18.59l7.72-7.72 1.47 1.35L5.41 20z\"/>\n",
              "  </svg>\n",
              "      </button>\n",
              "      \n",
              "  <style>\n",
              "    .colab-df-container {\n",
              "      display:flex;\n",
              "      flex-wrap:wrap;\n",
              "      gap: 12px;\n",
              "    }\n",
              "\n",
              "    .colab-df-convert {\n",
              "      background-color: #E8F0FE;\n",
              "      border: none;\n",
              "      border-radius: 50%;\n",
              "      cursor: pointer;\n",
              "      display: none;\n",
              "      fill: #1967D2;\n",
              "      height: 32px;\n",
              "      padding: 0 0 0 0;\n",
              "      width: 32px;\n",
              "    }\n",
              "\n",
              "    .colab-df-convert:hover {\n",
              "      background-color: #E2EBFA;\n",
              "      box-shadow: 0px 1px 2px rgba(60, 64, 67, 0.3), 0px 1px 3px 1px rgba(60, 64, 67, 0.15);\n",
              "      fill: #174EA6;\n",
              "    }\n",
              "\n",
              "    [theme=dark] .colab-df-convert {\n",
              "      background-color: #3B4455;\n",
              "      fill: #D2E3FC;\n",
              "    }\n",
              "\n",
              "    [theme=dark] .colab-df-convert:hover {\n",
              "      background-color: #434B5C;\n",
              "      box-shadow: 0px 1px 3px 1px rgba(0, 0, 0, 0.15);\n",
              "      filter: drop-shadow(0px 1px 2px rgba(0, 0, 0, 0.3));\n",
              "      fill: #FFFFFF;\n",
              "    }\n",
              "  </style>\n",
              "\n",
              "      <script>\n",
              "        const buttonEl =\n",
              "          document.querySelector('#df-7d652923-e933-4ff0-8331-a90cdbca4e9f button.colab-df-convert');\n",
              "        buttonEl.style.display =\n",
              "          google.colab.kernel.accessAllowed ? 'block' : 'none';\n",
              "\n",
              "        async function convertToInteractive(key) {\n",
              "          const element = document.querySelector('#df-7d652923-e933-4ff0-8331-a90cdbca4e9f');\n",
              "          const dataTable =\n",
              "            await google.colab.kernel.invokeFunction('convertToInteractive',\n",
              "                                                     [key], {});\n",
              "          if (!dataTable) return;\n",
              "\n",
              "          const docLinkHtml = 'Like what you see? Visit the ' +\n",
              "            '<a target=\"_blank\" href=https://colab.research.google.com/notebooks/data_table.ipynb>data table notebook</a>'\n",
              "            + ' to learn more about interactive tables.';\n",
              "          element.innerHTML = '';\n",
              "          dataTable['output_type'] = 'display_data';\n",
              "          await google.colab.output.renderOutput(dataTable, element);\n",
              "          const docLink = document.createElement('div');\n",
              "          docLink.innerHTML = docLinkHtml;\n",
              "          element.appendChild(docLink);\n",
              "        }\n",
              "      </script>\n",
              "    </div>\n",
              "  </div>\n",
              "  "
            ],
            "text/plain": [
              "    A   B\n",
              "0  A0  B0\n",
              "1  A1  B1\n",
              "2  A2  B2\n",
              "3  A3  B3\n",
              "4  C0  D0\n",
              "5  C1  D1\n",
              "6  C2  D2\n",
              "7  C3  D3"
            ]
          },
          "metadata": {},
          "execution_count": 20
        }
      ]
    },
    {
      "cell_type": "code",
      "source": [
        "reg = pd.DataFrame({'reg_id':[1,2,3,4],'name':['Andrew','Bobo','Claire','David']})\n",
        "log = pd.DataFrame({'log_id':[1,2,3,4],'name':['Xavier','Andrew','Yolanda','Bobo']})"
      ],
      "metadata": {
        "id": "PXwhYzfdCcfT"
      },
      "execution_count": null,
      "outputs": []
    },
    {
      "cell_type": "code",
      "source": [
        "reg"
      ],
      "metadata": {
        "colab": {
          "base_uri": "https://localhost:8080/",
          "height": 174
        },
        "id": "oruFjK8yHtE1",
        "outputId": "049e9957-8928-4c20-a800-e64b45e12ec5"
      },
      "execution_count": null,
      "outputs": [
        {
          "output_type": "execute_result",
          "data": {
            "text/html": [
              "\n",
              "  <div id=\"df-52a1e798-ed72-4686-950e-18faff783722\">\n",
              "    <div class=\"colab-df-container\">\n",
              "      <div>\n",
              "<style scoped>\n",
              "    .dataframe tbody tr th:only-of-type {\n",
              "        vertical-align: middle;\n",
              "    }\n",
              "\n",
              "    .dataframe tbody tr th {\n",
              "        vertical-align: top;\n",
              "    }\n",
              "\n",
              "    .dataframe thead th {\n",
              "        text-align: right;\n",
              "    }\n",
              "</style>\n",
              "<table border=\"1\" class=\"dataframe\">\n",
              "  <thead>\n",
              "    <tr style=\"text-align: right;\">\n",
              "      <th></th>\n",
              "      <th>reg_id</th>\n",
              "      <th>name</th>\n",
              "    </tr>\n",
              "  </thead>\n",
              "  <tbody>\n",
              "    <tr>\n",
              "      <th>0</th>\n",
              "      <td>1</td>\n",
              "      <td>Andrew</td>\n",
              "    </tr>\n",
              "    <tr>\n",
              "      <th>1</th>\n",
              "      <td>2</td>\n",
              "      <td>Bobo</td>\n",
              "    </tr>\n",
              "    <tr>\n",
              "      <th>2</th>\n",
              "      <td>3</td>\n",
              "      <td>Claire</td>\n",
              "    </tr>\n",
              "    <tr>\n",
              "      <th>3</th>\n",
              "      <td>4</td>\n",
              "      <td>David</td>\n",
              "    </tr>\n",
              "  </tbody>\n",
              "</table>\n",
              "</div>\n",
              "      <button class=\"colab-df-convert\" onclick=\"convertToInteractive('df-52a1e798-ed72-4686-950e-18faff783722')\"\n",
              "              title=\"Convert this dataframe to an interactive table.\"\n",
              "              style=\"display:none;\">\n",
              "        \n",
              "  <svg xmlns=\"http://www.w3.org/2000/svg\" height=\"24px\"viewBox=\"0 0 24 24\"\n",
              "       width=\"24px\">\n",
              "    <path d=\"M0 0h24v24H0V0z\" fill=\"none\"/>\n",
              "    <path d=\"M18.56 5.44l.94 2.06.94-2.06 2.06-.94-2.06-.94-.94-2.06-.94 2.06-2.06.94zm-11 1L8.5 8.5l.94-2.06 2.06-.94-2.06-.94L8.5 2.5l-.94 2.06-2.06.94zm10 10l.94 2.06.94-2.06 2.06-.94-2.06-.94-.94-2.06-.94 2.06-2.06.94z\"/><path d=\"M17.41 7.96l-1.37-1.37c-.4-.4-.92-.59-1.43-.59-.52 0-1.04.2-1.43.59L10.3 9.45l-7.72 7.72c-.78.78-.78 2.05 0 2.83L4 21.41c.39.39.9.59 1.41.59.51 0 1.02-.2 1.41-.59l7.78-7.78 2.81-2.81c.8-.78.8-2.07 0-2.86zM5.41 20L4 18.59l7.72-7.72 1.47 1.35L5.41 20z\"/>\n",
              "  </svg>\n",
              "      </button>\n",
              "      \n",
              "  <style>\n",
              "    .colab-df-container {\n",
              "      display:flex;\n",
              "      flex-wrap:wrap;\n",
              "      gap: 12px;\n",
              "    }\n",
              "\n",
              "    .colab-df-convert {\n",
              "      background-color: #E8F0FE;\n",
              "      border: none;\n",
              "      border-radius: 50%;\n",
              "      cursor: pointer;\n",
              "      display: none;\n",
              "      fill: #1967D2;\n",
              "      height: 32px;\n",
              "      padding: 0 0 0 0;\n",
              "      width: 32px;\n",
              "    }\n",
              "\n",
              "    .colab-df-convert:hover {\n",
              "      background-color: #E2EBFA;\n",
              "      box-shadow: 0px 1px 2px rgba(60, 64, 67, 0.3), 0px 1px 3px 1px rgba(60, 64, 67, 0.15);\n",
              "      fill: #174EA6;\n",
              "    }\n",
              "\n",
              "    [theme=dark] .colab-df-convert {\n",
              "      background-color: #3B4455;\n",
              "      fill: #D2E3FC;\n",
              "    }\n",
              "\n",
              "    [theme=dark] .colab-df-convert:hover {\n",
              "      background-color: #434B5C;\n",
              "      box-shadow: 0px 1px 3px 1px rgba(0, 0, 0, 0.15);\n",
              "      filter: drop-shadow(0px 1px 2px rgba(0, 0, 0, 0.3));\n",
              "      fill: #FFFFFF;\n",
              "    }\n",
              "  </style>\n",
              "\n",
              "      <script>\n",
              "        const buttonEl =\n",
              "          document.querySelector('#df-52a1e798-ed72-4686-950e-18faff783722 button.colab-df-convert');\n",
              "        buttonEl.style.display =\n",
              "          google.colab.kernel.accessAllowed ? 'block' : 'none';\n",
              "\n",
              "        async function convertToInteractive(key) {\n",
              "          const element = document.querySelector('#df-52a1e798-ed72-4686-950e-18faff783722');\n",
              "          const dataTable =\n",
              "            await google.colab.kernel.invokeFunction('convertToInteractive',\n",
              "                                                     [key], {});\n",
              "          if (!dataTable) return;\n",
              "\n",
              "          const docLinkHtml = 'Like what you see? Visit the ' +\n",
              "            '<a target=\"_blank\" href=https://colab.research.google.com/notebooks/data_table.ipynb>data table notebook</a>'\n",
              "            + ' to learn more about interactive tables.';\n",
              "          element.innerHTML = '';\n",
              "          dataTable['output_type'] = 'display_data';\n",
              "          await google.colab.output.renderOutput(dataTable, element);\n",
              "          const docLink = document.createElement('div');\n",
              "          docLink.innerHTML = docLinkHtml;\n",
              "          element.appendChild(docLink);\n",
              "        }\n",
              "      </script>\n",
              "    </div>\n",
              "  </div>\n",
              "  "
            ],
            "text/plain": [
              "   reg_id    name\n",
              "0       1  Andrew\n",
              "1       2    Bobo\n",
              "2       3  Claire\n",
              "3       4   David"
            ]
          },
          "metadata": {},
          "execution_count": 22
        }
      ]
    },
    {
      "cell_type": "code",
      "source": [
        "log"
      ],
      "metadata": {
        "colab": {
          "base_uri": "https://localhost:8080/",
          "height": 174
        },
        "id": "KopTRVoOHzks",
        "outputId": "3c94c6fe-fa6a-46c7-bd40-9fd3f192b449"
      },
      "execution_count": null,
      "outputs": [
        {
          "output_type": "execute_result",
          "data": {
            "text/html": [
              "\n",
              "  <div id=\"df-f16151c8-46ba-4368-9e36-041f29364bd9\">\n",
              "    <div class=\"colab-df-container\">\n",
              "      <div>\n",
              "<style scoped>\n",
              "    .dataframe tbody tr th:only-of-type {\n",
              "        vertical-align: middle;\n",
              "    }\n",
              "\n",
              "    .dataframe tbody tr th {\n",
              "        vertical-align: top;\n",
              "    }\n",
              "\n",
              "    .dataframe thead th {\n",
              "        text-align: right;\n",
              "    }\n",
              "</style>\n",
              "<table border=\"1\" class=\"dataframe\">\n",
              "  <thead>\n",
              "    <tr style=\"text-align: right;\">\n",
              "      <th></th>\n",
              "      <th>log_id</th>\n",
              "      <th>name</th>\n",
              "    </tr>\n",
              "  </thead>\n",
              "  <tbody>\n",
              "    <tr>\n",
              "      <th>0</th>\n",
              "      <td>1</td>\n",
              "      <td>Xavier</td>\n",
              "    </tr>\n",
              "    <tr>\n",
              "      <th>1</th>\n",
              "      <td>2</td>\n",
              "      <td>Andrew</td>\n",
              "    </tr>\n",
              "    <tr>\n",
              "      <th>2</th>\n",
              "      <td>3</td>\n",
              "      <td>Yolanda</td>\n",
              "    </tr>\n",
              "    <tr>\n",
              "      <th>3</th>\n",
              "      <td>4</td>\n",
              "      <td>Bobo</td>\n",
              "    </tr>\n",
              "  </tbody>\n",
              "</table>\n",
              "</div>\n",
              "      <button class=\"colab-df-convert\" onclick=\"convertToInteractive('df-f16151c8-46ba-4368-9e36-041f29364bd9')\"\n",
              "              title=\"Convert this dataframe to an interactive table.\"\n",
              "              style=\"display:none;\">\n",
              "        \n",
              "  <svg xmlns=\"http://www.w3.org/2000/svg\" height=\"24px\"viewBox=\"0 0 24 24\"\n",
              "       width=\"24px\">\n",
              "    <path d=\"M0 0h24v24H0V0z\" fill=\"none\"/>\n",
              "    <path d=\"M18.56 5.44l.94 2.06.94-2.06 2.06-.94-2.06-.94-.94-2.06-.94 2.06-2.06.94zm-11 1L8.5 8.5l.94-2.06 2.06-.94-2.06-.94L8.5 2.5l-.94 2.06-2.06.94zm10 10l.94 2.06.94-2.06 2.06-.94-2.06-.94-.94-2.06-.94 2.06-2.06.94z\"/><path d=\"M17.41 7.96l-1.37-1.37c-.4-.4-.92-.59-1.43-.59-.52 0-1.04.2-1.43.59L10.3 9.45l-7.72 7.72c-.78.78-.78 2.05 0 2.83L4 21.41c.39.39.9.59 1.41.59.51 0 1.02-.2 1.41-.59l7.78-7.78 2.81-2.81c.8-.78.8-2.07 0-2.86zM5.41 20L4 18.59l7.72-7.72 1.47 1.35L5.41 20z\"/>\n",
              "  </svg>\n",
              "      </button>\n",
              "      \n",
              "  <style>\n",
              "    .colab-df-container {\n",
              "      display:flex;\n",
              "      flex-wrap:wrap;\n",
              "      gap: 12px;\n",
              "    }\n",
              "\n",
              "    .colab-df-convert {\n",
              "      background-color: #E8F0FE;\n",
              "      border: none;\n",
              "      border-radius: 50%;\n",
              "      cursor: pointer;\n",
              "      display: none;\n",
              "      fill: #1967D2;\n",
              "      height: 32px;\n",
              "      padding: 0 0 0 0;\n",
              "      width: 32px;\n",
              "    }\n",
              "\n",
              "    .colab-df-convert:hover {\n",
              "      background-color: #E2EBFA;\n",
              "      box-shadow: 0px 1px 2px rgba(60, 64, 67, 0.3), 0px 1px 3px 1px rgba(60, 64, 67, 0.15);\n",
              "      fill: #174EA6;\n",
              "    }\n",
              "\n",
              "    [theme=dark] .colab-df-convert {\n",
              "      background-color: #3B4455;\n",
              "      fill: #D2E3FC;\n",
              "    }\n",
              "\n",
              "    [theme=dark] .colab-df-convert:hover {\n",
              "      background-color: #434B5C;\n",
              "      box-shadow: 0px 1px 3px 1px rgba(0, 0, 0, 0.15);\n",
              "      filter: drop-shadow(0px 1px 2px rgba(0, 0, 0, 0.3));\n",
              "      fill: #FFFFFF;\n",
              "    }\n",
              "  </style>\n",
              "\n",
              "      <script>\n",
              "        const buttonEl =\n",
              "          document.querySelector('#df-f16151c8-46ba-4368-9e36-041f29364bd9 button.colab-df-convert');\n",
              "        buttonEl.style.display =\n",
              "          google.colab.kernel.accessAllowed ? 'block' : 'none';\n",
              "\n",
              "        async function convertToInteractive(key) {\n",
              "          const element = document.querySelector('#df-f16151c8-46ba-4368-9e36-041f29364bd9');\n",
              "          const dataTable =\n",
              "            await google.colab.kernel.invokeFunction('convertToInteractive',\n",
              "                                                     [key], {});\n",
              "          if (!dataTable) return;\n",
              "\n",
              "          const docLinkHtml = 'Like what you see? Visit the ' +\n",
              "            '<a target=\"_blank\" href=https://colab.research.google.com/notebooks/data_table.ipynb>data table notebook</a>'\n",
              "            + ' to learn more about interactive tables.';\n",
              "          element.innerHTML = '';\n",
              "          dataTable['output_type'] = 'display_data';\n",
              "          await google.colab.output.renderOutput(dataTable, element);\n",
              "          const docLink = document.createElement('div');\n",
              "          docLink.innerHTML = docLinkHtml;\n",
              "          element.appendChild(docLink);\n",
              "        }\n",
              "      </script>\n",
              "    </div>\n",
              "  </div>\n",
              "  "
            ],
            "text/plain": [
              "   log_id     name\n",
              "0       1   Xavier\n",
              "1       2   Andrew\n",
              "2       3  Yolanda\n",
              "3       4     Bobo"
            ]
          },
          "metadata": {},
          "execution_count": 23
        }
      ]
    },
    {
      "cell_type": "code",
      "source": [
        "help(pd.merge)"
      ],
      "metadata": {
        "colab": {
          "base_uri": "https://localhost:8080/"
        },
        "id": "v0m8BV_KHz_o",
        "outputId": "9bc2c24d-f884-4d31-edc6-04c8e02407c5"
      },
      "execution_count": null,
      "outputs": [
        {
          "output_type": "stream",
          "name": "stdout",
          "text": [
            "Help on function merge in module pandas.core.reshape.merge:\n",
            "\n",
            "merge(left: 'DataFrame | Series', right: 'DataFrame | Series', how: 'str' = 'inner', on: 'IndexLabel | None' = None, left_on: 'IndexLabel | None' = None, right_on: 'IndexLabel | None' = None, left_index: 'bool' = False, right_index: 'bool' = False, sort: 'bool' = False, suffixes: 'Suffixes' = ('_x', '_y'), copy: 'bool' = True, indicator: 'bool' = False, validate: 'str | None' = None) -> 'DataFrame'\n",
            "    Merge DataFrame or named Series objects with a database-style join.\n",
            "    \n",
            "    A named Series object is treated as a DataFrame with a single named column.\n",
            "    \n",
            "    The join is done on columns or indexes. If joining columns on\n",
            "    columns, the DataFrame indexes *will be ignored*. Otherwise if joining indexes\n",
            "    on indexes or indexes on a column or columns, the index will be passed on.\n",
            "    When performing a cross merge, no column specifications to merge on are\n",
            "    allowed.\n",
            "    \n",
            "    Parameters\n",
            "    ----------\n",
            "    left : DataFrame\n",
            "    right : DataFrame or named Series\n",
            "        Object to merge with.\n",
            "    how : {'left', 'right', 'outer', 'inner', 'cross'}, default 'inner'\n",
            "        Type of merge to be performed.\n",
            "    \n",
            "        * left: use only keys from left frame, similar to a SQL left outer join;\n",
            "          preserve key order.\n",
            "        * right: use only keys from right frame, similar to a SQL right outer join;\n",
            "          preserve key order.\n",
            "        * outer: use union of keys from both frames, similar to a SQL full outer\n",
            "          join; sort keys lexicographically.\n",
            "        * inner: use intersection of keys from both frames, similar to a SQL inner\n",
            "          join; preserve the order of the left keys.\n",
            "        * cross: creates the cartesian product from both frames, preserves the order\n",
            "          of the left keys.\n",
            "    \n",
            "          .. versionadded:: 1.2.0\n",
            "    \n",
            "    on : label or list\n",
            "        Column or index level names to join on. These must be found in both\n",
            "        DataFrames. If `on` is None and not merging on indexes then this defaults\n",
            "        to the intersection of the columns in both DataFrames.\n",
            "    left_on : label or list, or array-like\n",
            "        Column or index level names to join on in the left DataFrame. Can also\n",
            "        be an array or list of arrays of the length of the left DataFrame.\n",
            "        These arrays are treated as if they are columns.\n",
            "    right_on : label or list, or array-like\n",
            "        Column or index level names to join on in the right DataFrame. Can also\n",
            "        be an array or list of arrays of the length of the right DataFrame.\n",
            "        These arrays are treated as if they are columns.\n",
            "    left_index : bool, default False\n",
            "        Use the index from the left DataFrame as the join key(s). If it is a\n",
            "        MultiIndex, the number of keys in the other DataFrame (either the index\n",
            "        or a number of columns) must match the number of levels.\n",
            "    right_index : bool, default False\n",
            "        Use the index from the right DataFrame as the join key. Same caveats as\n",
            "        left_index.\n",
            "    sort : bool, default False\n",
            "        Sort the join keys lexicographically in the result DataFrame. If False,\n",
            "        the order of the join keys depends on the join type (how keyword).\n",
            "    suffixes : list-like, default is (\"_x\", \"_y\")\n",
            "        A length-2 sequence where each element is optionally a string\n",
            "        indicating the suffix to add to overlapping column names in\n",
            "        `left` and `right` respectively. Pass a value of `None` instead\n",
            "        of a string to indicate that the column name from `left` or\n",
            "        `right` should be left as-is, with no suffix. At least one of the\n",
            "        values must not be None.\n",
            "    copy : bool, default True\n",
            "        If False, avoid copy if possible.\n",
            "    indicator : bool or str, default False\n",
            "        If True, adds a column to the output DataFrame called \"_merge\" with\n",
            "        information on the source of each row. The column can be given a different\n",
            "        name by providing a string argument. The column will have a Categorical\n",
            "        type with the value of \"left_only\" for observations whose merge key only\n",
            "        appears in the left DataFrame, \"right_only\" for observations\n",
            "        whose merge key only appears in the right DataFrame, and \"both\"\n",
            "        if the observation's merge key is found in both DataFrames.\n",
            "    \n",
            "    validate : str, optional\n",
            "        If specified, checks if merge is of specified type.\n",
            "    \n",
            "        * \"one_to_one\" or \"1:1\": check if merge keys are unique in both\n",
            "          left and right datasets.\n",
            "        * \"one_to_many\" or \"1:m\": check if merge keys are unique in left\n",
            "          dataset.\n",
            "        * \"many_to_one\" or \"m:1\": check if merge keys are unique in right\n",
            "          dataset.\n",
            "        * \"many_to_many\" or \"m:m\": allowed, but does not result in checks.\n",
            "    \n",
            "    Returns\n",
            "    -------\n",
            "    DataFrame\n",
            "        A DataFrame of the two merged objects.\n",
            "    \n",
            "    See Also\n",
            "    --------\n",
            "    merge_ordered : Merge with optional filling/interpolation.\n",
            "    merge_asof : Merge on nearest keys.\n",
            "    DataFrame.join : Similar method using indices.\n",
            "    \n",
            "    Notes\n",
            "    -----\n",
            "    Support for specifying index levels as the `on`, `left_on`, and\n",
            "    `right_on` parameters was added in version 0.23.0\n",
            "    Support for merging named Series objects was added in version 0.24.0\n",
            "    \n",
            "    Examples\n",
            "    --------\n",
            "    >>> df1 = pd.DataFrame({'lkey': ['foo', 'bar', 'baz', 'foo'],\n",
            "    ...                     'value': [1, 2, 3, 5]})\n",
            "    >>> df2 = pd.DataFrame({'rkey': ['foo', 'bar', 'baz', 'foo'],\n",
            "    ...                     'value': [5, 6, 7, 8]})\n",
            "    >>> df1\n",
            "        lkey value\n",
            "    0   foo      1\n",
            "    1   bar      2\n",
            "    2   baz      3\n",
            "    3   foo      5\n",
            "    >>> df2\n",
            "        rkey value\n",
            "    0   foo      5\n",
            "    1   bar      6\n",
            "    2   baz      7\n",
            "    3   foo      8\n",
            "    \n",
            "    Merge df1 and df2 on the lkey and rkey columns. The value columns have\n",
            "    the default suffixes, _x and _y, appended.\n",
            "    \n",
            "    >>> df1.merge(df2, left_on='lkey', right_on='rkey')\n",
            "      lkey  value_x rkey  value_y\n",
            "    0  foo        1  foo        5\n",
            "    1  foo        1  foo        8\n",
            "    2  foo        5  foo        5\n",
            "    3  foo        5  foo        8\n",
            "    4  bar        2  bar        6\n",
            "    5  baz        3  baz        7\n",
            "    \n",
            "    Merge DataFrames df1 and df2 with specified left and right suffixes\n",
            "    appended to any overlapping columns.\n",
            "    \n",
            "    >>> df1.merge(df2, left_on='lkey', right_on='rkey',\n",
            "    ...           suffixes=('_left', '_right'))\n",
            "      lkey  value_left rkey  value_right\n",
            "    0  foo           1  foo            5\n",
            "    1  foo           1  foo            8\n",
            "    2  foo           5  foo            5\n",
            "    3  foo           5  foo            8\n",
            "    4  bar           2  bar            6\n",
            "    5  baz           3  baz            7\n",
            "    \n",
            "    Merge DataFrames df1 and df2, but raise an exception if the DataFrames have\n",
            "    any overlapping columns.\n",
            "    \n",
            "    >>> df1.merge(df2, left_on='lkey', right_on='rkey', suffixes=(False, False))\n",
            "    Traceback (most recent call last):\n",
            "    ...\n",
            "    ValueError: columns overlap but no suffix specified:\n",
            "        Index(['value'], dtype='object')\n",
            "    \n",
            "    >>> df1 = pd.DataFrame({'a': ['foo', 'bar'], 'b': [1, 2]})\n",
            "    >>> df2 = pd.DataFrame({'a': ['foo', 'baz'], 'c': [3, 4]})\n",
            "    >>> df1\n",
            "          a  b\n",
            "    0   foo  1\n",
            "    1   bar  2\n",
            "    >>> df2\n",
            "          a  c\n",
            "    0   foo  3\n",
            "    1   baz  4\n",
            "    \n",
            "    >>> df1.merge(df2, how='inner', on='a')\n",
            "          a  b  c\n",
            "    0   foo  1  3\n",
            "    \n",
            "    >>> df1.merge(df2, how='left', on='a')\n",
            "          a  b  c\n",
            "    0   foo  1  3.0\n",
            "    1   bar  2  NaN\n",
            "    \n",
            "    >>> df1 = pd.DataFrame({'left': ['foo', 'bar']})\n",
            "    >>> df2 = pd.DataFrame({'right': [7, 8]})\n",
            "    >>> df1\n",
            "        left\n",
            "    0   foo\n",
            "    1   bar\n",
            "    >>> df2\n",
            "        right\n",
            "    0   7\n",
            "    1   8\n",
            "    \n",
            "    >>> df1.merge(df2, how='cross')\n",
            "       left  right\n",
            "    0   foo      7\n",
            "    1   foo      8\n",
            "    2   bar      7\n",
            "    3   bar      8\n",
            "\n"
          ]
        }
      ]
    },
    {
      "cell_type": "markdown",
      "source": [
        "![join_types.png](data:image/png;base64,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)\n",
        "\n",
        "**Check the above image for clear understanding if the how types in merge fucntion**"
      ],
      "metadata": {
        "id": "deN1FSfuMVjo"
      }
    },
    {
      "cell_type": "code",
      "source": [
        "pd.merge(reg,log,how='inner',on='name')#inner stands for interesection as in a pie diagram and it searches for common values of names in both dataframe"
      ],
      "metadata": {
        "colab": {
          "base_uri": "https://localhost:8080/",
          "height": 112
        },
        "id": "pALOLl8gIgkB",
        "outputId": "3f2ed2e6-a230-4173-c385-f0ae04ac3550"
      },
      "execution_count": null,
      "outputs": [
        {
          "output_type": "execute_result",
          "data": {
            "text/html": [
              "\n",
              "  <div id=\"df-67fe5da2-ecd7-42ad-9fac-081f2f49258e\">\n",
              "    <div class=\"colab-df-container\">\n",
              "      <div>\n",
              "<style scoped>\n",
              "    .dataframe tbody tr th:only-of-type {\n",
              "        vertical-align: middle;\n",
              "    }\n",
              "\n",
              "    .dataframe tbody tr th {\n",
              "        vertical-align: top;\n",
              "    }\n",
              "\n",
              "    .dataframe thead th {\n",
              "        text-align: right;\n",
              "    }\n",
              "</style>\n",
              "<table border=\"1\" class=\"dataframe\">\n",
              "  <thead>\n",
              "    <tr style=\"text-align: right;\">\n",
              "      <th></th>\n",
              "      <th>reg_id</th>\n",
              "      <th>name</th>\n",
              "      <th>log_id</th>\n",
              "    </tr>\n",
              "  </thead>\n",
              "  <tbody>\n",
              "    <tr>\n",
              "      <th>0</th>\n",
              "      <td>1</td>\n",
              "      <td>Andrew</td>\n",
              "      <td>2</td>\n",
              "    </tr>\n",
              "    <tr>\n",
              "      <th>1</th>\n",
              "      <td>2</td>\n",
              "      <td>Bobo</td>\n",
              "      <td>4</td>\n",
              "    </tr>\n",
              "  </tbody>\n",
              "</table>\n",
              "</div>\n",
              "      <button class=\"colab-df-convert\" onclick=\"convertToInteractive('df-67fe5da2-ecd7-42ad-9fac-081f2f49258e')\"\n",
              "              title=\"Convert this dataframe to an interactive table.\"\n",
              "              style=\"display:none;\">\n",
              "        \n",
              "  <svg xmlns=\"http://www.w3.org/2000/svg\" height=\"24px\"viewBox=\"0 0 24 24\"\n",
              "       width=\"24px\">\n",
              "    <path d=\"M0 0h24v24H0V0z\" fill=\"none\"/>\n",
              "    <path d=\"M18.56 5.44l.94 2.06.94-2.06 2.06-.94-2.06-.94-.94-2.06-.94 2.06-2.06.94zm-11 1L8.5 8.5l.94-2.06 2.06-.94-2.06-.94L8.5 2.5l-.94 2.06-2.06.94zm10 10l.94 2.06.94-2.06 2.06-.94-2.06-.94-.94-2.06-.94 2.06-2.06.94z\"/><path d=\"M17.41 7.96l-1.37-1.37c-.4-.4-.92-.59-1.43-.59-.52 0-1.04.2-1.43.59L10.3 9.45l-7.72 7.72c-.78.78-.78 2.05 0 2.83L4 21.41c.39.39.9.59 1.41.59.51 0 1.02-.2 1.41-.59l7.78-7.78 2.81-2.81c.8-.78.8-2.07 0-2.86zM5.41 20L4 18.59l7.72-7.72 1.47 1.35L5.41 20z\"/>\n",
              "  </svg>\n",
              "      </button>\n",
              "      \n",
              "  <style>\n",
              "    .colab-df-container {\n",
              "      display:flex;\n",
              "      flex-wrap:wrap;\n",
              "      gap: 12px;\n",
              "    }\n",
              "\n",
              "    .colab-df-convert {\n",
              "      background-color: #E8F0FE;\n",
              "      border: none;\n",
              "      border-radius: 50%;\n",
              "      cursor: pointer;\n",
              "      display: none;\n",
              "      fill: #1967D2;\n",
              "      height: 32px;\n",
              "      padding: 0 0 0 0;\n",
              "      width: 32px;\n",
              "    }\n",
              "\n",
              "    .colab-df-convert:hover {\n",
              "      background-color: #E2EBFA;\n",
              "      box-shadow: 0px 1px 2px rgba(60, 64, 67, 0.3), 0px 1px 3px 1px rgba(60, 64, 67, 0.15);\n",
              "      fill: #174EA6;\n",
              "    }\n",
              "\n",
              "    [theme=dark] .colab-df-convert {\n",
              "      background-color: #3B4455;\n",
              "      fill: #D2E3FC;\n",
              "    }\n",
              "\n",
              "    [theme=dark] .colab-df-convert:hover {\n",
              "      background-color: #434B5C;\n",
              "      box-shadow: 0px 1px 3px 1px rgba(0, 0, 0, 0.15);\n",
              "      filter: drop-shadow(0px 1px 2px rgba(0, 0, 0, 0.3));\n",
              "      fill: #FFFFFF;\n",
              "    }\n",
              "  </style>\n",
              "\n",
              "      <script>\n",
              "        const buttonEl =\n",
              "          document.querySelector('#df-67fe5da2-ecd7-42ad-9fac-081f2f49258e button.colab-df-convert');\n",
              "        buttonEl.style.display =\n",
              "          google.colab.kernel.accessAllowed ? 'block' : 'none';\n",
              "\n",
              "        async function convertToInteractive(key) {\n",
              "          const element = document.querySelector('#df-67fe5da2-ecd7-42ad-9fac-081f2f49258e');\n",
              "          const dataTable =\n",
              "            await google.colab.kernel.invokeFunction('convertToInteractive',\n",
              "                                                     [key], {});\n",
              "          if (!dataTable) return;\n",
              "\n",
              "          const docLinkHtml = 'Like what you see? Visit the ' +\n",
              "            '<a target=\"_blank\" href=https://colab.research.google.com/notebooks/data_table.ipynb>data table notebook</a>'\n",
              "            + ' to learn more about interactive tables.';\n",
              "          element.innerHTML = '';\n",
              "          dataTable['output_type'] = 'display_data';\n",
              "          await google.colab.output.renderOutput(dataTable, element);\n",
              "          const docLink = document.createElement('div');\n",
              "          docLink.innerHTML = docLinkHtml;\n",
              "          element.appendChild(docLink);\n",
              "        }\n",
              "      </script>\n",
              "    </div>\n",
              "  </div>\n",
              "  "
            ],
            "text/plain": [
              "   reg_id    name  log_id\n",
              "0       1  Andrew       2\n",
              "1       2    Bobo       4"
            ]
          },
          "metadata": {},
          "execution_count": 25
        }
      ]
    },
    {
      "cell_type": "code",
      "source": [
        "pd.merge(reg, log, how='left', on='name')#order of the table is important in left or right merge"
      ],
      "metadata": {
        "colab": {
          "base_uri": "https://localhost:8080/",
          "height": 174
        },
        "id": "RZBu-dc0I0IY",
        "outputId": "c4deffa2-32e4-440c-e1a8-0b018938ece5"
      },
      "execution_count": null,
      "outputs": [
        {
          "output_type": "execute_result",
          "data": {
            "text/html": [
              "\n",
              "  <div id=\"df-81478a43-534b-406c-8dd7-4ab66b62425a\">\n",
              "    <div class=\"colab-df-container\">\n",
              "      <div>\n",
              "<style scoped>\n",
              "    .dataframe tbody tr th:only-of-type {\n",
              "        vertical-align: middle;\n",
              "    }\n",
              "\n",
              "    .dataframe tbody tr th {\n",
              "        vertical-align: top;\n",
              "    }\n",
              "\n",
              "    .dataframe thead th {\n",
              "        text-align: right;\n",
              "    }\n",
              "</style>\n",
              "<table border=\"1\" class=\"dataframe\">\n",
              "  <thead>\n",
              "    <tr style=\"text-align: right;\">\n",
              "      <th></th>\n",
              "      <th>reg_id</th>\n",
              "      <th>name</th>\n",
              "      <th>log_id</th>\n",
              "    </tr>\n",
              "  </thead>\n",
              "  <tbody>\n",
              "    <tr>\n",
              "      <th>0</th>\n",
              "      <td>1</td>\n",
              "      <td>Andrew</td>\n",
              "      <td>2.0</td>\n",
              "    </tr>\n",
              "    <tr>\n",
              "      <th>1</th>\n",
              "      <td>2</td>\n",
              "      <td>Bobo</td>\n",
              "      <td>4.0</td>\n",
              "    </tr>\n",
              "    <tr>\n",
              "      <th>2</th>\n",
              "      <td>3</td>\n",
              "      <td>Claire</td>\n",
              "      <td>NaN</td>\n",
              "    </tr>\n",
              "    <tr>\n",
              "      <th>3</th>\n",
              "      <td>4</td>\n",
              "      <td>David</td>\n",
              "      <td>NaN</td>\n",
              "    </tr>\n",
              "  </tbody>\n",
              "</table>\n",
              "</div>\n",
              "      <button class=\"colab-df-convert\" onclick=\"convertToInteractive('df-81478a43-534b-406c-8dd7-4ab66b62425a')\"\n",
              "              title=\"Convert this dataframe to an interactive table.\"\n",
              "              style=\"display:none;\">\n",
              "        \n",
              "  <svg xmlns=\"http://www.w3.org/2000/svg\" height=\"24px\"viewBox=\"0 0 24 24\"\n",
              "       width=\"24px\">\n",
              "    <path d=\"M0 0h24v24H0V0z\" fill=\"none\"/>\n",
              "    <path d=\"M18.56 5.44l.94 2.06.94-2.06 2.06-.94-2.06-.94-.94-2.06-.94 2.06-2.06.94zm-11 1L8.5 8.5l.94-2.06 2.06-.94-2.06-.94L8.5 2.5l-.94 2.06-2.06.94zm10 10l.94 2.06.94-2.06 2.06-.94-2.06-.94-.94-2.06-.94 2.06-2.06.94z\"/><path d=\"M17.41 7.96l-1.37-1.37c-.4-.4-.92-.59-1.43-.59-.52 0-1.04.2-1.43.59L10.3 9.45l-7.72 7.72c-.78.78-.78 2.05 0 2.83L4 21.41c.39.39.9.59 1.41.59.51 0 1.02-.2 1.41-.59l7.78-7.78 2.81-2.81c.8-.78.8-2.07 0-2.86zM5.41 20L4 18.59l7.72-7.72 1.47 1.35L5.41 20z\"/>\n",
              "  </svg>\n",
              "      </button>\n",
              "      \n",
              "  <style>\n",
              "    .colab-df-container {\n",
              "      display:flex;\n",
              "      flex-wrap:wrap;\n",
              "      gap: 12px;\n",
              "    }\n",
              "\n",
              "    .colab-df-convert {\n",
              "      background-color: #E8F0FE;\n",
              "      border: none;\n",
              "      border-radius: 50%;\n",
              "      cursor: pointer;\n",
              "      display: none;\n",
              "      fill: #1967D2;\n",
              "      height: 32px;\n",
              "      padding: 0 0 0 0;\n",
              "      width: 32px;\n",
              "    }\n",
              "\n",
              "    .colab-df-convert:hover {\n",
              "      background-color: #E2EBFA;\n",
              "      box-shadow: 0px 1px 2px rgba(60, 64, 67, 0.3), 0px 1px 3px 1px rgba(60, 64, 67, 0.15);\n",
              "      fill: #174EA6;\n",
              "    }\n",
              "\n",
              "    [theme=dark] .colab-df-convert {\n",
              "      background-color: #3B4455;\n",
              "      fill: #D2E3FC;\n",
              "    }\n",
              "\n",
              "    [theme=dark] .colab-df-convert:hover {\n",
              "      background-color: #434B5C;\n",
              "      box-shadow: 0px 1px 3px 1px rgba(0, 0, 0, 0.15);\n",
              "      filter: drop-shadow(0px 1px 2px rgba(0, 0, 0, 0.3));\n",
              "      fill: #FFFFFF;\n",
              "    }\n",
              "  </style>\n",
              "\n",
              "      <script>\n",
              "        const buttonEl =\n",
              "          document.querySelector('#df-81478a43-534b-406c-8dd7-4ab66b62425a button.colab-df-convert');\n",
              "        buttonEl.style.display =\n",
              "          google.colab.kernel.accessAllowed ? 'block' : 'none';\n",
              "\n",
              "        async function convertToInteractive(key) {\n",
              "          const element = document.querySelector('#df-81478a43-534b-406c-8dd7-4ab66b62425a');\n",
              "          const dataTable =\n",
              "            await google.colab.kernel.invokeFunction('convertToInteractive',\n",
              "                                                     [key], {});\n",
              "          if (!dataTable) return;\n",
              "\n",
              "          const docLinkHtml = 'Like what you see? Visit the ' +\n",
              "            '<a target=\"_blank\" href=https://colab.research.google.com/notebooks/data_table.ipynb>data table notebook</a>'\n",
              "            + ' to learn more about interactive tables.';\n",
              "          element.innerHTML = '';\n",
              "          dataTable['output_type'] = 'display_data';\n",
              "          await google.colab.output.renderOutput(dataTable, element);\n",
              "          const docLink = document.createElement('div');\n",
              "          docLink.innerHTML = docLinkHtml;\n",
              "          element.appendChild(docLink);\n",
              "        }\n",
              "      </script>\n",
              "    </div>\n",
              "  </div>\n",
              "  "
            ],
            "text/plain": [
              "   reg_id    name  log_id\n",
              "0       1  Andrew     2.0\n",
              "1       2    Bobo     4.0\n",
              "2       3  Claire     NaN\n",
              "3       4   David     NaN"
            ]
          },
          "metadata": {},
          "execution_count": 26
        }
      ]
    },
    {
      "cell_type": "code",
      "source": [
        "pd.merge(reg, log, how='right', on='name')"
      ],
      "metadata": {
        "colab": {
          "base_uri": "https://localhost:8080/",
          "height": 174
        },
        "id": "kJ2VOMfPNWnz",
        "outputId": "73949464-adfd-417f-e444-49eba2644ae0"
      },
      "execution_count": null,
      "outputs": [
        {
          "output_type": "execute_result",
          "data": {
            "text/html": [
              "\n",
              "  <div id=\"df-8e71587a-24af-4f67-9c3b-fcc7944a7bfe\">\n",
              "    <div class=\"colab-df-container\">\n",
              "      <div>\n",
              "<style scoped>\n",
              "    .dataframe tbody tr th:only-of-type {\n",
              "        vertical-align: middle;\n",
              "    }\n",
              "\n",
              "    .dataframe tbody tr th {\n",
              "        vertical-align: top;\n",
              "    }\n",
              "\n",
              "    .dataframe thead th {\n",
              "        text-align: right;\n",
              "    }\n",
              "</style>\n",
              "<table border=\"1\" class=\"dataframe\">\n",
              "  <thead>\n",
              "    <tr style=\"text-align: right;\">\n",
              "      <th></th>\n",
              "      <th>reg_id</th>\n",
              "      <th>name</th>\n",
              "      <th>log_id</th>\n",
              "    </tr>\n",
              "  </thead>\n",
              "  <tbody>\n",
              "    <tr>\n",
              "      <th>0</th>\n",
              "      <td>NaN</td>\n",
              "      <td>Xavier</td>\n",
              "      <td>1</td>\n",
              "    </tr>\n",
              "    <tr>\n",
              "      <th>1</th>\n",
              "      <td>1.0</td>\n",
              "      <td>Andrew</td>\n",
              "      <td>2</td>\n",
              "    </tr>\n",
              "    <tr>\n",
              "      <th>2</th>\n",
              "      <td>NaN</td>\n",
              "      <td>Yolanda</td>\n",
              "      <td>3</td>\n",
              "    </tr>\n",
              "    <tr>\n",
              "      <th>3</th>\n",
              "      <td>2.0</td>\n",
              "      <td>Bobo</td>\n",
              "      <td>4</td>\n",
              "    </tr>\n",
              "  </tbody>\n",
              "</table>\n",
              "</div>\n",
              "      <button class=\"colab-df-convert\" onclick=\"convertToInteractive('df-8e71587a-24af-4f67-9c3b-fcc7944a7bfe')\"\n",
              "              title=\"Convert this dataframe to an interactive table.\"\n",
              "              style=\"display:none;\">\n",
              "        \n",
              "  <svg xmlns=\"http://www.w3.org/2000/svg\" height=\"24px\"viewBox=\"0 0 24 24\"\n",
              "       width=\"24px\">\n",
              "    <path d=\"M0 0h24v24H0V0z\" fill=\"none\"/>\n",
              "    <path d=\"M18.56 5.44l.94 2.06.94-2.06 2.06-.94-2.06-.94-.94-2.06-.94 2.06-2.06.94zm-11 1L8.5 8.5l.94-2.06 2.06-.94-2.06-.94L8.5 2.5l-.94 2.06-2.06.94zm10 10l.94 2.06.94-2.06 2.06-.94-2.06-.94-.94-2.06-.94 2.06-2.06.94z\"/><path d=\"M17.41 7.96l-1.37-1.37c-.4-.4-.92-.59-1.43-.59-.52 0-1.04.2-1.43.59L10.3 9.45l-7.72 7.72c-.78.78-.78 2.05 0 2.83L4 21.41c.39.39.9.59 1.41.59.51 0 1.02-.2 1.41-.59l7.78-7.78 2.81-2.81c.8-.78.8-2.07 0-2.86zM5.41 20L4 18.59l7.72-7.72 1.47 1.35L5.41 20z\"/>\n",
              "  </svg>\n",
              "      </button>\n",
              "      \n",
              "  <style>\n",
              "    .colab-df-container {\n",
              "      display:flex;\n",
              "      flex-wrap:wrap;\n",
              "      gap: 12px;\n",
              "    }\n",
              "\n",
              "    .colab-df-convert {\n",
              "      background-color: #E8F0FE;\n",
              "      border: none;\n",
              "      border-radius: 50%;\n",
              "      cursor: pointer;\n",
              "      display: none;\n",
              "      fill: #1967D2;\n",
              "      height: 32px;\n",
              "      padding: 0 0 0 0;\n",
              "      width: 32px;\n",
              "    }\n",
              "\n",
              "    .colab-df-convert:hover {\n",
              "      background-color: #E2EBFA;\n",
              "      box-shadow: 0px 1px 2px rgba(60, 64, 67, 0.3), 0px 1px 3px 1px rgba(60, 64, 67, 0.15);\n",
              "      fill: #174EA6;\n",
              "    }\n",
              "\n",
              "    [theme=dark] .colab-df-convert {\n",
              "      background-color: #3B4455;\n",
              "      fill: #D2E3FC;\n",
              "    }\n",
              "\n",
              "    [theme=dark] .colab-df-convert:hover {\n",
              "      background-color: #434B5C;\n",
              "      box-shadow: 0px 1px 3px 1px rgba(0, 0, 0, 0.15);\n",
              "      filter: drop-shadow(0px 1px 2px rgba(0, 0, 0, 0.3));\n",
              "      fill: #FFFFFF;\n",
              "    }\n",
              "  </style>\n",
              "\n",
              "      <script>\n",
              "        const buttonEl =\n",
              "          document.querySelector('#df-8e71587a-24af-4f67-9c3b-fcc7944a7bfe button.colab-df-convert');\n",
              "        buttonEl.style.display =\n",
              "          google.colab.kernel.accessAllowed ? 'block' : 'none';\n",
              "\n",
              "        async function convertToInteractive(key) {\n",
              "          const element = document.querySelector('#df-8e71587a-24af-4f67-9c3b-fcc7944a7bfe');\n",
              "          const dataTable =\n",
              "            await google.colab.kernel.invokeFunction('convertToInteractive',\n",
              "                                                     [key], {});\n",
              "          if (!dataTable) return;\n",
              "\n",
              "          const docLinkHtml = 'Like what you see? Visit the ' +\n",
              "            '<a target=\"_blank\" href=https://colab.research.google.com/notebooks/data_table.ipynb>data table notebook</a>'\n",
              "            + ' to learn more about interactive tables.';\n",
              "          element.innerHTML = '';\n",
              "          dataTable['output_type'] = 'display_data';\n",
              "          await google.colab.output.renderOutput(dataTable, element);\n",
              "          const docLink = document.createElement('div');\n",
              "          docLink.innerHTML = docLinkHtml;\n",
              "          element.appendChild(docLink);\n",
              "        }\n",
              "      </script>\n",
              "    </div>\n",
              "  </div>\n",
              "  "
            ],
            "text/plain": [
              "   reg_id     name  log_id\n",
              "0     NaN   Xavier       1\n",
              "1     1.0   Andrew       2\n",
              "2     NaN  Yolanda       3\n",
              "3     2.0     Bobo       4"
            ]
          },
          "metadata": {},
          "execution_count": 27
        }
      ]
    },
    {
      "cell_type": "code",
      "source": [
        "pd.merge(reg,log,how='outer',on='name')\n",
        "#this gives all thev values in both the DataFrame"
      ],
      "metadata": {
        "colab": {
          "base_uri": "https://localhost:8080/",
          "height": 238
        },
        "id": "upCrUObVnReZ",
        "outputId": "0d902cde-c61e-4b03-8833-5603732e58bf"
      },
      "execution_count": null,
      "outputs": [
        {
          "output_type": "execute_result",
          "data": {
            "text/html": [
              "\n",
              "  <div id=\"df-3c5a4a8f-7eb9-48d7-bac6-72b99f114ae4\">\n",
              "    <div class=\"colab-df-container\">\n",
              "      <div>\n",
              "<style scoped>\n",
              "    .dataframe tbody tr th:only-of-type {\n",
              "        vertical-align: middle;\n",
              "    }\n",
              "\n",
              "    .dataframe tbody tr th {\n",
              "        vertical-align: top;\n",
              "    }\n",
              "\n",
              "    .dataframe thead th {\n",
              "        text-align: right;\n",
              "    }\n",
              "</style>\n",
              "<table border=\"1\" class=\"dataframe\">\n",
              "  <thead>\n",
              "    <tr style=\"text-align: right;\">\n",
              "      <th></th>\n",
              "      <th>reg_id</th>\n",
              "      <th>name</th>\n",
              "      <th>log_id</th>\n",
              "    </tr>\n",
              "  </thead>\n",
              "  <tbody>\n",
              "    <tr>\n",
              "      <th>0</th>\n",
              "      <td>1.0</td>\n",
              "      <td>Andrew</td>\n",
              "      <td>2.0</td>\n",
              "    </tr>\n",
              "    <tr>\n",
              "      <th>1</th>\n",
              "      <td>2.0</td>\n",
              "      <td>Bobo</td>\n",
              "      <td>4.0</td>\n",
              "    </tr>\n",
              "    <tr>\n",
              "      <th>2</th>\n",
              "      <td>3.0</td>\n",
              "      <td>Claire</td>\n",
              "      <td>NaN</td>\n",
              "    </tr>\n",
              "    <tr>\n",
              "      <th>3</th>\n",
              "      <td>4.0</td>\n",
              "      <td>David</td>\n",
              "      <td>NaN</td>\n",
              "    </tr>\n",
              "    <tr>\n",
              "      <th>4</th>\n",
              "      <td>NaN</td>\n",
              "      <td>Xavier</td>\n",
              "      <td>1.0</td>\n",
              "    </tr>\n",
              "    <tr>\n",
              "      <th>5</th>\n",
              "      <td>NaN</td>\n",
              "      <td>Yolanda</td>\n",
              "      <td>3.0</td>\n",
              "    </tr>\n",
              "  </tbody>\n",
              "</table>\n",
              "</div>\n",
              "      <button class=\"colab-df-convert\" onclick=\"convertToInteractive('df-3c5a4a8f-7eb9-48d7-bac6-72b99f114ae4')\"\n",
              "              title=\"Convert this dataframe to an interactive table.\"\n",
              "              style=\"display:none;\">\n",
              "        \n",
              "  <svg xmlns=\"http://www.w3.org/2000/svg\" height=\"24px\"viewBox=\"0 0 24 24\"\n",
              "       width=\"24px\">\n",
              "    <path d=\"M0 0h24v24H0V0z\" fill=\"none\"/>\n",
              "    <path d=\"M18.56 5.44l.94 2.06.94-2.06 2.06-.94-2.06-.94-.94-2.06-.94 2.06-2.06.94zm-11 1L8.5 8.5l.94-2.06 2.06-.94-2.06-.94L8.5 2.5l-.94 2.06-2.06.94zm10 10l.94 2.06.94-2.06 2.06-.94-2.06-.94-.94-2.06-.94 2.06-2.06.94z\"/><path d=\"M17.41 7.96l-1.37-1.37c-.4-.4-.92-.59-1.43-.59-.52 0-1.04.2-1.43.59L10.3 9.45l-7.72 7.72c-.78.78-.78 2.05 0 2.83L4 21.41c.39.39.9.59 1.41.59.51 0 1.02-.2 1.41-.59l7.78-7.78 2.81-2.81c.8-.78.8-2.07 0-2.86zM5.41 20L4 18.59l7.72-7.72 1.47 1.35L5.41 20z\"/>\n",
              "  </svg>\n",
              "      </button>\n",
              "      \n",
              "  <style>\n",
              "    .colab-df-container {\n",
              "      display:flex;\n",
              "      flex-wrap:wrap;\n",
              "      gap: 12px;\n",
              "    }\n",
              "\n",
              "    .colab-df-convert {\n",
              "      background-color: #E8F0FE;\n",
              "      border: none;\n",
              "      border-radius: 50%;\n",
              "      cursor: pointer;\n",
              "      display: none;\n",
              "      fill: #1967D2;\n",
              "      height: 32px;\n",
              "      padding: 0 0 0 0;\n",
              "      width: 32px;\n",
              "    }\n",
              "\n",
              "    .colab-df-convert:hover {\n",
              "      background-color: #E2EBFA;\n",
              "      box-shadow: 0px 1px 2px rgba(60, 64, 67, 0.3), 0px 1px 3px 1px rgba(60, 64, 67, 0.15);\n",
              "      fill: #174EA6;\n",
              "    }\n",
              "\n",
              "    [theme=dark] .colab-df-convert {\n",
              "      background-color: #3B4455;\n",
              "      fill: #D2E3FC;\n",
              "    }\n",
              "\n",
              "    [theme=dark] .colab-df-convert:hover {\n",
              "      background-color: #434B5C;\n",
              "      box-shadow: 0px 1px 3px 1px rgba(0, 0, 0, 0.15);\n",
              "      filter: drop-shadow(0px 1px 2px rgba(0, 0, 0, 0.3));\n",
              "      fill: #FFFFFF;\n",
              "    }\n",
              "  </style>\n",
              "\n",
              "      <script>\n",
              "        const buttonEl =\n",
              "          document.querySelector('#df-3c5a4a8f-7eb9-48d7-bac6-72b99f114ae4 button.colab-df-convert');\n",
              "        buttonEl.style.display =\n",
              "          google.colab.kernel.accessAllowed ? 'block' : 'none';\n",
              "\n",
              "        async function convertToInteractive(key) {\n",
              "          const element = document.querySelector('#df-3c5a4a8f-7eb9-48d7-bac6-72b99f114ae4');\n",
              "          const dataTable =\n",
              "            await google.colab.kernel.invokeFunction('convertToInteractive',\n",
              "                                                     [key], {});\n",
              "          if (!dataTable) return;\n",
              "\n",
              "          const docLinkHtml = 'Like what you see? Visit the ' +\n",
              "            '<a target=\"_blank\" href=https://colab.research.google.com/notebooks/data_table.ipynb>data table notebook</a>'\n",
              "            + ' to learn more about interactive tables.';\n",
              "          element.innerHTML = '';\n",
              "          dataTable['output_type'] = 'display_data';\n",
              "          await google.colab.output.renderOutput(dataTable, element);\n",
              "          const docLink = document.createElement('div');\n",
              "          docLink.innerHTML = docLinkHtml;\n",
              "          element.appendChild(docLink);\n",
              "        }\n",
              "      </script>\n",
              "    </div>\n",
              "  </div>\n",
              "  "
            ],
            "text/plain": [
              "   reg_id     name  log_id\n",
              "0     1.0   Andrew     2.0\n",
              "1     2.0     Bobo     4.0\n",
              "2     3.0   Claire     NaN\n",
              "3     4.0    David     NaN\n",
              "4     NaN   Xavier     1.0\n",
              "5     NaN  Yolanda     3.0"
            ]
          },
          "metadata": {},
          "execution_count": 28
        }
      ]
    },
    {
      "cell_type": "code",
      "source": [
        "rg = reg.set_index('name')"
      ],
      "metadata": {
        "id": "1-IjkTpZoPGU"
      },
      "execution_count": null,
      "outputs": []
    },
    {
      "cell_type": "code",
      "source": [
        "rg"
      ],
      "metadata": {
        "colab": {
          "base_uri": "https://localhost:8080/",
          "height": 206
        },
        "id": "JxB7oSRnpyU5",
        "outputId": "4a8663fc-5b3f-4bc2-cfa2-d86d1a37ab5b"
      },
      "execution_count": null,
      "outputs": [
        {
          "output_type": "execute_result",
          "data": {
            "text/html": [
              "\n",
              "  <div id=\"df-86d8c635-1ff6-409a-8b33-b79a9c59d93d\">\n",
              "    <div class=\"colab-df-container\">\n",
              "      <div>\n",
              "<style scoped>\n",
              "    .dataframe tbody tr th:only-of-type {\n",
              "        vertical-align: middle;\n",
              "    }\n",
              "\n",
              "    .dataframe tbody tr th {\n",
              "        vertical-align: top;\n",
              "    }\n",
              "\n",
              "    .dataframe thead th {\n",
              "        text-align: right;\n",
              "    }\n",
              "</style>\n",
              "<table border=\"1\" class=\"dataframe\">\n",
              "  <thead>\n",
              "    <tr style=\"text-align: right;\">\n",
              "      <th></th>\n",
              "      <th>reg_id</th>\n",
              "    </tr>\n",
              "    <tr>\n",
              "      <th>name</th>\n",
              "      <th></th>\n",
              "    </tr>\n",
              "  </thead>\n",
              "  <tbody>\n",
              "    <tr>\n",
              "      <th>Andrew</th>\n",
              "      <td>1</td>\n",
              "    </tr>\n",
              "    <tr>\n",
              "      <th>Bobo</th>\n",
              "      <td>2</td>\n",
              "    </tr>\n",
              "    <tr>\n",
              "      <th>Claire</th>\n",
              "      <td>3</td>\n",
              "    </tr>\n",
              "    <tr>\n",
              "      <th>David</th>\n",
              "      <td>4</td>\n",
              "    </tr>\n",
              "  </tbody>\n",
              "</table>\n",
              "</div>\n",
              "      <button class=\"colab-df-convert\" onclick=\"convertToInteractive('df-86d8c635-1ff6-409a-8b33-b79a9c59d93d')\"\n",
              "              title=\"Convert this dataframe to an interactive table.\"\n",
              "              style=\"display:none;\">\n",
              "        \n",
              "  <svg xmlns=\"http://www.w3.org/2000/svg\" height=\"24px\"viewBox=\"0 0 24 24\"\n",
              "       width=\"24px\">\n",
              "    <path d=\"M0 0h24v24H0V0z\" fill=\"none\"/>\n",
              "    <path d=\"M18.56 5.44l.94 2.06.94-2.06 2.06-.94-2.06-.94-.94-2.06-.94 2.06-2.06.94zm-11 1L8.5 8.5l.94-2.06 2.06-.94-2.06-.94L8.5 2.5l-.94 2.06-2.06.94zm10 10l.94 2.06.94-2.06 2.06-.94-2.06-.94-.94-2.06-.94 2.06-2.06.94z\"/><path d=\"M17.41 7.96l-1.37-1.37c-.4-.4-.92-.59-1.43-.59-.52 0-1.04.2-1.43.59L10.3 9.45l-7.72 7.72c-.78.78-.78 2.05 0 2.83L4 21.41c.39.39.9.59 1.41.59.51 0 1.02-.2 1.41-.59l7.78-7.78 2.81-2.81c.8-.78.8-2.07 0-2.86zM5.41 20L4 18.59l7.72-7.72 1.47 1.35L5.41 20z\"/>\n",
              "  </svg>\n",
              "      </button>\n",
              "      \n",
              "  <style>\n",
              "    .colab-df-container {\n",
              "      display:flex;\n",
              "      flex-wrap:wrap;\n",
              "      gap: 12px;\n",
              "    }\n",
              "\n",
              "    .colab-df-convert {\n",
              "      background-color: #E8F0FE;\n",
              "      border: none;\n",
              "      border-radius: 50%;\n",
              "      cursor: pointer;\n",
              "      display: none;\n",
              "      fill: #1967D2;\n",
              "      height: 32px;\n",
              "      padding: 0 0 0 0;\n",
              "      width: 32px;\n",
              "    }\n",
              "\n",
              "    .colab-df-convert:hover {\n",
              "      background-color: #E2EBFA;\n",
              "      box-shadow: 0px 1px 2px rgba(60, 64, 67, 0.3), 0px 1px 3px 1px rgba(60, 64, 67, 0.15);\n",
              "      fill: #174EA6;\n",
              "    }\n",
              "\n",
              "    [theme=dark] .colab-df-convert {\n",
              "      background-color: #3B4455;\n",
              "      fill: #D2E3FC;\n",
              "    }\n",
              "\n",
              "    [theme=dark] .colab-df-convert:hover {\n",
              "      background-color: #434B5C;\n",
              "      box-shadow: 0px 1px 3px 1px rgba(0, 0, 0, 0.15);\n",
              "      filter: drop-shadow(0px 1px 2px rgba(0, 0, 0, 0.3));\n",
              "      fill: #FFFFFF;\n",
              "    }\n",
              "  </style>\n",
              "\n",
              "      <script>\n",
              "        const buttonEl =\n",
              "          document.querySelector('#df-86d8c635-1ff6-409a-8b33-b79a9c59d93d button.colab-df-convert');\n",
              "        buttonEl.style.display =\n",
              "          google.colab.kernel.accessAllowed ? 'block' : 'none';\n",
              "\n",
              "        async function convertToInteractive(key) {\n",
              "          const element = document.querySelector('#df-86d8c635-1ff6-409a-8b33-b79a9c59d93d');\n",
              "          const dataTable =\n",
              "            await google.colab.kernel.invokeFunction('convertToInteractive',\n",
              "                                                     [key], {});\n",
              "          if (!dataTable) return;\n",
              "\n",
              "          const docLinkHtml = 'Like what you see? Visit the ' +\n",
              "            '<a target=\"_blank\" href=https://colab.research.google.com/notebooks/data_table.ipynb>data table notebook</a>'\n",
              "            + ' to learn more about interactive tables.';\n",
              "          element.innerHTML = '';\n",
              "          dataTable['output_type'] = 'display_data';\n",
              "          await google.colab.output.renderOutput(dataTable, element);\n",
              "          const docLink = document.createElement('div');\n",
              "          docLink.innerHTML = docLinkHtml;\n",
              "          element.appendChild(docLink);\n",
              "        }\n",
              "      </script>\n",
              "    </div>\n",
              "  </div>\n",
              "  "
            ],
            "text/plain": [
              "        reg_id\n",
              "name          \n",
              "Andrew       1\n",
              "Bobo         2\n",
              "Claire       3\n",
              "David        4"
            ]
          },
          "metadata": {},
          "execution_count": 30
        }
      ]
    },
    {
      "cell_type": "code",
      "source": [
        "pd.merge(rg,log,left_index=True,right_on='name',how='inner')\n",
        "#here we're using the index of the left DataFraame and the name of the right DataFrame"
      ],
      "metadata": {
        "colab": {
          "base_uri": "https://localhost:8080/",
          "height": 112
        },
        "id": "lhyBw3-Up2PX",
        "outputId": "d6b98e6c-19f0-475c-ba6a-91f98a606221"
      },
      "execution_count": null,
      "outputs": [
        {
          "output_type": "execute_result",
          "data": {
            "text/html": [
              "\n",
              "  <div id=\"df-99d0dae4-f822-4661-ac11-7930617e7f53\">\n",
              "    <div class=\"colab-df-container\">\n",
              "      <div>\n",
              "<style scoped>\n",
              "    .dataframe tbody tr th:only-of-type {\n",
              "        vertical-align: middle;\n",
              "    }\n",
              "\n",
              "    .dataframe tbody tr th {\n",
              "        vertical-align: top;\n",
              "    }\n",
              "\n",
              "    .dataframe thead th {\n",
              "        text-align: right;\n",
              "    }\n",
              "</style>\n",
              "<table border=\"1\" class=\"dataframe\">\n",
              "  <thead>\n",
              "    <tr style=\"text-align: right;\">\n",
              "      <th></th>\n",
              "      <th>reg_id</th>\n",
              "      <th>log_id</th>\n",
              "      <th>name</th>\n",
              "    </tr>\n",
              "  </thead>\n",
              "  <tbody>\n",
              "    <tr>\n",
              "      <th>1</th>\n",
              "      <td>1</td>\n",
              "      <td>2</td>\n",
              "      <td>Andrew</td>\n",
              "    </tr>\n",
              "    <tr>\n",
              "      <th>3</th>\n",
              "      <td>2</td>\n",
              "      <td>4</td>\n",
              "      <td>Bobo</td>\n",
              "    </tr>\n",
              "  </tbody>\n",
              "</table>\n",
              "</div>\n",
              "      <button class=\"colab-df-convert\" onclick=\"convertToInteractive('df-99d0dae4-f822-4661-ac11-7930617e7f53')\"\n",
              "              title=\"Convert this dataframe to an interactive table.\"\n",
              "              style=\"display:none;\">\n",
              "        \n",
              "  <svg xmlns=\"http://www.w3.org/2000/svg\" height=\"24px\"viewBox=\"0 0 24 24\"\n",
              "       width=\"24px\">\n",
              "    <path d=\"M0 0h24v24H0V0z\" fill=\"none\"/>\n",
              "    <path d=\"M18.56 5.44l.94 2.06.94-2.06 2.06-.94-2.06-.94-.94-2.06-.94 2.06-2.06.94zm-11 1L8.5 8.5l.94-2.06 2.06-.94-2.06-.94L8.5 2.5l-.94 2.06-2.06.94zm10 10l.94 2.06.94-2.06 2.06-.94-2.06-.94-.94-2.06-.94 2.06-2.06.94z\"/><path d=\"M17.41 7.96l-1.37-1.37c-.4-.4-.92-.59-1.43-.59-.52 0-1.04.2-1.43.59L10.3 9.45l-7.72 7.72c-.78.78-.78 2.05 0 2.83L4 21.41c.39.39.9.59 1.41.59.51 0 1.02-.2 1.41-.59l7.78-7.78 2.81-2.81c.8-.78.8-2.07 0-2.86zM5.41 20L4 18.59l7.72-7.72 1.47 1.35L5.41 20z\"/>\n",
              "  </svg>\n",
              "      </button>\n",
              "      \n",
              "  <style>\n",
              "    .colab-df-container {\n",
              "      display:flex;\n",
              "      flex-wrap:wrap;\n",
              "      gap: 12px;\n",
              "    }\n",
              "\n",
              "    .colab-df-convert {\n",
              "      background-color: #E8F0FE;\n",
              "      border: none;\n",
              "      border-radius: 50%;\n",
              "      cursor: pointer;\n",
              "      display: none;\n",
              "      fill: #1967D2;\n",
              "      height: 32px;\n",
              "      padding: 0 0 0 0;\n",
              "      width: 32px;\n",
              "    }\n",
              "\n",
              "    .colab-df-convert:hover {\n",
              "      background-color: #E2EBFA;\n",
              "      box-shadow: 0px 1px 2px rgba(60, 64, 67, 0.3), 0px 1px 3px 1px rgba(60, 64, 67, 0.15);\n",
              "      fill: #174EA6;\n",
              "    }\n",
              "\n",
              "    [theme=dark] .colab-df-convert {\n",
              "      background-color: #3B4455;\n",
              "      fill: #D2E3FC;\n",
              "    }\n",
              "\n",
              "    [theme=dark] .colab-df-convert:hover {\n",
              "      background-color: #434B5C;\n",
              "      box-shadow: 0px 1px 3px 1px rgba(0, 0, 0, 0.15);\n",
              "      filter: drop-shadow(0px 1px 2px rgba(0, 0, 0, 0.3));\n",
              "      fill: #FFFFFF;\n",
              "    }\n",
              "  </style>\n",
              "\n",
              "      <script>\n",
              "        const buttonEl =\n",
              "          document.querySelector('#df-99d0dae4-f822-4661-ac11-7930617e7f53 button.colab-df-convert');\n",
              "        buttonEl.style.display =\n",
              "          google.colab.kernel.accessAllowed ? 'block' : 'none';\n",
              "\n",
              "        async function convertToInteractive(key) {\n",
              "          const element = document.querySelector('#df-99d0dae4-f822-4661-ac11-7930617e7f53');\n",
              "          const dataTable =\n",
              "            await google.colab.kernel.invokeFunction('convertToInteractive',\n",
              "                                                     [key], {});\n",
              "          if (!dataTable) return;\n",
              "\n",
              "          const docLinkHtml = 'Like what you see? Visit the ' +\n",
              "            '<a target=\"_blank\" href=https://colab.research.google.com/notebooks/data_table.ipynb>data table notebook</a>'\n",
              "            + ' to learn more about interactive tables.';\n",
              "          element.innerHTML = '';\n",
              "          dataTable['output_type'] = 'display_data';\n",
              "          await google.colab.output.renderOutput(dataTable, element);\n",
              "          const docLink = document.createElement('div');\n",
              "          docLink.innerHTML = docLinkHtml;\n",
              "          element.appendChild(docLink);\n",
              "        }\n",
              "      </script>\n",
              "    </div>\n",
              "  </div>\n",
              "  "
            ],
            "text/plain": [
              "   reg_id  log_id    name\n",
              "1       1       2  Andrew\n",
              "3       2       4    Bobo"
            ]
          },
          "metadata": {},
          "execution_count": 31
        }
      ]
    },
    {
      "cell_type": "code",
      "source": [
        "rg = rg.reset_index()\n",
        "rg.columns = ['reg_name','red_id']\n",
        "rg"
      ],
      "metadata": {
        "colab": {
          "base_uri": "https://localhost:8080/",
          "height": 174
        },
        "id": "Sa41injGqV4y",
        "outputId": "06871360-615c-4093-b42f-c1a7ff314ff3"
      },
      "execution_count": null,
      "outputs": [
        {
          "output_type": "execute_result",
          "data": {
            "text/html": [
              "\n",
              "  <div id=\"df-b6515e8d-6f08-4f8d-9830-91399ac5ea53\">\n",
              "    <div class=\"colab-df-container\">\n",
              "      <div>\n",
              "<style scoped>\n",
              "    .dataframe tbody tr th:only-of-type {\n",
              "        vertical-align: middle;\n",
              "    }\n",
              "\n",
              "    .dataframe tbody tr th {\n",
              "        vertical-align: top;\n",
              "    }\n",
              "\n",
              "    .dataframe thead th {\n",
              "        text-align: right;\n",
              "    }\n",
              "</style>\n",
              "<table border=\"1\" class=\"dataframe\">\n",
              "  <thead>\n",
              "    <tr style=\"text-align: right;\">\n",
              "      <th></th>\n",
              "      <th>reg_name</th>\n",
              "      <th>red_id</th>\n",
              "    </tr>\n",
              "  </thead>\n",
              "  <tbody>\n",
              "    <tr>\n",
              "      <th>0</th>\n",
              "      <td>Andrew</td>\n",
              "      <td>1</td>\n",
              "    </tr>\n",
              "    <tr>\n",
              "      <th>1</th>\n",
              "      <td>Bobo</td>\n",
              "      <td>2</td>\n",
              "    </tr>\n",
              "    <tr>\n",
              "      <th>2</th>\n",
              "      <td>Claire</td>\n",
              "      <td>3</td>\n",
              "    </tr>\n",
              "    <tr>\n",
              "      <th>3</th>\n",
              "      <td>David</td>\n",
              "      <td>4</td>\n",
              "    </tr>\n",
              "  </tbody>\n",
              "</table>\n",
              "</div>\n",
              "      <button class=\"colab-df-convert\" onclick=\"convertToInteractive('df-b6515e8d-6f08-4f8d-9830-91399ac5ea53')\"\n",
              "              title=\"Convert this dataframe to an interactive table.\"\n",
              "              style=\"display:none;\">\n",
              "        \n",
              "  <svg xmlns=\"http://www.w3.org/2000/svg\" height=\"24px\"viewBox=\"0 0 24 24\"\n",
              "       width=\"24px\">\n",
              "    <path d=\"M0 0h24v24H0V0z\" fill=\"none\"/>\n",
              "    <path d=\"M18.56 5.44l.94 2.06.94-2.06 2.06-.94-2.06-.94-.94-2.06-.94 2.06-2.06.94zm-11 1L8.5 8.5l.94-2.06 2.06-.94-2.06-.94L8.5 2.5l-.94 2.06-2.06.94zm10 10l.94 2.06.94-2.06 2.06-.94-2.06-.94-.94-2.06-.94 2.06-2.06.94z\"/><path d=\"M17.41 7.96l-1.37-1.37c-.4-.4-.92-.59-1.43-.59-.52 0-1.04.2-1.43.59L10.3 9.45l-7.72 7.72c-.78.78-.78 2.05 0 2.83L4 21.41c.39.39.9.59 1.41.59.51 0 1.02-.2 1.41-.59l7.78-7.78 2.81-2.81c.8-.78.8-2.07 0-2.86zM5.41 20L4 18.59l7.72-7.72 1.47 1.35L5.41 20z\"/>\n",
              "  </svg>\n",
              "      </button>\n",
              "      \n",
              "  <style>\n",
              "    .colab-df-container {\n",
              "      display:flex;\n",
              "      flex-wrap:wrap;\n",
              "      gap: 12px;\n",
              "    }\n",
              "\n",
              "    .colab-df-convert {\n",
              "      background-color: #E8F0FE;\n",
              "      border: none;\n",
              "      border-radius: 50%;\n",
              "      cursor: pointer;\n",
              "      display: none;\n",
              "      fill: #1967D2;\n",
              "      height: 32px;\n",
              "      padding: 0 0 0 0;\n",
              "      width: 32px;\n",
              "    }\n",
              "\n",
              "    .colab-df-convert:hover {\n",
              "      background-color: #E2EBFA;\n",
              "      box-shadow: 0px 1px 2px rgba(60, 64, 67, 0.3), 0px 1px 3px 1px rgba(60, 64, 67, 0.15);\n",
              "      fill: #174EA6;\n",
              "    }\n",
              "\n",
              "    [theme=dark] .colab-df-convert {\n",
              "      background-color: #3B4455;\n",
              "      fill: #D2E3FC;\n",
              "    }\n",
              "\n",
              "    [theme=dark] .colab-df-convert:hover {\n",
              "      background-color: #434B5C;\n",
              "      box-shadow: 0px 1px 3px 1px rgba(0, 0, 0, 0.15);\n",
              "      filter: drop-shadow(0px 1px 2px rgba(0, 0, 0, 0.3));\n",
              "      fill: #FFFFFF;\n",
              "    }\n",
              "  </style>\n",
              "\n",
              "      <script>\n",
              "        const buttonEl =\n",
              "          document.querySelector('#df-b6515e8d-6f08-4f8d-9830-91399ac5ea53 button.colab-df-convert');\n",
              "        buttonEl.style.display =\n",
              "          google.colab.kernel.accessAllowed ? 'block' : 'none';\n",
              "\n",
              "        async function convertToInteractive(key) {\n",
              "          const element = document.querySelector('#df-b6515e8d-6f08-4f8d-9830-91399ac5ea53');\n",
              "          const dataTable =\n",
              "            await google.colab.kernel.invokeFunction('convertToInteractive',\n",
              "                                                     [key], {});\n",
              "          if (!dataTable) return;\n",
              "\n",
              "          const docLinkHtml = 'Like what you see? Visit the ' +\n",
              "            '<a target=\"_blank\" href=https://colab.research.google.com/notebooks/data_table.ipynb>data table notebook</a>'\n",
              "            + ' to learn more about interactive tables.';\n",
              "          element.innerHTML = '';\n",
              "          dataTable['output_type'] = 'display_data';\n",
              "          await google.colab.output.renderOutput(dataTable, element);\n",
              "          const docLink = document.createElement('div');\n",
              "          docLink.innerHTML = docLinkHtml;\n",
              "          element.appendChild(docLink);\n",
              "        }\n",
              "      </script>\n",
              "    </div>\n",
              "  </div>\n",
              "  "
            ],
            "text/plain": [
              "  reg_name  red_id\n",
              "0   Andrew       1\n",
              "1     Bobo       2\n",
              "2   Claire       3\n",
              "3    David       4"
            ]
          },
          "metadata": {},
          "execution_count": 32
        }
      ]
    },
    {
      "cell_type": "code",
      "source": [
        "pd.merge(rg,log,left_on='reg_name',right_on='name',how='inner')\n",
        "#used to select specific columns on left and right DataFrame"
      ],
      "metadata": {
        "colab": {
          "base_uri": "https://localhost:8080/",
          "height": 112
        },
        "id": "039ILz06q7yl",
        "outputId": "e2ac61d7-6e7c-4414-b3dc-4e85e21749c8"
      },
      "execution_count": null,
      "outputs": [
        {
          "output_type": "execute_result",
          "data": {
            "text/html": [
              "\n",
              "  <div id=\"df-5bedefda-2f20-452b-8744-9bb2007826e2\">\n",
              "    <div class=\"colab-df-container\">\n",
              "      <div>\n",
              "<style scoped>\n",
              "    .dataframe tbody tr th:only-of-type {\n",
              "        vertical-align: middle;\n",
              "    }\n",
              "\n",
              "    .dataframe tbody tr th {\n",
              "        vertical-align: top;\n",
              "    }\n",
              "\n",
              "    .dataframe thead th {\n",
              "        text-align: right;\n",
              "    }\n",
              "</style>\n",
              "<table border=\"1\" class=\"dataframe\">\n",
              "  <thead>\n",
              "    <tr style=\"text-align: right;\">\n",
              "      <th></th>\n",
              "      <th>reg_name</th>\n",
              "      <th>red_id</th>\n",
              "      <th>log_id</th>\n",
              "      <th>name</th>\n",
              "    </tr>\n",
              "  </thead>\n",
              "  <tbody>\n",
              "    <tr>\n",
              "      <th>0</th>\n",
              "      <td>Andrew</td>\n",
              "      <td>1</td>\n",
              "      <td>2</td>\n",
              "      <td>Andrew</td>\n",
              "    </tr>\n",
              "    <tr>\n",
              "      <th>1</th>\n",
              "      <td>Bobo</td>\n",
              "      <td>2</td>\n",
              "      <td>4</td>\n",
              "      <td>Bobo</td>\n",
              "    </tr>\n",
              "  </tbody>\n",
              "</table>\n",
              "</div>\n",
              "      <button class=\"colab-df-convert\" onclick=\"convertToInteractive('df-5bedefda-2f20-452b-8744-9bb2007826e2')\"\n",
              "              title=\"Convert this dataframe to an interactive table.\"\n",
              "              style=\"display:none;\">\n",
              "        \n",
              "  <svg xmlns=\"http://www.w3.org/2000/svg\" height=\"24px\"viewBox=\"0 0 24 24\"\n",
              "       width=\"24px\">\n",
              "    <path d=\"M0 0h24v24H0V0z\" fill=\"none\"/>\n",
              "    <path d=\"M18.56 5.44l.94 2.06.94-2.06 2.06-.94-2.06-.94-.94-2.06-.94 2.06-2.06.94zm-11 1L8.5 8.5l.94-2.06 2.06-.94-2.06-.94L8.5 2.5l-.94 2.06-2.06.94zm10 10l.94 2.06.94-2.06 2.06-.94-2.06-.94-.94-2.06-.94 2.06-2.06.94z\"/><path d=\"M17.41 7.96l-1.37-1.37c-.4-.4-.92-.59-1.43-.59-.52 0-1.04.2-1.43.59L10.3 9.45l-7.72 7.72c-.78.78-.78 2.05 0 2.83L4 21.41c.39.39.9.59 1.41.59.51 0 1.02-.2 1.41-.59l7.78-7.78 2.81-2.81c.8-.78.8-2.07 0-2.86zM5.41 20L4 18.59l7.72-7.72 1.47 1.35L5.41 20z\"/>\n",
              "  </svg>\n",
              "      </button>\n",
              "      \n",
              "  <style>\n",
              "    .colab-df-container {\n",
              "      display:flex;\n",
              "      flex-wrap:wrap;\n",
              "      gap: 12px;\n",
              "    }\n",
              "\n",
              "    .colab-df-convert {\n",
              "      background-color: #E8F0FE;\n",
              "      border: none;\n",
              "      border-radius: 50%;\n",
              "      cursor: pointer;\n",
              "      display: none;\n",
              "      fill: #1967D2;\n",
              "      height: 32px;\n",
              "      padding: 0 0 0 0;\n",
              "      width: 32px;\n",
              "    }\n",
              "\n",
              "    .colab-df-convert:hover {\n",
              "      background-color: #E2EBFA;\n",
              "      box-shadow: 0px 1px 2px rgba(60, 64, 67, 0.3), 0px 1px 3px 1px rgba(60, 64, 67, 0.15);\n",
              "      fill: #174EA6;\n",
              "    }\n",
              "\n",
              "    [theme=dark] .colab-df-convert {\n",
              "      background-color: #3B4455;\n",
              "      fill: #D2E3FC;\n",
              "    }\n",
              "\n",
              "    [theme=dark] .colab-df-convert:hover {\n",
              "      background-color: #434B5C;\n",
              "      box-shadow: 0px 1px 3px 1px rgba(0, 0, 0, 0.15);\n",
              "      filter: drop-shadow(0px 1px 2px rgba(0, 0, 0, 0.3));\n",
              "      fill: #FFFFFF;\n",
              "    }\n",
              "  </style>\n",
              "\n",
              "      <script>\n",
              "        const buttonEl =\n",
              "          document.querySelector('#df-5bedefda-2f20-452b-8744-9bb2007826e2 button.colab-df-convert');\n",
              "        buttonEl.style.display =\n",
              "          google.colab.kernel.accessAllowed ? 'block' : 'none';\n",
              "\n",
              "        async function convertToInteractive(key) {\n",
              "          const element = document.querySelector('#df-5bedefda-2f20-452b-8744-9bb2007826e2');\n",
              "          const dataTable =\n",
              "            await google.colab.kernel.invokeFunction('convertToInteractive',\n",
              "                                                     [key], {});\n",
              "          if (!dataTable) return;\n",
              "\n",
              "          const docLinkHtml = 'Like what you see? Visit the ' +\n",
              "            '<a target=\"_blank\" href=https://colab.research.google.com/notebooks/data_table.ipynb>data table notebook</a>'\n",
              "            + ' to learn more about interactive tables.';\n",
              "          element.innerHTML = '';\n",
              "          dataTable['output_type'] = 'display_data';\n",
              "          await google.colab.output.renderOutput(dataTable, element);\n",
              "          const docLink = document.createElement('div');\n",
              "          docLink.innerHTML = docLinkHtml;\n",
              "          element.appendChild(docLink);\n",
              "        }\n",
              "      </script>\n",
              "    </div>\n",
              "  </div>\n",
              "  "
            ],
            "text/plain": [
              "  reg_name  red_id  log_id    name\n",
              "0   Andrew       1       2  Andrew\n",
              "1     Bobo       2       4    Bobo"
            ]
          },
          "metadata": {},
          "execution_count": 33
        }
      ]
    },
    {
      "cell_type": "code",
      "source": [
        "reg"
      ],
      "metadata": {
        "colab": {
          "base_uri": "https://localhost:8080/",
          "height": 174
        },
        "id": "5e4225iBrhDz",
        "outputId": "3870c070-b479-4a60-f4fe-b3926ee5b77b"
      },
      "execution_count": null,
      "outputs": [
        {
          "output_type": "execute_result",
          "data": {
            "text/html": [
              "\n",
              "  <div id=\"df-32fe7d98-b328-40b9-8f41-1ae70f38c2ed\">\n",
              "    <div class=\"colab-df-container\">\n",
              "      <div>\n",
              "<style scoped>\n",
              "    .dataframe tbody tr th:only-of-type {\n",
              "        vertical-align: middle;\n",
              "    }\n",
              "\n",
              "    .dataframe tbody tr th {\n",
              "        vertical-align: top;\n",
              "    }\n",
              "\n",
              "    .dataframe thead th {\n",
              "        text-align: right;\n",
              "    }\n",
              "</style>\n",
              "<table border=\"1\" class=\"dataframe\">\n",
              "  <thead>\n",
              "    <tr style=\"text-align: right;\">\n",
              "      <th></th>\n",
              "      <th>reg_id</th>\n",
              "      <th>name</th>\n",
              "    </tr>\n",
              "  </thead>\n",
              "  <tbody>\n",
              "    <tr>\n",
              "      <th>0</th>\n",
              "      <td>1</td>\n",
              "      <td>Andrew</td>\n",
              "    </tr>\n",
              "    <tr>\n",
              "      <th>1</th>\n",
              "      <td>2</td>\n",
              "      <td>Bobo</td>\n",
              "    </tr>\n",
              "    <tr>\n",
              "      <th>2</th>\n",
              "      <td>3</td>\n",
              "      <td>Claire</td>\n",
              "    </tr>\n",
              "    <tr>\n",
              "      <th>3</th>\n",
              "      <td>4</td>\n",
              "      <td>David</td>\n",
              "    </tr>\n",
              "  </tbody>\n",
              "</table>\n",
              "</div>\n",
              "      <button class=\"colab-df-convert\" onclick=\"convertToInteractive('df-32fe7d98-b328-40b9-8f41-1ae70f38c2ed')\"\n",
              "              title=\"Convert this dataframe to an interactive table.\"\n",
              "              style=\"display:none;\">\n",
              "        \n",
              "  <svg xmlns=\"http://www.w3.org/2000/svg\" height=\"24px\"viewBox=\"0 0 24 24\"\n",
              "       width=\"24px\">\n",
              "    <path d=\"M0 0h24v24H0V0z\" fill=\"none\"/>\n",
              "    <path d=\"M18.56 5.44l.94 2.06.94-2.06 2.06-.94-2.06-.94-.94-2.06-.94 2.06-2.06.94zm-11 1L8.5 8.5l.94-2.06 2.06-.94-2.06-.94L8.5 2.5l-.94 2.06-2.06.94zm10 10l.94 2.06.94-2.06 2.06-.94-2.06-.94-.94-2.06-.94 2.06-2.06.94z\"/><path d=\"M17.41 7.96l-1.37-1.37c-.4-.4-.92-.59-1.43-.59-.52 0-1.04.2-1.43.59L10.3 9.45l-7.72 7.72c-.78.78-.78 2.05 0 2.83L4 21.41c.39.39.9.59 1.41.59.51 0 1.02-.2 1.41-.59l7.78-7.78 2.81-2.81c.8-.78.8-2.07 0-2.86zM5.41 20L4 18.59l7.72-7.72 1.47 1.35L5.41 20z\"/>\n",
              "  </svg>\n",
              "      </button>\n",
              "      \n",
              "  <style>\n",
              "    .colab-df-container {\n",
              "      display:flex;\n",
              "      flex-wrap:wrap;\n",
              "      gap: 12px;\n",
              "    }\n",
              "\n",
              "    .colab-df-convert {\n",
              "      background-color: #E8F0FE;\n",
              "      border: none;\n",
              "      border-radius: 50%;\n",
              "      cursor: pointer;\n",
              "      display: none;\n",
              "      fill: #1967D2;\n",
              "      height: 32px;\n",
              "      padding: 0 0 0 0;\n",
              "      width: 32px;\n",
              "    }\n",
              "\n",
              "    .colab-df-convert:hover {\n",
              "      background-color: #E2EBFA;\n",
              "      box-shadow: 0px 1px 2px rgba(60, 64, 67, 0.3), 0px 1px 3px 1px rgba(60, 64, 67, 0.15);\n",
              "      fill: #174EA6;\n",
              "    }\n",
              "\n",
              "    [theme=dark] .colab-df-convert {\n",
              "      background-color: #3B4455;\n",
              "      fill: #D2E3FC;\n",
              "    }\n",
              "\n",
              "    [theme=dark] .colab-df-convert:hover {\n",
              "      background-color: #434B5C;\n",
              "      box-shadow: 0px 1px 3px 1px rgba(0, 0, 0, 0.15);\n",
              "      filter: drop-shadow(0px 1px 2px rgba(0, 0, 0, 0.3));\n",
              "      fill: #FFFFFF;\n",
              "    }\n",
              "  </style>\n",
              "\n",
              "      <script>\n",
              "        const buttonEl =\n",
              "          document.querySelector('#df-32fe7d98-b328-40b9-8f41-1ae70f38c2ed button.colab-df-convert');\n",
              "        buttonEl.style.display =\n",
              "          google.colab.kernel.accessAllowed ? 'block' : 'none';\n",
              "\n",
              "        async function convertToInteractive(key) {\n",
              "          const element = document.querySelector('#df-32fe7d98-b328-40b9-8f41-1ae70f38c2ed');\n",
              "          const dataTable =\n",
              "            await google.colab.kernel.invokeFunction('convertToInteractive',\n",
              "                                                     [key], {});\n",
              "          if (!dataTable) return;\n",
              "\n",
              "          const docLinkHtml = 'Like what you see? Visit the ' +\n",
              "            '<a target=\"_blank\" href=https://colab.research.google.com/notebooks/data_table.ipynb>data table notebook</a>'\n",
              "            + ' to learn more about interactive tables.';\n",
              "          element.innerHTML = '';\n",
              "          dataTable['output_type'] = 'display_data';\n",
              "          await google.colab.output.renderOutput(dataTable, element);\n",
              "          const docLink = document.createElement('div');\n",
              "          docLink.innerHTML = docLinkHtml;\n",
              "          element.appendChild(docLink);\n",
              "        }\n",
              "      </script>\n",
              "    </div>\n",
              "  </div>\n",
              "  "
            ],
            "text/plain": [
              "   reg_id    name\n",
              "0       1  Andrew\n",
              "1       2    Bobo\n",
              "2       3  Claire\n",
              "3       4   David"
            ]
          },
          "metadata": {},
          "execution_count": 34
        }
      ]
    },
    {
      "cell_type": "code",
      "source": [
        "reg.columns = ['id','name']\n",
        "log.columns = ['id','name']"
      ],
      "metadata": {
        "id": "TArrFsfwrzIw"
      },
      "execution_count": null,
      "outputs": []
    },
    {
      "cell_type": "code",
      "source": [
        "reg"
      ],
      "metadata": {
        "colab": {
          "base_uri": "https://localhost:8080/",
          "height": 174
        },
        "id": "k9uT9Tr3sCI7",
        "outputId": "4a6a17e9-b1d5-42f2-ce20-3f8179f9b773"
      },
      "execution_count": null,
      "outputs": [
        {
          "output_type": "execute_result",
          "data": {
            "text/html": [
              "\n",
              "  <div id=\"df-adeae015-4725-49d1-8d8a-69947baecd00\">\n",
              "    <div class=\"colab-df-container\">\n",
              "      <div>\n",
              "<style scoped>\n",
              "    .dataframe tbody tr th:only-of-type {\n",
              "        vertical-align: middle;\n",
              "    }\n",
              "\n",
              "    .dataframe tbody tr th {\n",
              "        vertical-align: top;\n",
              "    }\n",
              "\n",
              "    .dataframe thead th {\n",
              "        text-align: right;\n",
              "    }\n",
              "</style>\n",
              "<table border=\"1\" class=\"dataframe\">\n",
              "  <thead>\n",
              "    <tr style=\"text-align: right;\">\n",
              "      <th></th>\n",
              "      <th>id</th>\n",
              "      <th>name</th>\n",
              "    </tr>\n",
              "  </thead>\n",
              "  <tbody>\n",
              "    <tr>\n",
              "      <th>0</th>\n",
              "      <td>1</td>\n",
              "      <td>Andrew</td>\n",
              "    </tr>\n",
              "    <tr>\n",
              "      <th>1</th>\n",
              "      <td>2</td>\n",
              "      <td>Bobo</td>\n",
              "    </tr>\n",
              "    <tr>\n",
              "      <th>2</th>\n",
              "      <td>3</td>\n",
              "      <td>Claire</td>\n",
              "    </tr>\n",
              "    <tr>\n",
              "      <th>3</th>\n",
              "      <td>4</td>\n",
              "      <td>David</td>\n",
              "    </tr>\n",
              "  </tbody>\n",
              "</table>\n",
              "</div>\n",
              "      <button class=\"colab-df-convert\" onclick=\"convertToInteractive('df-adeae015-4725-49d1-8d8a-69947baecd00')\"\n",
              "              title=\"Convert this dataframe to an interactive table.\"\n",
              "              style=\"display:none;\">\n",
              "        \n",
              "  <svg xmlns=\"http://www.w3.org/2000/svg\" height=\"24px\"viewBox=\"0 0 24 24\"\n",
              "       width=\"24px\">\n",
              "    <path d=\"M0 0h24v24H0V0z\" fill=\"none\"/>\n",
              "    <path d=\"M18.56 5.44l.94 2.06.94-2.06 2.06-.94-2.06-.94-.94-2.06-.94 2.06-2.06.94zm-11 1L8.5 8.5l.94-2.06 2.06-.94-2.06-.94L8.5 2.5l-.94 2.06-2.06.94zm10 10l.94 2.06.94-2.06 2.06-.94-2.06-.94-.94-2.06-.94 2.06-2.06.94z\"/><path d=\"M17.41 7.96l-1.37-1.37c-.4-.4-.92-.59-1.43-.59-.52 0-1.04.2-1.43.59L10.3 9.45l-7.72 7.72c-.78.78-.78 2.05 0 2.83L4 21.41c.39.39.9.59 1.41.59.51 0 1.02-.2 1.41-.59l7.78-7.78 2.81-2.81c.8-.78.8-2.07 0-2.86zM5.41 20L4 18.59l7.72-7.72 1.47 1.35L5.41 20z\"/>\n",
              "  </svg>\n",
              "      </button>\n",
              "      \n",
              "  <style>\n",
              "    .colab-df-container {\n",
              "      display:flex;\n",
              "      flex-wrap:wrap;\n",
              "      gap: 12px;\n",
              "    }\n",
              "\n",
              "    .colab-df-convert {\n",
              "      background-color: #E8F0FE;\n",
              "      border: none;\n",
              "      border-radius: 50%;\n",
              "      cursor: pointer;\n",
              "      display: none;\n",
              "      fill: #1967D2;\n",
              "      height: 32px;\n",
              "      padding: 0 0 0 0;\n",
              "      width: 32px;\n",
              "    }\n",
              "\n",
              "    .colab-df-convert:hover {\n",
              "      background-color: #E2EBFA;\n",
              "      box-shadow: 0px 1px 2px rgba(60, 64, 67, 0.3), 0px 1px 3px 1px rgba(60, 64, 67, 0.15);\n",
              "      fill: #174EA6;\n",
              "    }\n",
              "\n",
              "    [theme=dark] .colab-df-convert {\n",
              "      background-color: #3B4455;\n",
              "      fill: #D2E3FC;\n",
              "    }\n",
              "\n",
              "    [theme=dark] .colab-df-convert:hover {\n",
              "      background-color: #434B5C;\n",
              "      box-shadow: 0px 1px 3px 1px rgba(0, 0, 0, 0.15);\n",
              "      filter: drop-shadow(0px 1px 2px rgba(0, 0, 0, 0.3));\n",
              "      fill: #FFFFFF;\n",
              "    }\n",
              "  </style>\n",
              "\n",
              "      <script>\n",
              "        const buttonEl =\n",
              "          document.querySelector('#df-adeae015-4725-49d1-8d8a-69947baecd00 button.colab-df-convert');\n",
              "        buttonEl.style.display =\n",
              "          google.colab.kernel.accessAllowed ? 'block' : 'none';\n",
              "\n",
              "        async function convertToInteractive(key) {\n",
              "          const element = document.querySelector('#df-adeae015-4725-49d1-8d8a-69947baecd00');\n",
              "          const dataTable =\n",
              "            await google.colab.kernel.invokeFunction('convertToInteractive',\n",
              "                                                     [key], {});\n",
              "          if (!dataTable) return;\n",
              "\n",
              "          const docLinkHtml = 'Like what you see? Visit the ' +\n",
              "            '<a target=\"_blank\" href=https://colab.research.google.com/notebooks/data_table.ipynb>data table notebook</a>'\n",
              "            + ' to learn more about interactive tables.';\n",
              "          element.innerHTML = '';\n",
              "          dataTable['output_type'] = 'display_data';\n",
              "          await google.colab.output.renderOutput(dataTable, element);\n",
              "          const docLink = document.createElement('div');\n",
              "          docLink.innerHTML = docLinkHtml;\n",
              "          element.appendChild(docLink);\n",
              "        }\n",
              "      </script>\n",
              "    </div>\n",
              "  </div>\n",
              "  "
            ],
            "text/plain": [
              "   id    name\n",
              "0   1  Andrew\n",
              "1   2    Bobo\n",
              "2   3  Claire\n",
              "3   4   David"
            ]
          },
          "metadata": {},
          "execution_count": 36
        }
      ]
    },
    {
      "cell_type": "code",
      "source": [
        "pd.merge(reg,log,how='inner',on='name')\n",
        "#the python automatically suffixes the similar column names with a variable wich can be changed)"
      ],
      "metadata": {
        "colab": {
          "base_uri": "https://localhost:8080/",
          "height": 112
        },
        "id": "S3jn_zuUsIc2",
        "outputId": "1f234de6-dc78-44ca-d10c-5fff91cb4d35"
      },
      "execution_count": null,
      "outputs": [
        {
          "output_type": "execute_result",
          "data": {
            "text/html": [
              "\n",
              "  <div id=\"df-4a623e9e-1b82-44d6-9a66-663a1b209ee2\">\n",
              "    <div class=\"colab-df-container\">\n",
              "      <div>\n",
              "<style scoped>\n",
              "    .dataframe tbody tr th:only-of-type {\n",
              "        vertical-align: middle;\n",
              "    }\n",
              "\n",
              "    .dataframe tbody tr th {\n",
              "        vertical-align: top;\n",
              "    }\n",
              "\n",
              "    .dataframe thead th {\n",
              "        text-align: right;\n",
              "    }\n",
              "</style>\n",
              "<table border=\"1\" class=\"dataframe\">\n",
              "  <thead>\n",
              "    <tr style=\"text-align: right;\">\n",
              "      <th></th>\n",
              "      <th>id_x</th>\n",
              "      <th>name</th>\n",
              "      <th>id_y</th>\n",
              "    </tr>\n",
              "  </thead>\n",
              "  <tbody>\n",
              "    <tr>\n",
              "      <th>0</th>\n",
              "      <td>1</td>\n",
              "      <td>Andrew</td>\n",
              "      <td>2</td>\n",
              "    </tr>\n",
              "    <tr>\n",
              "      <th>1</th>\n",
              "      <td>2</td>\n",
              "      <td>Bobo</td>\n",
              "      <td>4</td>\n",
              "    </tr>\n",
              "  </tbody>\n",
              "</table>\n",
              "</div>\n",
              "      <button class=\"colab-df-convert\" onclick=\"convertToInteractive('df-4a623e9e-1b82-44d6-9a66-663a1b209ee2')\"\n",
              "              title=\"Convert this dataframe to an interactive table.\"\n",
              "              style=\"display:none;\">\n",
              "        \n",
              "  <svg xmlns=\"http://www.w3.org/2000/svg\" height=\"24px\"viewBox=\"0 0 24 24\"\n",
              "       width=\"24px\">\n",
              "    <path d=\"M0 0h24v24H0V0z\" fill=\"none\"/>\n",
              "    <path d=\"M18.56 5.44l.94 2.06.94-2.06 2.06-.94-2.06-.94-.94-2.06-.94 2.06-2.06.94zm-11 1L8.5 8.5l.94-2.06 2.06-.94-2.06-.94L8.5 2.5l-.94 2.06-2.06.94zm10 10l.94 2.06.94-2.06 2.06-.94-2.06-.94-.94-2.06-.94 2.06-2.06.94z\"/><path d=\"M17.41 7.96l-1.37-1.37c-.4-.4-.92-.59-1.43-.59-.52 0-1.04.2-1.43.59L10.3 9.45l-7.72 7.72c-.78.78-.78 2.05 0 2.83L4 21.41c.39.39.9.59 1.41.59.51 0 1.02-.2 1.41-.59l7.78-7.78 2.81-2.81c.8-.78.8-2.07 0-2.86zM5.41 20L4 18.59l7.72-7.72 1.47 1.35L5.41 20z\"/>\n",
              "  </svg>\n",
              "      </button>\n",
              "      \n",
              "  <style>\n",
              "    .colab-df-container {\n",
              "      display:flex;\n",
              "      flex-wrap:wrap;\n",
              "      gap: 12px;\n",
              "    }\n",
              "\n",
              "    .colab-df-convert {\n",
              "      background-color: #E8F0FE;\n",
              "      border: none;\n",
              "      border-radius: 50%;\n",
              "      cursor: pointer;\n",
              "      display: none;\n",
              "      fill: #1967D2;\n",
              "      height: 32px;\n",
              "      padding: 0 0 0 0;\n",
              "      width: 32px;\n",
              "    }\n",
              "\n",
              "    .colab-df-convert:hover {\n",
              "      background-color: #E2EBFA;\n",
              "      box-shadow: 0px 1px 2px rgba(60, 64, 67, 0.3), 0px 1px 3px 1px rgba(60, 64, 67, 0.15);\n",
              "      fill: #174EA6;\n",
              "    }\n",
              "\n",
              "    [theme=dark] .colab-df-convert {\n",
              "      background-color: #3B4455;\n",
              "      fill: #D2E3FC;\n",
              "    }\n",
              "\n",
              "    [theme=dark] .colab-df-convert:hover {\n",
              "      background-color: #434B5C;\n",
              "      box-shadow: 0px 1px 3px 1px rgba(0, 0, 0, 0.15);\n",
              "      filter: drop-shadow(0px 1px 2px rgba(0, 0, 0, 0.3));\n",
              "      fill: #FFFFFF;\n",
              "    }\n",
              "  </style>\n",
              "\n",
              "      <script>\n",
              "        const buttonEl =\n",
              "          document.querySelector('#df-4a623e9e-1b82-44d6-9a66-663a1b209ee2 button.colab-df-convert');\n",
              "        buttonEl.style.display =\n",
              "          google.colab.kernel.accessAllowed ? 'block' : 'none';\n",
              "\n",
              "        async function convertToInteractive(key) {\n",
              "          const element = document.querySelector('#df-4a623e9e-1b82-44d6-9a66-663a1b209ee2');\n",
              "          const dataTable =\n",
              "            await google.colab.kernel.invokeFunction('convertToInteractive',\n",
              "                                                     [key], {});\n",
              "          if (!dataTable) return;\n",
              "\n",
              "          const docLinkHtml = 'Like what you see? Visit the ' +\n",
              "            '<a target=\"_blank\" href=https://colab.research.google.com/notebooks/data_table.ipynb>data table notebook</a>'\n",
              "            + ' to learn more about interactive tables.';\n",
              "          element.innerHTML = '';\n",
              "          dataTable['output_type'] = 'display_data';\n",
              "          await google.colab.output.renderOutput(dataTable, element);\n",
              "          const docLink = document.createElement('div');\n",
              "          docLink.innerHTML = docLinkHtml;\n",
              "          element.appendChild(docLink);\n",
              "        }\n",
              "      </script>\n",
              "    </div>\n",
              "  </div>\n",
              "  "
            ],
            "text/plain": [
              "   id_x    name  id_y\n",
              "0     1  Andrew     2\n",
              "1     2    Bobo     4"
            ]
          },
          "metadata": {},
          "execution_count": 37
        }
      ]
    },
    {
      "cell_type": "code",
      "source": [
        "pd.merge(reg,log,how='inner',on='name',suffixes = ('_reg','_log'))\n",
        "#here we have changed the suffixes of the two ids wiht our own custom suffixes"
      ],
      "metadata": {
        "colab": {
          "base_uri": "https://localhost:8080/",
          "height": 112
        },
        "id": "2EgeisNcsx7H",
        "outputId": "54e03156-5ab6-401b-d9fe-8cf32bd91ac7"
      },
      "execution_count": null,
      "outputs": [
        {
          "output_type": "execute_result",
          "data": {
            "text/html": [
              "\n",
              "  <div id=\"df-8227c42b-dd57-4c04-a8f4-671459f5ca0e\">\n",
              "    <div class=\"colab-df-container\">\n",
              "      <div>\n",
              "<style scoped>\n",
              "    .dataframe tbody tr th:only-of-type {\n",
              "        vertical-align: middle;\n",
              "    }\n",
              "\n",
              "    .dataframe tbody tr th {\n",
              "        vertical-align: top;\n",
              "    }\n",
              "\n",
              "    .dataframe thead th {\n",
              "        text-align: right;\n",
              "    }\n",
              "</style>\n",
              "<table border=\"1\" class=\"dataframe\">\n",
              "  <thead>\n",
              "    <tr style=\"text-align: right;\">\n",
              "      <th></th>\n",
              "      <th>id_reg</th>\n",
              "      <th>name</th>\n",
              "      <th>id_log</th>\n",
              "    </tr>\n",
              "  </thead>\n",
              "  <tbody>\n",
              "    <tr>\n",
              "      <th>0</th>\n",
              "      <td>1</td>\n",
              "      <td>Andrew</td>\n",
              "      <td>2</td>\n",
              "    </tr>\n",
              "    <tr>\n",
              "      <th>1</th>\n",
              "      <td>2</td>\n",
              "      <td>Bobo</td>\n",
              "      <td>4</td>\n",
              "    </tr>\n",
              "  </tbody>\n",
              "</table>\n",
              "</div>\n",
              "      <button class=\"colab-df-convert\" onclick=\"convertToInteractive('df-8227c42b-dd57-4c04-a8f4-671459f5ca0e')\"\n",
              "              title=\"Convert this dataframe to an interactive table.\"\n",
              "              style=\"display:none;\">\n",
              "        \n",
              "  <svg xmlns=\"http://www.w3.org/2000/svg\" height=\"24px\"viewBox=\"0 0 24 24\"\n",
              "       width=\"24px\">\n",
              "    <path d=\"M0 0h24v24H0V0z\" fill=\"none\"/>\n",
              "    <path d=\"M18.56 5.44l.94 2.06.94-2.06 2.06-.94-2.06-.94-.94-2.06-.94 2.06-2.06.94zm-11 1L8.5 8.5l.94-2.06 2.06-.94-2.06-.94L8.5 2.5l-.94 2.06-2.06.94zm10 10l.94 2.06.94-2.06 2.06-.94-2.06-.94-.94-2.06-.94 2.06-2.06.94z\"/><path d=\"M17.41 7.96l-1.37-1.37c-.4-.4-.92-.59-1.43-.59-.52 0-1.04.2-1.43.59L10.3 9.45l-7.72 7.72c-.78.78-.78 2.05 0 2.83L4 21.41c.39.39.9.59 1.41.59.51 0 1.02-.2 1.41-.59l7.78-7.78 2.81-2.81c.8-.78.8-2.07 0-2.86zM5.41 20L4 18.59l7.72-7.72 1.47 1.35L5.41 20z\"/>\n",
              "  </svg>\n",
              "      </button>\n",
              "      \n",
              "  <style>\n",
              "    .colab-df-container {\n",
              "      display:flex;\n",
              "      flex-wrap:wrap;\n",
              "      gap: 12px;\n",
              "    }\n",
              "\n",
              "    .colab-df-convert {\n",
              "      background-color: #E8F0FE;\n",
              "      border: none;\n",
              "      border-radius: 50%;\n",
              "      cursor: pointer;\n",
              "      display: none;\n",
              "      fill: #1967D2;\n",
              "      height: 32px;\n",
              "      padding: 0 0 0 0;\n",
              "      width: 32px;\n",
              "    }\n",
              "\n",
              "    .colab-df-convert:hover {\n",
              "      background-color: #E2EBFA;\n",
              "      box-shadow: 0px 1px 2px rgba(60, 64, 67, 0.3), 0px 1px 3px 1px rgba(60, 64, 67, 0.15);\n",
              "      fill: #174EA6;\n",
              "    }\n",
              "\n",
              "    [theme=dark] .colab-df-convert {\n",
              "      background-color: #3B4455;\n",
              "      fill: #D2E3FC;\n",
              "    }\n",
              "\n",
              "    [theme=dark] .colab-df-convert:hover {\n",
              "      background-color: #434B5C;\n",
              "      box-shadow: 0px 1px 3px 1px rgba(0, 0, 0, 0.15);\n",
              "      filter: drop-shadow(0px 1px 2px rgba(0, 0, 0, 0.3));\n",
              "      fill: #FFFFFF;\n",
              "    }\n",
              "  </style>\n",
              "\n",
              "      <script>\n",
              "        const buttonEl =\n",
              "          document.querySelector('#df-8227c42b-dd57-4c04-a8f4-671459f5ca0e button.colab-df-convert');\n",
              "        buttonEl.style.display =\n",
              "          google.colab.kernel.accessAllowed ? 'block' : 'none';\n",
              "\n",
              "        async function convertToInteractive(key) {\n",
              "          const element = document.querySelector('#df-8227c42b-dd57-4c04-a8f4-671459f5ca0e');\n",
              "          const dataTable =\n",
              "            await google.colab.kernel.invokeFunction('convertToInteractive',\n",
              "                                                     [key], {});\n",
              "          if (!dataTable) return;\n",
              "\n",
              "          const docLinkHtml = 'Like what you see? Visit the ' +\n",
              "            '<a target=\"_blank\" href=https://colab.research.google.com/notebooks/data_table.ipynb>data table notebook</a>'\n",
              "            + ' to learn more about interactive tables.';\n",
              "          element.innerHTML = '';\n",
              "          dataTable['output_type'] = 'display_data';\n",
              "          await google.colab.output.renderOutput(dataTable, element);\n",
              "          const docLink = document.createElement('div');\n",
              "          docLink.innerHTML = docLinkHtml;\n",
              "          element.appendChild(docLink);\n",
              "        }\n",
              "      </script>\n",
              "    </div>\n",
              "  </div>\n",
              "  "
            ],
            "text/plain": [
              "   id_reg    name  id_log\n",
              "0       1  Andrew       2\n",
              "1       2    Bobo       4"
            ]
          },
          "metadata": {},
          "execution_count": 38
        }
      ]
    },
    {
      "cell_type": "code",
      "source": [
        "email = 'raghulprasanthk@gmail.com'\n",
        "email.split('gmail')"
      ],
      "metadata": {
        "colab": {
          "base_uri": "https://localhost:8080/"
        },
        "id": "w39tUuL9tFgn",
        "outputId": "91dbd912-0182-4102-c812-c9738ad2a26d"
      },
      "execution_count": null,
      "outputs": [
        {
          "output_type": "execute_result",
          "data": {
            "text/plain": [
              "['raghulprasanthk@', '.com']"
            ]
          },
          "metadata": {},
          "execution_count": 39
        }
      ]
    },
    {
      "cell_type": "code",
      "source": [
        "name = pd.Series(index=[x for x in range(1,6)], data = ['andrew', 'bobo','claire','david','5'])\n",
        "name"
      ],
      "metadata": {
        "colab": {
          "base_uri": "https://localhost:8080/"
        },
        "id": "dtdhjWh6ugKS",
        "outputId": "4f9840f7-c6c2-462f-dade-93b98d3da9e8"
      },
      "execution_count": null,
      "outputs": [
        {
          "output_type": "execute_result",
          "data": {
            "text/plain": [
              "1    andrew\n",
              "2      bobo\n",
              "3    claire\n",
              "4     david\n",
              "5         5\n",
              "dtype: object"
            ]
          },
          "metadata": {},
          "execution_count": 40
        }
      ]
    },
    {
      "cell_type": "code",
      "source": [
        "name[name.str.isalpha()]"
      ],
      "metadata": {
        "colab": {
          "base_uri": "https://localhost:8080/"
        },
        "id": "MMNdJobuvJ5T",
        "outputId": "09c03e5f-23bb-454e-baf0-c9ad0d0a9fd2"
      },
      "execution_count": null,
      "outputs": [
        {
          "output_type": "execute_result",
          "data": {
            "text/plain": [
              "1    andrew\n",
              "2      bobo\n",
              "3    claire\n",
              "4     david\n",
              "dtype: object"
            ]
          },
          "metadata": {},
          "execution_count": 41
        }
      ]
    },
    {
      "cell_type": "code",
      "source": [
        "tech = ['GOOG,APPL,AMZN','JPM,BAC,GS']\n",
        "tic = pd.Series(tech)"
      ],
      "metadata": {
        "id": "LIxXrWqUv7FI"
      },
      "execution_count": null,
      "outputs": []
    },
    {
      "cell_type": "code",
      "source": [
        "tic.str.split(',',expand=True)\n",
        "#the expand method in the str is used to expand th splitted values in to an element in a DataFrame"
      ],
      "metadata": {
        "colab": {
          "base_uri": "https://localhost:8080/",
          "height": 112
        },
        "id": "sVa8ZPzsyOhU",
        "outputId": "6c4dc81c-9aba-4d14-f18e-cc969a0056b9"
      },
      "execution_count": null,
      "outputs": [
        {
          "output_type": "execute_result",
          "data": {
            "text/html": [
              "\n",
              "  <div id=\"df-1910d2a1-8490-4ab9-89dd-89edd426583b\">\n",
              "    <div class=\"colab-df-container\">\n",
              "      <div>\n",
              "<style scoped>\n",
              "    .dataframe tbody tr th:only-of-type {\n",
              "        vertical-align: middle;\n",
              "    }\n",
              "\n",
              "    .dataframe tbody tr th {\n",
              "        vertical-align: top;\n",
              "    }\n",
              "\n",
              "    .dataframe thead th {\n",
              "        text-align: right;\n",
              "    }\n",
              "</style>\n",
              "<table border=\"1\" class=\"dataframe\">\n",
              "  <thead>\n",
              "    <tr style=\"text-align: right;\">\n",
              "      <th></th>\n",
              "      <th>0</th>\n",
              "      <th>1</th>\n",
              "      <th>2</th>\n",
              "    </tr>\n",
              "  </thead>\n",
              "  <tbody>\n",
              "    <tr>\n",
              "      <th>0</th>\n",
              "      <td>GOOG</td>\n",
              "      <td>APPL</td>\n",
              "      <td>AMZN</td>\n",
              "    </tr>\n",
              "    <tr>\n",
              "      <th>1</th>\n",
              "      <td>JPM</td>\n",
              "      <td>BAC</td>\n",
              "      <td>GS</td>\n",
              "    </tr>\n",
              "  </tbody>\n",
              "</table>\n",
              "</div>\n",
              "      <button class=\"colab-df-convert\" onclick=\"convertToInteractive('df-1910d2a1-8490-4ab9-89dd-89edd426583b')\"\n",
              "              title=\"Convert this dataframe to an interactive table.\"\n",
              "              style=\"display:none;\">\n",
              "        \n",
              "  <svg xmlns=\"http://www.w3.org/2000/svg\" height=\"24px\"viewBox=\"0 0 24 24\"\n",
              "       width=\"24px\">\n",
              "    <path d=\"M0 0h24v24H0V0z\" fill=\"none\"/>\n",
              "    <path d=\"M18.56 5.44l.94 2.06.94-2.06 2.06-.94-2.06-.94-.94-2.06-.94 2.06-2.06.94zm-11 1L8.5 8.5l.94-2.06 2.06-.94-2.06-.94L8.5 2.5l-.94 2.06-2.06.94zm10 10l.94 2.06.94-2.06 2.06-.94-2.06-.94-.94-2.06-.94 2.06-2.06.94z\"/><path d=\"M17.41 7.96l-1.37-1.37c-.4-.4-.92-.59-1.43-.59-.52 0-1.04.2-1.43.59L10.3 9.45l-7.72 7.72c-.78.78-.78 2.05 0 2.83L4 21.41c.39.39.9.59 1.41.59.51 0 1.02-.2 1.41-.59l7.78-7.78 2.81-2.81c.8-.78.8-2.07 0-2.86zM5.41 20L4 18.59l7.72-7.72 1.47 1.35L5.41 20z\"/>\n",
              "  </svg>\n",
              "      </button>\n",
              "      \n",
              "  <style>\n",
              "    .colab-df-container {\n",
              "      display:flex;\n",
              "      flex-wrap:wrap;\n",
              "      gap: 12px;\n",
              "    }\n",
              "\n",
              "    .colab-df-convert {\n",
              "      background-color: #E8F0FE;\n",
              "      border: none;\n",
              "      border-radius: 50%;\n",
              "      cursor: pointer;\n",
              "      display: none;\n",
              "      fill: #1967D2;\n",
              "      height: 32px;\n",
              "      padding: 0 0 0 0;\n",
              "      width: 32px;\n",
              "    }\n",
              "\n",
              "    .colab-df-convert:hover {\n",
              "      background-color: #E2EBFA;\n",
              "      box-shadow: 0px 1px 2px rgba(60, 64, 67, 0.3), 0px 1px 3px 1px rgba(60, 64, 67, 0.15);\n",
              "      fill: #174EA6;\n",
              "    }\n",
              "\n",
              "    [theme=dark] .colab-df-convert {\n",
              "      background-color: #3B4455;\n",
              "      fill: #D2E3FC;\n",
              "    }\n",
              "\n",
              "    [theme=dark] .colab-df-convert:hover {\n",
              "      background-color: #434B5C;\n",
              "      box-shadow: 0px 1px 3px 1px rgba(0, 0, 0, 0.15);\n",
              "      filter: drop-shadow(0px 1px 2px rgba(0, 0, 0, 0.3));\n",
              "      fill: #FFFFFF;\n",
              "    }\n",
              "  </style>\n",
              "\n",
              "      <script>\n",
              "        const buttonEl =\n",
              "          document.querySelector('#df-1910d2a1-8490-4ab9-89dd-89edd426583b button.colab-df-convert');\n",
              "        buttonEl.style.display =\n",
              "          google.colab.kernel.accessAllowed ? 'block' : 'none';\n",
              "\n",
              "        async function convertToInteractive(key) {\n",
              "          const element = document.querySelector('#df-1910d2a1-8490-4ab9-89dd-89edd426583b');\n",
              "          const dataTable =\n",
              "            await google.colab.kernel.invokeFunction('convertToInteractive',\n",
              "                                                     [key], {});\n",
              "          if (!dataTable) return;\n",
              "\n",
              "          const docLinkHtml = 'Like what you see? Visit the ' +\n",
              "            '<a target=\"_blank\" href=https://colab.research.google.com/notebooks/data_table.ipynb>data table notebook</a>'\n",
              "            + ' to learn more about interactive tables.';\n",
              "          element.innerHTML = '';\n",
              "          dataTable['output_type'] = 'display_data';\n",
              "          await google.colab.output.renderOutput(dataTable, element);\n",
              "          const docLink = document.createElement('div');\n",
              "          docLink.innerHTML = docLinkHtml;\n",
              "          element.appendChild(docLink);\n",
              "        }\n",
              "      </script>\n",
              "    </div>\n",
              "  </div>\n",
              "  "
            ],
            "text/plain": [
              "      0     1     2\n",
              "0  GOOG  APPL  AMZN\n",
              "1   JPM   BAC    GS"
            ]
          },
          "metadata": {},
          "execution_count": 43
        }
      ]
    },
    {
      "cell_type": "code",
      "source": [
        "messy_names = pd.Series(['andrew   ','bo;bo', '  Claire  '])\n",
        "messy_names.str.strip().str.replace(';','').str.capitalize()\n",
        "#strip function is used to remove only chareacters from beginning and end\n",
        "#use .str beforee a function to take it as a string and work on it"
      ],
      "metadata": {
        "colab": {
          "base_uri": "https://localhost:8080/"
        },
        "id": "Oovqk3fRyiP7",
        "outputId": "29dc9e05-aa13-4407-ef09-9e9fb79691a5"
      },
      "execution_count": null,
      "outputs": [
        {
          "output_type": "execute_result",
          "data": {
            "text/plain": [
              "0    Andrew\n",
              "1      Bobo\n",
              "2    Claire\n",
              "dtype: object"
            ]
          },
          "metadata": {},
          "execution_count": 44
        }
      ]
    },
    {
      "cell_type": "code",
      "source": [
        "from datetime import datetime as dt"
      ],
      "metadata": {
        "id": "i3AcLCmE1Qny"
      },
      "execution_count": null,
      "outputs": []
    },
    {
      "cell_type": "code",
      "source": [
        "myser = pd.Series(['Nov 3,1991','2002-12-01',None])\n",
        "myser"
      ],
      "metadata": {
        "colab": {
          "base_uri": "https://localhost:8080/"
        },
        "id": "8SpvtBHE5-fb",
        "outputId": "aecdb45c-4e4c-4ede-877a-1d05f4304bd9"
      },
      "execution_count": null,
      "outputs": [
        {
          "output_type": "execute_result",
          "data": {
            "text/plain": [
              "0    Nov 3,1991\n",
              "1    2002-12-01\n",
              "2          None\n",
              "dtype: object"
            ]
          },
          "metadata": {},
          "execution_count": 46
        }
      ]
    },
    {
      "cell_type": "code",
      "source": [
        "timeseri = pd.to_datetime(myser)"
      ],
      "metadata": {
        "id": "Jb_U8CGy6fnF"
      },
      "execution_count": null,
      "outputs": []
    },
    {
      "cell_type": "code",
      "source": [
        "timeseri"
      ],
      "metadata": {
        "colab": {
          "base_uri": "https://localhost:8080/"
        },
        "id": "as1QkwnJ62PN",
        "outputId": "27e14fbb-c60e-478e-9419-ff3c5088e199"
      },
      "execution_count": null,
      "outputs": [
        {
          "output_type": "execute_result",
          "data": {
            "text/plain": [
              "0   1991-11-03\n",
              "1   2002-12-01\n",
              "2          NaT\n",
              "dtype: datetime64[ns]"
            ]
          },
          "metadata": {},
          "execution_count": 48
        }
      ]
    },
    {
      "cell_type": "code",
      "source": [
        "pd.to_datetime('01-12-2002',dayfirst=True)#to make sure the date is given first and the month is given second"
      ],
      "metadata": {
        "id": "-uVdpoD_6-ki",
        "colab": {
          "base_uri": "https://localhost:8080/"
        },
        "outputId": "268c93f0-a33f-49b3-9133-0db154bc53b7"
      },
      "execution_count": null,
      "outputs": [
        {
          "output_type": "execute_result",
          "data": {
            "text/plain": [
              "Timestamp('2002-12-01 00:00:00')"
            ]
          },
          "metadata": {},
          "execution_count": 49
        }
      ]
    },
    {
      "cell_type": "code",
      "source": [
        "style_date = '19--Dec--2002'\n",
        "pd.to_datetime(style_date,format='%d--%b--%Y')"
      ],
      "metadata": {
        "colab": {
          "base_uri": "https://localhost:8080/"
        },
        "id": "sMlPN1SShlFZ",
        "outputId": "30d70b99-57ec-4ee6-8365-387820d2b774"
      },
      "execution_count": null,
      "outputs": [
        {
          "output_type": "execute_result",
          "data": {
            "text/plain": [
              "Timestamp('2002-12-19 00:00:00')"
            ]
          },
          "metadata": {},
          "execution_count": 51
        }
      ]
    },
    {
      "cell_type": "code",
      "source": [
        " custom_date = \"1st of Dec 2002\"\n",
        " pd.to_datetime(custom_date)"
      ],
      "metadata": {
        "id": "7IM-J91yiwip",
        "colab": {
          "base_uri": "https://localhost:8080/"
        },
        "outputId": "f4f924a9-e6ce-4d34-903b-a1af44c731c8"
      },
      "execution_count": null,
      "outputs": [
        {
          "output_type": "execute_result",
          "data": {
            "text/plain": [
              "Timestamp('2002-12-01 00:00:00')"
            ]
          },
          "metadata": {},
          "execution_count": 52
        }
      ]
    },
    {
      "cell_type": "code",
      "source": [
        "import numpy as np\n",
        "import pandas as pd"
      ],
      "metadata": {
        "id": "cWAaFtVVqMWU"
      },
      "execution_count": null,
      "outputs": []
    },
    {
      "cell_type": "code",
      "source": [
        "f = pd.read_csv('sample_data/RetailSales_BeerWineLiquor.csv')"
      ],
      "metadata": {
        "id": "i9E-IINfRqS-"
      },
      "execution_count": null,
      "outputs": []
    },
    {
      "cell_type": "code",
      "source": [
        "f.head()"
      ],
      "metadata": {
        "colab": {
          "base_uri": "https://localhost:8080/",
          "height": 206
        },
        "id": "JRqvl44gqSH-",
        "outputId": "5317be92-823c-476b-caed-b95ab690a4f6"
      },
      "execution_count": null,
      "outputs": [
        {
          "output_type": "execute_result",
          "data": {
            "text/html": [
              "\n",
              "  <div id=\"df-9eee748f-1969-4f39-a110-d400aaec32af\">\n",
              "    <div class=\"colab-df-container\">\n",
              "      <div>\n",
              "<style scoped>\n",
              "    .dataframe tbody tr th:only-of-type {\n",
              "        vertical-align: middle;\n",
              "    }\n",
              "\n",
              "    .dataframe tbody tr th {\n",
              "        vertical-align: top;\n",
              "    }\n",
              "\n",
              "    .dataframe thead th {\n",
              "        text-align: right;\n",
              "    }\n",
              "</style>\n",
              "<table border=\"1\" class=\"dataframe\">\n",
              "  <thead>\n",
              "    <tr style=\"text-align: right;\">\n",
              "      <th></th>\n",
              "      <th>DATE</th>\n",
              "      <th>MRTSSM4453USN</th>\n",
              "    </tr>\n",
              "  </thead>\n",
              "  <tbody>\n",
              "    <tr>\n",
              "      <th>0</th>\n",
              "      <td>1992-01-01</td>\n",
              "      <td>1509</td>\n",
              "    </tr>\n",
              "    <tr>\n",
              "      <th>1</th>\n",
              "      <td>1992-02-01</td>\n",
              "      <td>1541</td>\n",
              "    </tr>\n",
              "    <tr>\n",
              "      <th>2</th>\n",
              "      <td>1992-03-01</td>\n",
              "      <td>1597</td>\n",
              "    </tr>\n",
              "    <tr>\n",
              "      <th>3</th>\n",
              "      <td>1992-04-01</td>\n",
              "      <td>1675</td>\n",
              "    </tr>\n",
              "    <tr>\n",
              "      <th>4</th>\n",
              "      <td>1992-05-01</td>\n",
              "      <td>1822</td>\n",
              "    </tr>\n",
              "  </tbody>\n",
              "</table>\n",
              "</div>\n",
              "      <button class=\"colab-df-convert\" onclick=\"convertToInteractive('df-9eee748f-1969-4f39-a110-d400aaec32af')\"\n",
              "              title=\"Convert this dataframe to an interactive table.\"\n",
              "              style=\"display:none;\">\n",
              "        \n",
              "  <svg xmlns=\"http://www.w3.org/2000/svg\" height=\"24px\"viewBox=\"0 0 24 24\"\n",
              "       width=\"24px\">\n",
              "    <path d=\"M0 0h24v24H0V0z\" fill=\"none\"/>\n",
              "    <path d=\"M18.56 5.44l.94 2.06.94-2.06 2.06-.94-2.06-.94-.94-2.06-.94 2.06-2.06.94zm-11 1L8.5 8.5l.94-2.06 2.06-.94-2.06-.94L8.5 2.5l-.94 2.06-2.06.94zm10 10l.94 2.06.94-2.06 2.06-.94-2.06-.94-.94-2.06-.94 2.06-2.06.94z\"/><path d=\"M17.41 7.96l-1.37-1.37c-.4-.4-.92-.59-1.43-.59-.52 0-1.04.2-1.43.59L10.3 9.45l-7.72 7.72c-.78.78-.78 2.05 0 2.83L4 21.41c.39.39.9.59 1.41.59.51 0 1.02-.2 1.41-.59l7.78-7.78 2.81-2.81c.8-.78.8-2.07 0-2.86zM5.41 20L4 18.59l7.72-7.72 1.47 1.35L5.41 20z\"/>\n",
              "  </svg>\n",
              "      </button>\n",
              "      \n",
              "  <style>\n",
              "    .colab-df-container {\n",
              "      display:flex;\n",
              "      flex-wrap:wrap;\n",
              "      gap: 12px;\n",
              "    }\n",
              "\n",
              "    .colab-df-convert {\n",
              "      background-color: #E8F0FE;\n",
              "      border: none;\n",
              "      border-radius: 50%;\n",
              "      cursor: pointer;\n",
              "      display: none;\n",
              "      fill: #1967D2;\n",
              "      height: 32px;\n",
              "      padding: 0 0 0 0;\n",
              "      width: 32px;\n",
              "    }\n",
              "\n",
              "    .colab-df-convert:hover {\n",
              "      background-color: #E2EBFA;\n",
              "      box-shadow: 0px 1px 2px rgba(60, 64, 67, 0.3), 0px 1px 3px 1px rgba(60, 64, 67, 0.15);\n",
              "      fill: #174EA6;\n",
              "    }\n",
              "\n",
              "    [theme=dark] .colab-df-convert {\n",
              "      background-color: #3B4455;\n",
              "      fill: #D2E3FC;\n",
              "    }\n",
              "\n",
              "    [theme=dark] .colab-df-convert:hover {\n",
              "      background-color: #434B5C;\n",
              "      box-shadow: 0px 1px 3px 1px rgba(0, 0, 0, 0.15);\n",
              "      filter: drop-shadow(0px 1px 2px rgba(0, 0, 0, 0.3));\n",
              "      fill: #FFFFFF;\n",
              "    }\n",
              "  </style>\n",
              "\n",
              "      <script>\n",
              "        const buttonEl =\n",
              "          document.querySelector('#df-9eee748f-1969-4f39-a110-d400aaec32af button.colab-df-convert');\n",
              "        buttonEl.style.display =\n",
              "          google.colab.kernel.accessAllowed ? 'block' : 'none';\n",
              "\n",
              "        async function convertToInteractive(key) {\n",
              "          const element = document.querySelector('#df-9eee748f-1969-4f39-a110-d400aaec32af');\n",
              "          const dataTable =\n",
              "            await google.colab.kernel.invokeFunction('convertToInteractive',\n",
              "                                                     [key], {});\n",
              "          if (!dataTable) return;\n",
              "\n",
              "          const docLinkHtml = 'Like what you see? Visit the ' +\n",
              "            '<a target=\"_blank\" href=https://colab.research.google.com/notebooks/data_table.ipynb>data table notebook</a>'\n",
              "            + ' to learn more about interactive tables.';\n",
              "          element.innerHTML = '';\n",
              "          dataTable['output_type'] = 'display_data';\n",
              "          await google.colab.output.renderOutput(dataTable, element);\n",
              "          const docLink = document.createElement('div');\n",
              "          docLink.innerHTML = docLinkHtml;\n",
              "          element.appendChild(docLink);\n",
              "        }\n",
              "      </script>\n",
              "    </div>\n",
              "  </div>\n",
              "  "
            ],
            "text/plain": [
              "         DATE  MRTSSM4453USN\n",
              "0  1992-01-01           1509\n",
              "1  1992-02-01           1541\n",
              "2  1992-03-01           1597\n",
              "3  1992-04-01           1675\n",
              "4  1992-05-01           1822"
            ]
          },
          "metadata": {},
          "execution_count": 5
        }
      ]
    },
    {
      "cell_type": "code",
      "source": [
        "f = pd.read_csv('sample_data/RetailSales_BeerWineLiquor.csv', parse_dates=[0])"
      ],
      "metadata": {
        "id": "QyqCMtqhqTIQ"
      },
      "execution_count": null,
      "outputs": []
    },
    {
      "cell_type": "code",
      "source": [
        "f['DATE']"
      ],
      "metadata": {
        "colab": {
          "base_uri": "https://localhost:8080/"
        },
        "id": "YUxgxtbZtZEw",
        "outputId": "faf08c0e-b12a-4526-d85f-15cf933786ce"
      },
      "execution_count": null,
      "outputs": [
        {
          "output_type": "execute_result",
          "data": {
            "text/plain": [
              "0     1992-01-01\n",
              "1     1992-02-01\n",
              "2     1992-03-01\n",
              "3     1992-04-01\n",
              "4     1992-05-01\n",
              "         ...    \n",
              "335   2019-12-01\n",
              "336   2020-01-01\n",
              "337   2020-02-01\n",
              "338   2020-03-01\n",
              "339   2020-04-01\n",
              "Name: DATE, Length: 340, dtype: datetime64[ns]"
            ]
          },
          "metadata": {},
          "execution_count": 12
        }
      ]
    },
    {
      "cell_type": "code",
      "source": [
        "f = f.set_index('DATE')"
      ],
      "metadata": {
        "id": "L-IKHqZRvbAn"
      },
      "execution_count": null,
      "outputs": []
    },
    {
      "cell_type": "code",
      "source": [
        "f.resample(rule='A').mean()\n",
        "#resample is more like a groupby but with time stamp\n",
        "# in the rule=\"A\" it is used to groupby year mean, theres other rule in internet"
      ],
      "metadata": {
        "colab": {
          "base_uri": "https://localhost:8080/",
          "height": 990
        },
        "id": "B_AI5TaSveYD",
        "outputId": "9cfd0728-acea-41b5-cc3e-eab4c8ad3345"
      },
      "execution_count": null,
      "outputs": [
        {
          "output_type": "execute_result",
          "data": {
            "text/html": [
              "\n",
              "  <div id=\"df-10b1998a-9f1d-40b2-a8e9-b1ebc3a72c4b\">\n",
              "    <div class=\"colab-df-container\">\n",
              "      <div>\n",
              "<style scoped>\n",
              "    .dataframe tbody tr th:only-of-type {\n",
              "        vertical-align: middle;\n",
              "    }\n",
              "\n",
              "    .dataframe tbody tr th {\n",
              "        vertical-align: top;\n",
              "    }\n",
              "\n",
              "    .dataframe thead th {\n",
              "        text-align: right;\n",
              "    }\n",
              "</style>\n",
              "<table border=\"1\" class=\"dataframe\">\n",
              "  <thead>\n",
              "    <tr style=\"text-align: right;\">\n",
              "      <th></th>\n",
              "      <th>MRTSSM4453USN</th>\n",
              "    </tr>\n",
              "    <tr>\n",
              "      <th>DATE</th>\n",
              "      <th></th>\n",
              "    </tr>\n",
              "  </thead>\n",
              "  <tbody>\n",
              "    <tr>\n",
              "      <th>1992-12-31</th>\n",
              "      <td>1807.250000</td>\n",
              "    </tr>\n",
              "    <tr>\n",
              "      <th>1993-12-31</th>\n",
              "      <td>1794.833333</td>\n",
              "    </tr>\n",
              "    <tr>\n",
              "      <th>1994-12-31</th>\n",
              "      <td>1841.750000</td>\n",
              "    </tr>\n",
              "    <tr>\n",
              "      <th>1995-12-31</th>\n",
              "      <td>1833.916667</td>\n",
              "    </tr>\n",
              "    <tr>\n",
              "      <th>1996-12-31</th>\n",
              "      <td>1929.750000</td>\n",
              "    </tr>\n",
              "    <tr>\n",
              "      <th>1997-12-31</th>\n",
              "      <td>2006.750000</td>\n",
              "    </tr>\n",
              "    <tr>\n",
              "      <th>1998-12-31</th>\n",
              "      <td>2115.166667</td>\n",
              "    </tr>\n",
              "    <tr>\n",
              "      <th>1999-12-31</th>\n",
              "      <td>2206.333333</td>\n",
              "    </tr>\n",
              "    <tr>\n",
              "      <th>2000-12-31</th>\n",
              "      <td>2375.583333</td>\n",
              "    </tr>\n",
              "    <tr>\n",
              "      <th>2001-12-31</th>\n",
              "      <td>2468.416667</td>\n",
              "    </tr>\n",
              "    <tr>\n",
              "      <th>2002-12-31</th>\n",
              "      <td>2491.166667</td>\n",
              "    </tr>\n",
              "    <tr>\n",
              "      <th>2003-12-31</th>\n",
              "      <td>2539.083333</td>\n",
              "    </tr>\n",
              "    <tr>\n",
              "      <th>2004-12-31</th>\n",
              "      <td>2682.416667</td>\n",
              "    </tr>\n",
              "    <tr>\n",
              "      <th>2005-12-31</th>\n",
              "      <td>2797.250000</td>\n",
              "    </tr>\n",
              "    <tr>\n",
              "      <th>2006-12-31</th>\n",
              "      <td>3001.333333</td>\n",
              "    </tr>\n",
              "    <tr>\n",
              "      <th>2007-12-31</th>\n",
              "      <td>3177.333333</td>\n",
              "    </tr>\n",
              "    <tr>\n",
              "      <th>2008-12-31</th>\n",
              "      <td>3292.000000</td>\n",
              "    </tr>\n",
              "    <tr>\n",
              "      <th>2009-12-31</th>\n",
              "      <td>3353.750000</td>\n",
              "    </tr>\n",
              "    <tr>\n",
              "      <th>2010-12-31</th>\n",
              "      <td>3450.083333</td>\n",
              "    </tr>\n",
              "    <tr>\n",
              "      <th>2011-12-31</th>\n",
              "      <td>3532.666667</td>\n",
              "    </tr>\n",
              "    <tr>\n",
              "      <th>2012-12-31</th>\n",
              "      <td>3697.083333</td>\n",
              "    </tr>\n",
              "    <tr>\n",
              "      <th>2013-12-31</th>\n",
              "      <td>3839.666667</td>\n",
              "    </tr>\n",
              "    <tr>\n",
              "      <th>2014-12-31</th>\n",
              "      <td>4023.833333</td>\n",
              "    </tr>\n",
              "    <tr>\n",
              "      <th>2015-12-31</th>\n",
              "      <td>4212.500000</td>\n",
              "    </tr>\n",
              "    <tr>\n",
              "      <th>2016-12-31</th>\n",
              "      <td>4434.416667</td>\n",
              "    </tr>\n",
              "    <tr>\n",
              "      <th>2017-12-31</th>\n",
              "      <td>4602.666667</td>\n",
              "    </tr>\n",
              "    <tr>\n",
              "      <th>2018-12-31</th>\n",
              "      <td>4830.666667</td>\n",
              "    </tr>\n",
              "    <tr>\n",
              "      <th>2019-12-31</th>\n",
              "      <td>4972.750000</td>\n",
              "    </tr>\n",
              "    <tr>\n",
              "      <th>2020-12-31</th>\n",
              "      <td>4922.500000</td>\n",
              "    </tr>\n",
              "  </tbody>\n",
              "</table>\n",
              "</div>\n",
              "      <button class=\"colab-df-convert\" onclick=\"convertToInteractive('df-10b1998a-9f1d-40b2-a8e9-b1ebc3a72c4b')\"\n",
              "              title=\"Convert this dataframe to an interactive table.\"\n",
              "              style=\"display:none;\">\n",
              "        \n",
              "  <svg xmlns=\"http://www.w3.org/2000/svg\" height=\"24px\"viewBox=\"0 0 24 24\"\n",
              "       width=\"24px\">\n",
              "    <path d=\"M0 0h24v24H0V0z\" fill=\"none\"/>\n",
              "    <path d=\"M18.56 5.44l.94 2.06.94-2.06 2.06-.94-2.06-.94-.94-2.06-.94 2.06-2.06.94zm-11 1L8.5 8.5l.94-2.06 2.06-.94-2.06-.94L8.5 2.5l-.94 2.06-2.06.94zm10 10l.94 2.06.94-2.06 2.06-.94-2.06-.94-.94-2.06-.94 2.06-2.06.94z\"/><path d=\"M17.41 7.96l-1.37-1.37c-.4-.4-.92-.59-1.43-.59-.52 0-1.04.2-1.43.59L10.3 9.45l-7.72 7.72c-.78.78-.78 2.05 0 2.83L4 21.41c.39.39.9.59 1.41.59.51 0 1.02-.2 1.41-.59l7.78-7.78 2.81-2.81c.8-.78.8-2.07 0-2.86zM5.41 20L4 18.59l7.72-7.72 1.47 1.35L5.41 20z\"/>\n",
              "  </svg>\n",
              "      </button>\n",
              "      \n",
              "  <style>\n",
              "    .colab-df-container {\n",
              "      display:flex;\n",
              "      flex-wrap:wrap;\n",
              "      gap: 12px;\n",
              "    }\n",
              "\n",
              "    .colab-df-convert {\n",
              "      background-color: #E8F0FE;\n",
              "      border: none;\n",
              "      border-radius: 50%;\n",
              "      cursor: pointer;\n",
              "      display: none;\n",
              "      fill: #1967D2;\n",
              "      height: 32px;\n",
              "      padding: 0 0 0 0;\n",
              "      width: 32px;\n",
              "    }\n",
              "\n",
              "    .colab-df-convert:hover {\n",
              "      background-color: #E2EBFA;\n",
              "      box-shadow: 0px 1px 2px rgba(60, 64, 67, 0.3), 0px 1px 3px 1px rgba(60, 64, 67, 0.15);\n",
              "      fill: #174EA6;\n",
              "    }\n",
              "\n",
              "    [theme=dark] .colab-df-convert {\n",
              "      background-color: #3B4455;\n",
              "      fill: #D2E3FC;\n",
              "    }\n",
              "\n",
              "    [theme=dark] .colab-df-convert:hover {\n",
              "      background-color: #434B5C;\n",
              "      box-shadow: 0px 1px 3px 1px rgba(0, 0, 0, 0.15);\n",
              "      filter: drop-shadow(0px 1px 2px rgba(0, 0, 0, 0.3));\n",
              "      fill: #FFFFFF;\n",
              "    }\n",
              "  </style>\n",
              "\n",
              "      <script>\n",
              "        const buttonEl =\n",
              "          document.querySelector('#df-10b1998a-9f1d-40b2-a8e9-b1ebc3a72c4b button.colab-df-convert');\n",
              "        buttonEl.style.display =\n",
              "          google.colab.kernel.accessAllowed ? 'block' : 'none';\n",
              "\n",
              "        async function convertToInteractive(key) {\n",
              "          const element = document.querySelector('#df-10b1998a-9f1d-40b2-a8e9-b1ebc3a72c4b');\n",
              "          const dataTable =\n",
              "            await google.colab.kernel.invokeFunction('convertToInteractive',\n",
              "                                                     [key], {});\n",
              "          if (!dataTable) return;\n",
              "\n",
              "          const docLinkHtml = 'Like what you see? Visit the ' +\n",
              "            '<a target=\"_blank\" href=https://colab.research.google.com/notebooks/data_table.ipynb>data table notebook</a>'\n",
              "            + ' to learn more about interactive tables.';\n",
              "          element.innerHTML = '';\n",
              "          dataTable['output_type'] = 'display_data';\n",
              "          await google.colab.output.renderOutput(dataTable, element);\n",
              "          const docLink = document.createElement('div');\n",
              "          docLink.innerHTML = docLinkHtml;\n",
              "          element.appendChild(docLink);\n",
              "        }\n",
              "      </script>\n",
              "    </div>\n",
              "  </div>\n",
              "  "
            ],
            "text/plain": [
              "            MRTSSM4453USN\n",
              "DATE                     \n",
              "1992-12-31    1807.250000\n",
              "1993-12-31    1794.833333\n",
              "1994-12-31    1841.750000\n",
              "1995-12-31    1833.916667\n",
              "1996-12-31    1929.750000\n",
              "1997-12-31    2006.750000\n",
              "1998-12-31    2115.166667\n",
              "1999-12-31    2206.333333\n",
              "2000-12-31    2375.583333\n",
              "2001-12-31    2468.416667\n",
              "2002-12-31    2491.166667\n",
              "2003-12-31    2539.083333\n",
              "2004-12-31    2682.416667\n",
              "2005-12-31    2797.250000\n",
              "2006-12-31    3001.333333\n",
              "2007-12-31    3177.333333\n",
              "2008-12-31    3292.000000\n",
              "2009-12-31    3353.750000\n",
              "2010-12-31    3450.083333\n",
              "2011-12-31    3532.666667\n",
              "2012-12-31    3697.083333\n",
              "2013-12-31    3839.666667\n",
              "2014-12-31    4023.833333\n",
              "2015-12-31    4212.500000\n",
              "2016-12-31    4434.416667\n",
              "2017-12-31    4602.666667\n",
              "2018-12-31    4830.666667\n",
              "2019-12-31    4972.750000\n",
              "2020-12-31    4922.500000"
            ]
          },
          "metadata": {},
          "execution_count": 14
        }
      ]
    },
    {
      "cell_type": "code",
      "source": [
        "pwd"
      ],
      "metadata": {
        "colab": {
          "base_uri": "https://localhost:8080/",
          "height": 35
        },
        "id": "x8ntu8pjwbve",
        "outputId": "e2ad6db0-bc12-4171-e538-bf497e443ad5"
      },
      "execution_count": null,
      "outputs": [
        {
          "output_type": "execute_result",
          "data": {
            "application/vnd.google.colaboratory.intrinsic+json": {
              "type": "string"
            },
            "text/plain": [
              "'/content'"
            ]
          },
          "metadata": {},
          "execution_count": 15
        }
      ]
    },
    {
      "cell_type": "code",
      "source": [
        "ls"
      ],
      "metadata": {
        "colab": {
          "base_uri": "https://localhost:8080/"
        },
        "id": "isy-xIF5xmqH",
        "outputId": "e45834d2-0833-40c0-e6a7-7969e9455107"
      },
      "execution_count": null,
      "outputs": [
        {
          "output_type": "stream",
          "name": "stdout",
          "text": [
            "\u001b[0m\u001b[01;34msample_data\u001b[0m/\n"
          ]
        }
      ]
    },
    {
      "cell_type": "code",
      "source": [
        "import os\n",
        "os.getcwd()"
      ],
      "metadata": {
        "colab": {
          "base_uri": "https://localhost:8080/",
          "height": 35
        },
        "id": "1bZkr3eGxtOm",
        "outputId": "34d5fbac-cee6-4d0a-84af-a234d3edf42f"
      },
      "execution_count": null,
      "outputs": [
        {
          "output_type": "execute_result",
          "data": {
            "application/vnd.google.colaboratory.intrinsic+json": {
              "type": "string"
            },
            "text/plain": [
              "'/content'"
            ]
          },
          "metadata": {},
          "execution_count": 17
        }
      ]
    },
    {
      "cell_type": "code",
      "source": [
        "from google.colab import files\n",
        "uploaded = files.upload()"
      ],
      "metadata": {
        "colab": {
          "resources": {
            "http://localhost:8080/nbextensions/google.colab/files.js": {
              "data": "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",
              "ok": true,
              "headers": [
                [
                  "content-type",
                  "application/javascript"
                ]
              ],
              "status": 200,
              "status_text": ""
            }
          },
          "base_uri": "https://localhost:8080/",
          "height": 74
        },
        "id": "VowmpSTEx2hn",
        "outputId": "1a36a1bd-81aa-4df6-9925-6e82fa49af92"
      },
      "execution_count": null,
      "outputs": [
        {
          "output_type": "display_data",
          "data": {
            "text/html": [
              "\n",
              "     <input type=\"file\" id=\"files-21a9c82e-eae5-4d61-97a8-108a0b26eab9\" name=\"files[]\" multiple disabled\n",
              "        style=\"border:none\" />\n",
              "     <output id=\"result-21a9c82e-eae5-4d61-97a8-108a0b26eab9\">\n",
              "      Upload widget is only available when the cell has been executed in the\n",
              "      current browser session. Please rerun this cell to enable.\n",
              "      </output>\n",
              "      <script src=\"/nbextensions/google.colab/files.js\"></script> "
            ],
            "text/plain": [
              "<IPython.core.display.HTML object>"
            ]
          },
          "metadata": {}
        },
        {
          "output_type": "stream",
          "name": "stdout",
          "text": [
            "Saving example.csv to example.csv\n"
          ]
        }
      ]
    },
    {
      "cell_type": "code",
      "source": [
        "df = pd.read_csv('example.csv',header=None)\n",
        "df\n",
        "#header = None if given will  keep the index as an element and give a default coulmn"
      ],
      "metadata": {
        "colab": {
          "base_uri": "https://localhost:8080/",
          "height": 206
        },
        "id": "CkFyWIoSyXvr",
        "outputId": "27de892b-f3a8-4621-9c42-04375dc78a10"
      },
      "execution_count": null,
      "outputs": [
        {
          "output_type": "execute_result",
          "data": {
            "text/html": [
              "\n",
              "  <div id=\"df-172602ef-aeef-44e1-a3f8-19a116c010f2\">\n",
              "    <div class=\"colab-df-container\">\n",
              "      <div>\n",
              "<style scoped>\n",
              "    .dataframe tbody tr th:only-of-type {\n",
              "        vertical-align: middle;\n",
              "    }\n",
              "\n",
              "    .dataframe tbody tr th {\n",
              "        vertical-align: top;\n",
              "    }\n",
              "\n",
              "    .dataframe thead th {\n",
              "        text-align: right;\n",
              "    }\n",
              "</style>\n",
              "<table border=\"1\" class=\"dataframe\">\n",
              "  <thead>\n",
              "    <tr style=\"text-align: right;\">\n",
              "      <th></th>\n",
              "      <th>0</th>\n",
              "      <th>1</th>\n",
              "      <th>2</th>\n",
              "      <th>3</th>\n",
              "    </tr>\n",
              "  </thead>\n",
              "  <tbody>\n",
              "    <tr>\n",
              "      <th>0</th>\n",
              "      <td>a</td>\n",
              "      <td>b</td>\n",
              "      <td>c</td>\n",
              "      <td>d</td>\n",
              "    </tr>\n",
              "    <tr>\n",
              "      <th>1</th>\n",
              "      <td>0</td>\n",
              "      <td>1</td>\n",
              "      <td>2</td>\n",
              "      <td>3</td>\n",
              "    </tr>\n",
              "    <tr>\n",
              "      <th>2</th>\n",
              "      <td>4</td>\n",
              "      <td>5</td>\n",
              "      <td>6</td>\n",
              "      <td>7</td>\n",
              "    </tr>\n",
              "    <tr>\n",
              "      <th>3</th>\n",
              "      <td>8</td>\n",
              "      <td>9</td>\n",
              "      <td>10</td>\n",
              "      <td>11</td>\n",
              "    </tr>\n",
              "    <tr>\n",
              "      <th>4</th>\n",
              "      <td>12</td>\n",
              "      <td>13</td>\n",
              "      <td>14</td>\n",
              "      <td>15</td>\n",
              "    </tr>\n",
              "  </tbody>\n",
              "</table>\n",
              "</div>\n",
              "      <button class=\"colab-df-convert\" onclick=\"convertToInteractive('df-172602ef-aeef-44e1-a3f8-19a116c010f2')\"\n",
              "              title=\"Convert this dataframe to an interactive table.\"\n",
              "              style=\"display:none;\">\n",
              "        \n",
              "  <svg xmlns=\"http://www.w3.org/2000/svg\" height=\"24px\"viewBox=\"0 0 24 24\"\n",
              "       width=\"24px\">\n",
              "    <path d=\"M0 0h24v24H0V0z\" fill=\"none\"/>\n",
              "    <path d=\"M18.56 5.44l.94 2.06.94-2.06 2.06-.94-2.06-.94-.94-2.06-.94 2.06-2.06.94zm-11 1L8.5 8.5l.94-2.06 2.06-.94-2.06-.94L8.5 2.5l-.94 2.06-2.06.94zm10 10l.94 2.06.94-2.06 2.06-.94-2.06-.94-.94-2.06-.94 2.06-2.06.94z\"/><path d=\"M17.41 7.96l-1.37-1.37c-.4-.4-.92-.59-1.43-.59-.52 0-1.04.2-1.43.59L10.3 9.45l-7.72 7.72c-.78.78-.78 2.05 0 2.83L4 21.41c.39.39.9.59 1.41.59.51 0 1.02-.2 1.41-.59l7.78-7.78 2.81-2.81c.8-.78.8-2.07 0-2.86zM5.41 20L4 18.59l7.72-7.72 1.47 1.35L5.41 20z\"/>\n",
              "  </svg>\n",
              "      </button>\n",
              "      \n",
              "  <style>\n",
              "    .colab-df-container {\n",
              "      display:flex;\n",
              "      flex-wrap:wrap;\n",
              "      gap: 12px;\n",
              "    }\n",
              "\n",
              "    .colab-df-convert {\n",
              "      background-color: #E8F0FE;\n",
              "      border: none;\n",
              "      border-radius: 50%;\n",
              "      cursor: pointer;\n",
              "      display: none;\n",
              "      fill: #1967D2;\n",
              "      height: 32px;\n",
              "      padding: 0 0 0 0;\n",
              "      width: 32px;\n",
              "    }\n",
              "\n",
              "    .colab-df-convert:hover {\n",
              "      background-color: #E2EBFA;\n",
              "      box-shadow: 0px 1px 2px rgba(60, 64, 67, 0.3), 0px 1px 3px 1px rgba(60, 64, 67, 0.15);\n",
              "      fill: #174EA6;\n",
              "    }\n",
              "\n",
              "    [theme=dark] .colab-df-convert {\n",
              "      background-color: #3B4455;\n",
              "      fill: #D2E3FC;\n",
              "    }\n",
              "\n",
              "    [theme=dark] .colab-df-convert:hover {\n",
              "      background-color: #434B5C;\n",
              "      box-shadow: 0px 1px 3px 1px rgba(0, 0, 0, 0.15);\n",
              "      filter: drop-shadow(0px 1px 2px rgba(0, 0, 0, 0.3));\n",
              "      fill: #FFFFFF;\n",
              "    }\n",
              "  </style>\n",
              "\n",
              "      <script>\n",
              "        const buttonEl =\n",
              "          document.querySelector('#df-172602ef-aeef-44e1-a3f8-19a116c010f2 button.colab-df-convert');\n",
              "        buttonEl.style.display =\n",
              "          google.colab.kernel.accessAllowed ? 'block' : 'none';\n",
              "\n",
              "        async function convertToInteractive(key) {\n",
              "          const element = document.querySelector('#df-172602ef-aeef-44e1-a3f8-19a116c010f2');\n",
              "          const dataTable =\n",
              "            await google.colab.kernel.invokeFunction('convertToInteractive',\n",
              "                                                     [key], {});\n",
              "          if (!dataTable) return;\n",
              "\n",
              "          const docLinkHtml = 'Like what you see? Visit the ' +\n",
              "            '<a target=\"_blank\" href=https://colab.research.google.com/notebooks/data_table.ipynb>data table notebook</a>'\n",
              "            + ' to learn more about interactive tables.';\n",
              "          element.innerHTML = '';\n",
              "          dataTable['output_type'] = 'display_data';\n",
              "          await google.colab.output.renderOutput(dataTable, element);\n",
              "          const docLink = document.createElement('div');\n",
              "          docLink.innerHTML = docLinkHtml;\n",
              "          element.appendChild(docLink);\n",
              "        }\n",
              "      </script>\n",
              "    </div>\n",
              "  </div>\n",
              "  "
            ],
            "text/plain": [
              "    0   1   2   3\n",
              "0   a   b   c   d\n",
              "1   0   1   2   3\n",
              "2   4   5   6   7\n",
              "3   8   9  10  11\n",
              "4  12  13  14  15"
            ]
          },
          "metadata": {},
          "execution_count": 21
        }
      ]
    },
    {
      "cell_type": "code",
      "source": [
        "df"
      ],
      "metadata": {
        "colab": {
          "base_uri": "https://localhost:8080/",
          "height": 206
        },
        "id": "jjxqGZuezJ43",
        "outputId": "d939b495-62dc-41cd-e460-6cb3c9ab10fa"
      },
      "execution_count": null,
      "outputs": [
        {
          "output_type": "execute_result",
          "data": {
            "text/html": [
              "\n",
              "  <div id=\"df-d220a608-3bec-4c4f-b98a-0766faff4b18\">\n",
              "    <div class=\"colab-df-container\">\n",
              "      <div>\n",
              "<style scoped>\n",
              "    .dataframe tbody tr th:only-of-type {\n",
              "        vertical-align: middle;\n",
              "    }\n",
              "\n",
              "    .dataframe tbody tr th {\n",
              "        vertical-align: top;\n",
              "    }\n",
              "\n",
              "    .dataframe thead th {\n",
              "        text-align: right;\n",
              "    }\n",
              "</style>\n",
              "<table border=\"1\" class=\"dataframe\">\n",
              "  <thead>\n",
              "    <tr style=\"text-align: right;\">\n",
              "      <th></th>\n",
              "      <th>0</th>\n",
              "      <th>1</th>\n",
              "      <th>2</th>\n",
              "      <th>3</th>\n",
              "    </tr>\n",
              "  </thead>\n",
              "  <tbody>\n",
              "    <tr>\n",
              "      <th>0</th>\n",
              "      <td>a</td>\n",
              "      <td>b</td>\n",
              "      <td>c</td>\n",
              "      <td>d</td>\n",
              "    </tr>\n",
              "    <tr>\n",
              "      <th>1</th>\n",
              "      <td>0</td>\n",
              "      <td>1</td>\n",
              "      <td>2</td>\n",
              "      <td>3</td>\n",
              "    </tr>\n",
              "    <tr>\n",
              "      <th>2</th>\n",
              "      <td>4</td>\n",
              "      <td>5</td>\n",
              "      <td>6</td>\n",
              "      <td>7</td>\n",
              "    </tr>\n",
              "    <tr>\n",
              "      <th>3</th>\n",
              "      <td>8</td>\n",
              "      <td>9</td>\n",
              "      <td>10</td>\n",
              "      <td>11</td>\n",
              "    </tr>\n",
              "    <tr>\n",
              "      <th>4</th>\n",
              "      <td>12</td>\n",
              "      <td>13</td>\n",
              "      <td>14</td>\n",
              "      <td>15</td>\n",
              "    </tr>\n",
              "  </tbody>\n",
              "</table>\n",
              "</div>\n",
              "      <button class=\"colab-df-convert\" onclick=\"convertToInteractive('df-d220a608-3bec-4c4f-b98a-0766faff4b18')\"\n",
              "              title=\"Convert this dataframe to an interactive table.\"\n",
              "              style=\"display:none;\">\n",
              "        \n",
              "  <svg xmlns=\"http://www.w3.org/2000/svg\" height=\"24px\"viewBox=\"0 0 24 24\"\n",
              "       width=\"24px\">\n",
              "    <path d=\"M0 0h24v24H0V0z\" fill=\"none\"/>\n",
              "    <path d=\"M18.56 5.44l.94 2.06.94-2.06 2.06-.94-2.06-.94-.94-2.06-.94 2.06-2.06.94zm-11 1L8.5 8.5l.94-2.06 2.06-.94-2.06-.94L8.5 2.5l-.94 2.06-2.06.94zm10 10l.94 2.06.94-2.06 2.06-.94-2.06-.94-.94-2.06-.94 2.06-2.06.94z\"/><path d=\"M17.41 7.96l-1.37-1.37c-.4-.4-.92-.59-1.43-.59-.52 0-1.04.2-1.43.59L10.3 9.45l-7.72 7.72c-.78.78-.78 2.05 0 2.83L4 21.41c.39.39.9.59 1.41.59.51 0 1.02-.2 1.41-.59l7.78-7.78 2.81-2.81c.8-.78.8-2.07 0-2.86zM5.41 20L4 18.59l7.72-7.72 1.47 1.35L5.41 20z\"/>\n",
              "  </svg>\n",
              "      </button>\n",
              "      \n",
              "  <style>\n",
              "    .colab-df-container {\n",
              "      display:flex;\n",
              "      flex-wrap:wrap;\n",
              "      gap: 12px;\n",
              "    }\n",
              "\n",
              "    .colab-df-convert {\n",
              "      background-color: #E8F0FE;\n",
              "      border: none;\n",
              "      border-radius: 50%;\n",
              "      cursor: pointer;\n",
              "      display: none;\n",
              "      fill: #1967D2;\n",
              "      height: 32px;\n",
              "      padding: 0 0 0 0;\n",
              "      width: 32px;\n",
              "    }\n",
              "\n",
              "    .colab-df-convert:hover {\n",
              "      background-color: #E2EBFA;\n",
              "      box-shadow: 0px 1px 2px rgba(60, 64, 67, 0.3), 0px 1px 3px 1px rgba(60, 64, 67, 0.15);\n",
              "      fill: #174EA6;\n",
              "    }\n",
              "\n",
              "    [theme=dark] .colab-df-convert {\n",
              "      background-color: #3B4455;\n",
              "      fill: #D2E3FC;\n",
              "    }\n",
              "\n",
              "    [theme=dark] .colab-df-convert:hover {\n",
              "      background-color: #434B5C;\n",
              "      box-shadow: 0px 1px 3px 1px rgba(0, 0, 0, 0.15);\n",
              "      filter: drop-shadow(0px 1px 2px rgba(0, 0, 0, 0.3));\n",
              "      fill: #FFFFFF;\n",
              "    }\n",
              "  </style>\n",
              "\n",
              "      <script>\n",
              "        const buttonEl =\n",
              "          document.querySelector('#df-d220a608-3bec-4c4f-b98a-0766faff4b18 button.colab-df-convert');\n",
              "        buttonEl.style.display =\n",
              "          google.colab.kernel.accessAllowed ? 'block' : 'none';\n",
              "\n",
              "        async function convertToInteractive(key) {\n",
              "          const element = document.querySelector('#df-d220a608-3bec-4c4f-b98a-0766faff4b18');\n",
              "          const dataTable =\n",
              "            await google.colab.kernel.invokeFunction('convertToInteractive',\n",
              "                                                     [key], {});\n",
              "          if (!dataTable) return;\n",
              "\n",
              "          const docLinkHtml = 'Like what you see? Visit the ' +\n",
              "            '<a target=\"_blank\" href=https://colab.research.google.com/notebooks/data_table.ipynb>data table notebook</a>'\n",
              "            + ' to learn more about interactive tables.';\n",
              "          element.innerHTML = '';\n",
              "          dataTable['output_type'] = 'display_data';\n",
              "          await google.colab.output.renderOutput(dataTable, element);\n",
              "          const docLink = document.createElement('div');\n",
              "          docLink.innerHTML = docLinkHtml;\n",
              "          element.appendChild(docLink);\n",
              "        }\n",
              "      </script>\n",
              "    </div>\n",
              "  </div>\n",
              "  "
            ],
            "text/plain": [
              "    0   1   2   3\n",
              "0   a   b   c   d\n",
              "1   0   1   2   3\n",
              "2   4   5   6   7\n",
              "3   8   9  10  11\n",
              "4  12  13  14  15"
            ]
          },
          "metadata": {},
          "execution_count": 35
        }
      ]
    },
    {
      "cell_type": "code",
      "source": [
        "df.to_csv('sample_data/new_file.csv')"
      ],
      "metadata": {
        "id": "78CQhdlQz2o1"
      },
      "execution_count": null,
      "outputs": []
    },
    {
      "cell_type": "code",
      "source": [
        "url = \"https://en.wikipedia.org/wiki/World_population\"\n",
        "tables = pd.read_html(url)"
      ],
      "metadata": {
        "id": "S9XRbP131Kxw"
      },
      "execution_count": null,
      "outputs": []
    },
    {
      "cell_type": "code",
      "source": [
        "len(tables)"
      ],
      "metadata": {
        "colab": {
          "base_uri": "https://localhost:8080/"
        },
        "id": "xTba-08e4p42",
        "outputId": "ebbf719f-832e-4e13-9798-6bc71d74eb43"
      },
      "execution_count": null,
      "outputs": [
        {
          "output_type": "execute_result",
          "data": {
            "text/plain": [
              "26"
            ]
          },
          "metadata": {},
          "execution_count": 40
        }
      ]
    },
    {
      "cell_type": "code",
      "source": [
        "tt = tables[0]\n",
        "tt"
      ],
      "metadata": {
        "colab": {
          "base_uri": "https://localhost:8080/",
          "height": 588
        },
        "id": "tEjb8ZHo6xuF",
        "outputId": "31b58c4c-0619-4e77-8495-1fe8f7598aec"
      },
      "execution_count": null,
      "outputs": [
        {
          "output_type": "execute_result",
          "data": {
            "text/html": [
              "\n",
              "  <div id=\"df-b30e4f95-7b13-418e-a468-c23c8586fd95\">\n",
              "    <div class=\"colab-df-container\">\n",
              "      <div>\n",
              "<style scoped>\n",
              "    .dataframe tbody tr th:only-of-type {\n",
              "        vertical-align: middle;\n",
              "    }\n",
              "\n",
              "    .dataframe tbody tr th {\n",
              "        vertical-align: top;\n",
              "    }\n",
              "\n",
              "    .dataframe thead tr th {\n",
              "        text-align: left;\n",
              "    }\n",
              "</style>\n",
              "<table border=\"1\" class=\"dataframe\">\n",
              "  <thead>\n",
              "    <tr>\n",
              "      <th></th>\n",
              "      <th colspan=\"5\" halign=\"left\">World population (millions, UN estimates)[15]</th>\n",
              "    </tr>\n",
              "    <tr>\n",
              "      <th></th>\n",
              "      <th>#</th>\n",
              "      <th>Top ten most populous countries</th>\n",
              "      <th>2000</th>\n",
              "      <th>2015</th>\n",
              "      <th>2030[A]</th>\n",
              "    </tr>\n",
              "  </thead>\n",
              "  <tbody>\n",
              "    <tr>\n",
              "      <th>0</th>\n",
              "      <td>1</td>\n",
              "      <td>China[B]</td>\n",
              "      <td>1270</td>\n",
              "      <td>1376</td>\n",
              "      <td>1416</td>\n",
              "    </tr>\n",
              "    <tr>\n",
              "      <th>1</th>\n",
              "      <td>2</td>\n",
              "      <td>India</td>\n",
              "      <td>1053</td>\n",
              "      <td>1311</td>\n",
              "      <td>1528</td>\n",
              "    </tr>\n",
              "    <tr>\n",
              "      <th>2</th>\n",
              "      <td>3</td>\n",
              "      <td>United States</td>\n",
              "      <td>283</td>\n",
              "      <td>322</td>\n",
              "      <td>356</td>\n",
              "    </tr>\n",
              "    <tr>\n",
              "      <th>3</th>\n",
              "      <td>4</td>\n",
              "      <td>Indonesia</td>\n",
              "      <td>212</td>\n",
              "      <td>258</td>\n",
              "      <td>295</td>\n",
              "    </tr>\n",
              "    <tr>\n",
              "      <th>4</th>\n",
              "      <td>5</td>\n",
              "      <td>Pakistan</td>\n",
              "      <td>136</td>\n",
              "      <td>208</td>\n",
              "      <td>245</td>\n",
              "    </tr>\n",
              "    <tr>\n",
              "      <th>5</th>\n",
              "      <td>6</td>\n",
              "      <td>Brazil</td>\n",
              "      <td>176</td>\n",
              "      <td>206</td>\n",
              "      <td>228</td>\n",
              "    </tr>\n",
              "    <tr>\n",
              "      <th>6</th>\n",
              "      <td>7</td>\n",
              "      <td>Nigeria</td>\n",
              "      <td>123</td>\n",
              "      <td>182</td>\n",
              "      <td>263</td>\n",
              "    </tr>\n",
              "    <tr>\n",
              "      <th>7</th>\n",
              "      <td>8</td>\n",
              "      <td>Bangladesh</td>\n",
              "      <td>131</td>\n",
              "      <td>161</td>\n",
              "      <td>186</td>\n",
              "    </tr>\n",
              "    <tr>\n",
              "      <th>8</th>\n",
              "      <td>9</td>\n",
              "      <td>Russia</td>\n",
              "      <td>146</td>\n",
              "      <td>146</td>\n",
              "      <td>149</td>\n",
              "    </tr>\n",
              "    <tr>\n",
              "      <th>9</th>\n",
              "      <td>10</td>\n",
              "      <td>Mexico</td>\n",
              "      <td>103</td>\n",
              "      <td>127</td>\n",
              "      <td>148</td>\n",
              "    </tr>\n",
              "    <tr>\n",
              "      <th>10</th>\n",
              "      <td>NaN</td>\n",
              "      <td>World total</td>\n",
              "      <td>6127</td>\n",
              "      <td>7349</td>\n",
              "      <td>8501</td>\n",
              "    </tr>\n",
              "    <tr>\n",
              "      <th>11</th>\n",
              "      <td>Notes: .mw-parser-output .reflist{font-size:90...</td>\n",
              "      <td>Notes: .mw-parser-output .reflist{font-size:90...</td>\n",
              "      <td>Notes: .mw-parser-output .reflist{font-size:90...</td>\n",
              "      <td>Notes: .mw-parser-output .reflist{font-size:90...</td>\n",
              "      <td>Notes: .mw-parser-output .reflist{font-size:90...</td>\n",
              "    </tr>\n",
              "  </tbody>\n",
              "</table>\n",
              "</div>\n",
              "      <button class=\"colab-df-convert\" onclick=\"convertToInteractive('df-b30e4f95-7b13-418e-a468-c23c8586fd95')\"\n",
              "              title=\"Convert this dataframe to an interactive table.\"\n",
              "              style=\"display:none;\">\n",
              "        \n",
              "  <svg xmlns=\"http://www.w3.org/2000/svg\" height=\"24px\"viewBox=\"0 0 24 24\"\n",
              "       width=\"24px\">\n",
              "    <path d=\"M0 0h24v24H0V0z\" fill=\"none\"/>\n",
              "    <path d=\"M18.56 5.44l.94 2.06.94-2.06 2.06-.94-2.06-.94-.94-2.06-.94 2.06-2.06.94zm-11 1L8.5 8.5l.94-2.06 2.06-.94-2.06-.94L8.5 2.5l-.94 2.06-2.06.94zm10 10l.94 2.06.94-2.06 2.06-.94-2.06-.94-.94-2.06-.94 2.06-2.06.94z\"/><path d=\"M17.41 7.96l-1.37-1.37c-.4-.4-.92-.59-1.43-.59-.52 0-1.04.2-1.43.59L10.3 9.45l-7.72 7.72c-.78.78-.78 2.05 0 2.83L4 21.41c.39.39.9.59 1.41.59.51 0 1.02-.2 1.41-.59l7.78-7.78 2.81-2.81c.8-.78.8-2.07 0-2.86zM5.41 20L4 18.59l7.72-7.72 1.47 1.35L5.41 20z\"/>\n",
              "  </svg>\n",
              "      </button>\n",
              "      \n",
              "  <style>\n",
              "    .colab-df-container {\n",
              "      display:flex;\n",
              "      flex-wrap:wrap;\n",
              "      gap: 12px;\n",
              "    }\n",
              "\n",
              "    .colab-df-convert {\n",
              "      background-color: #E8F0FE;\n",
              "      border: none;\n",
              "      border-radius: 50%;\n",
              "      cursor: pointer;\n",
              "      display: none;\n",
              "      fill: #1967D2;\n",
              "      height: 32px;\n",
              "      padding: 0 0 0 0;\n",
              "      width: 32px;\n",
              "    }\n",
              "\n",
              "    .colab-df-convert:hover {\n",
              "      background-color: #E2EBFA;\n",
              "      box-shadow: 0px 1px 2px rgba(60, 64, 67, 0.3), 0px 1px 3px 1px rgba(60, 64, 67, 0.15);\n",
              "      fill: #174EA6;\n",
              "    }\n",
              "\n",
              "    [theme=dark] .colab-df-convert {\n",
              "      background-color: #3B4455;\n",
              "      fill: #D2E3FC;\n",
              "    }\n",
              "\n",
              "    [theme=dark] .colab-df-convert:hover {\n",
              "      background-color: #434B5C;\n",
              "      box-shadow: 0px 1px 3px 1px rgba(0, 0, 0, 0.15);\n",
              "      filter: drop-shadow(0px 1px 2px rgba(0, 0, 0, 0.3));\n",
              "      fill: #FFFFFF;\n",
              "    }\n",
              "  </style>\n",
              "\n",
              "      <script>\n",
              "        const buttonEl =\n",
              "          document.querySelector('#df-b30e4f95-7b13-418e-a468-c23c8586fd95 button.colab-df-convert');\n",
              "        buttonEl.style.display =\n",
              "          google.colab.kernel.accessAllowed ? 'block' : 'none';\n",
              "\n",
              "        async function convertToInteractive(key) {\n",
              "          const element = document.querySelector('#df-b30e4f95-7b13-418e-a468-c23c8586fd95');\n",
              "          const dataTable =\n",
              "            await google.colab.kernel.invokeFunction('convertToInteractive',\n",
              "                                                     [key], {});\n",
              "          if (!dataTable) return;\n",
              "\n",
              "          const docLinkHtml = 'Like what you see? Visit the ' +\n",
              "            '<a target=\"_blank\" href=https://colab.research.google.com/notebooks/data_table.ipynb>data table notebook</a>'\n",
              "            + ' to learn more about interactive tables.';\n",
              "          element.innerHTML = '';\n",
              "          dataTable['output_type'] = 'display_data';\n",
              "          await google.colab.output.renderOutput(dataTable, element);\n",
              "          const docLink = document.createElement('div');\n",
              "          docLink.innerHTML = docLinkHtml;\n",
              "          element.appendChild(docLink);\n",
              "        }\n",
              "      </script>\n",
              "    </div>\n",
              "  </div>\n",
              "  "
            ],
            "text/plain": [
              "        World population (millions, UN estimates)[15]  ...                                                   \n",
              "                                                    #  ...                                            2030[A]\n",
              "0                                                   1  ...                                               1416\n",
              "1                                                   2  ...                                               1528\n",
              "2                                                   3  ...                                                356\n",
              "3                                                   4  ...                                                295\n",
              "4                                                   5  ...                                                245\n",
              "5                                                   6  ...                                                228\n",
              "6                                                   7  ...                                                263\n",
              "7                                                   8  ...                                                186\n",
              "8                                                   9  ...                                                149\n",
              "9                                                  10  ...                                                148\n",
              "10                                                NaN  ...                                               8501\n",
              "11  Notes: .mw-parser-output .reflist{font-size:90...  ...  Notes: .mw-parser-output .reflist{font-size:90...\n",
              "\n",
              "[12 rows x 5 columns]"
            ]
          },
          "metadata": {},
          "execution_count": 44
        }
      ]
    },
    {
      "cell_type": "code",
      "source": [
        "tt = tt['World population (millions, UN estimates)[15]']"
      ],
      "metadata": {
        "id": "adBmXmmm6EqS"
      },
      "execution_count": null,
      "outputs": []
    },
    {
      "cell_type": "code",
      "source": [
        "tt"
      ],
      "metadata": {
        "colab": {
          "base_uri": "https://localhost:8080/",
          "height": 556
        },
        "id": "N9nMvcHM6v6A",
        "outputId": "cf6c3e42-64d0-4664-8287-32598b290105"
      },
      "execution_count": null,
      "outputs": [
        {
          "output_type": "execute_result",
          "data": {
            "text/html": [
              "\n",
              "  <div id=\"df-baab31ce-cadd-4032-97bc-036d73b45d24\">\n",
              "    <div class=\"colab-df-container\">\n",
              "      <div>\n",
              "<style scoped>\n",
              "    .dataframe tbody tr th:only-of-type {\n",
              "        vertical-align: middle;\n",
              "    }\n",
              "\n",
              "    .dataframe tbody tr th {\n",
              "        vertical-align: top;\n",
              "    }\n",
              "\n",
              "    .dataframe thead th {\n",
              "        text-align: right;\n",
              "    }\n",
              "</style>\n",
              "<table border=\"1\" class=\"dataframe\">\n",
              "  <thead>\n",
              "    <tr style=\"text-align: right;\">\n",
              "      <th></th>\n",
              "      <th>#</th>\n",
              "      <th>Top ten most populous countries</th>\n",
              "      <th>2000</th>\n",
              "      <th>2015</th>\n",
              "      <th>2030[A]</th>\n",
              "    </tr>\n",
              "  </thead>\n",
              "  <tbody>\n",
              "    <tr>\n",
              "      <th>0</th>\n",
              "      <td>1</td>\n",
              "      <td>China[B]</td>\n",
              "      <td>1270</td>\n",
              "      <td>1376</td>\n",
              "      <td>1416</td>\n",
              "    </tr>\n",
              "    <tr>\n",
              "      <th>1</th>\n",
              "      <td>2</td>\n",
              "      <td>India</td>\n",
              "      <td>1053</td>\n",
              "      <td>1311</td>\n",
              "      <td>1528</td>\n",
              "    </tr>\n",
              "    <tr>\n",
              "      <th>2</th>\n",
              "      <td>3</td>\n",
              "      <td>United States</td>\n",
              "      <td>283</td>\n",
              "      <td>322</td>\n",
              "      <td>356</td>\n",
              "    </tr>\n",
              "    <tr>\n",
              "      <th>3</th>\n",
              "      <td>4</td>\n",
              "      <td>Indonesia</td>\n",
              "      <td>212</td>\n",
              "      <td>258</td>\n",
              "      <td>295</td>\n",
              "    </tr>\n",
              "    <tr>\n",
              "      <th>4</th>\n",
              "      <td>5</td>\n",
              "      <td>Pakistan</td>\n",
              "      <td>136</td>\n",
              "      <td>208</td>\n",
              "      <td>245</td>\n",
              "    </tr>\n",
              "    <tr>\n",
              "      <th>5</th>\n",
              "      <td>6</td>\n",
              "      <td>Brazil</td>\n",
              "      <td>176</td>\n",
              "      <td>206</td>\n",
              "      <td>228</td>\n",
              "    </tr>\n",
              "    <tr>\n",
              "      <th>6</th>\n",
              "      <td>7</td>\n",
              "      <td>Nigeria</td>\n",
              "      <td>123</td>\n",
              "      <td>182</td>\n",
              "      <td>263</td>\n",
              "    </tr>\n",
              "    <tr>\n",
              "      <th>7</th>\n",
              "      <td>8</td>\n",
              "      <td>Bangladesh</td>\n",
              "      <td>131</td>\n",
              "      <td>161</td>\n",
              "      <td>186</td>\n",
              "    </tr>\n",
              "    <tr>\n",
              "      <th>8</th>\n",
              "      <td>9</td>\n",
              "      <td>Russia</td>\n",
              "      <td>146</td>\n",
              "      <td>146</td>\n",
              "      <td>149</td>\n",
              "    </tr>\n",
              "    <tr>\n",
              "      <th>9</th>\n",
              "      <td>10</td>\n",
              "      <td>Mexico</td>\n",
              "      <td>103</td>\n",
              "      <td>127</td>\n",
              "      <td>148</td>\n",
              "    </tr>\n",
              "    <tr>\n",
              "      <th>10</th>\n",
              "      <td>NaN</td>\n",
              "      <td>World total</td>\n",
              "      <td>6127</td>\n",
              "      <td>7349</td>\n",
              "      <td>8501</td>\n",
              "    </tr>\n",
              "    <tr>\n",
              "      <th>11</th>\n",
              "      <td>Notes: .mw-parser-output .reflist{font-size:90...</td>\n",
              "      <td>Notes: .mw-parser-output .reflist{font-size:90...</td>\n",
              "      <td>Notes: .mw-parser-output .reflist{font-size:90...</td>\n",
              "      <td>Notes: .mw-parser-output .reflist{font-size:90...</td>\n",
              "      <td>Notes: .mw-parser-output .reflist{font-size:90...</td>\n",
              "    </tr>\n",
              "  </tbody>\n",
              "</table>\n",
              "</div>\n",
              "      <button class=\"colab-df-convert\" onclick=\"convertToInteractive('df-baab31ce-cadd-4032-97bc-036d73b45d24')\"\n",
              "              title=\"Convert this dataframe to an interactive table.\"\n",
              "              style=\"display:none;\">\n",
              "        \n",
              "  <svg xmlns=\"http://www.w3.org/2000/svg\" height=\"24px\"viewBox=\"0 0 24 24\"\n",
              "       width=\"24px\">\n",
              "    <path d=\"M0 0h24v24H0V0z\" fill=\"none\"/>\n",
              "    <path d=\"M18.56 5.44l.94 2.06.94-2.06 2.06-.94-2.06-.94-.94-2.06-.94 2.06-2.06.94zm-11 1L8.5 8.5l.94-2.06 2.06-.94-2.06-.94L8.5 2.5l-.94 2.06-2.06.94zm10 10l.94 2.06.94-2.06 2.06-.94-2.06-.94-.94-2.06-.94 2.06-2.06.94z\"/><path d=\"M17.41 7.96l-1.37-1.37c-.4-.4-.92-.59-1.43-.59-.52 0-1.04.2-1.43.59L10.3 9.45l-7.72 7.72c-.78.78-.78 2.05 0 2.83L4 21.41c.39.39.9.59 1.41.59.51 0 1.02-.2 1.41-.59l7.78-7.78 2.81-2.81c.8-.78.8-2.07 0-2.86zM5.41 20L4 18.59l7.72-7.72 1.47 1.35L5.41 20z\"/>\n",
              "  </svg>\n",
              "      </button>\n",
              "      \n",
              "  <style>\n",
              "    .colab-df-container {\n",
              "      display:flex;\n",
              "      flex-wrap:wrap;\n",
              "      gap: 12px;\n",
              "    }\n",
              "\n",
              "    .colab-df-convert {\n",
              "      background-color: #E8F0FE;\n",
              "      border: none;\n",
              "      border-radius: 50%;\n",
              "      cursor: pointer;\n",
              "      display: none;\n",
              "      fill: #1967D2;\n",
              "      height: 32px;\n",
              "      padding: 0 0 0 0;\n",
              "      width: 32px;\n",
              "    }\n",
              "\n",
              "    .colab-df-convert:hover {\n",
              "      background-color: #E2EBFA;\n",
              "      box-shadow: 0px 1px 2px rgba(60, 64, 67, 0.3), 0px 1px 3px 1px rgba(60, 64, 67, 0.15);\n",
              "      fill: #174EA6;\n",
              "    }\n",
              "\n",
              "    [theme=dark] .colab-df-convert {\n",
              "      background-color: #3B4455;\n",
              "      fill: #D2E3FC;\n",
              "    }\n",
              "\n",
              "    [theme=dark] .colab-df-convert:hover {\n",
              "      background-color: #434B5C;\n",
              "      box-shadow: 0px 1px 3px 1px rgba(0, 0, 0, 0.15);\n",
              "      filter: drop-shadow(0px 1px 2px rgba(0, 0, 0, 0.3));\n",
              "      fill: #FFFFFF;\n",
              "    }\n",
              "  </style>\n",
              "\n",
              "      <script>\n",
              "        const buttonEl =\n",
              "          document.querySelector('#df-baab31ce-cadd-4032-97bc-036d73b45d24 button.colab-df-convert');\n",
              "        buttonEl.style.display =\n",
              "          google.colab.kernel.accessAllowed ? 'block' : 'none';\n",
              "\n",
              "        async function convertToInteractive(key) {\n",
              "          const element = document.querySelector('#df-baab31ce-cadd-4032-97bc-036d73b45d24');\n",
              "          const dataTable =\n",
              "            await google.colab.kernel.invokeFunction('convertToInteractive',\n",
              "                                                     [key], {});\n",
              "          if (!dataTable) return;\n",
              "\n",
              "          const docLinkHtml = 'Like what you see? Visit the ' +\n",
              "            '<a target=\"_blank\" href=https://colab.research.google.com/notebooks/data_table.ipynb>data table notebook</a>'\n",
              "            + ' to learn more about interactive tables.';\n",
              "          element.innerHTML = '';\n",
              "          dataTable['output_type'] = 'display_data';\n",
              "          await google.colab.output.renderOutput(dataTable, element);\n",
              "          const docLink = document.createElement('div');\n",
              "          docLink.innerHTML = docLinkHtml;\n",
              "          element.appendChild(docLink);\n",
              "        }\n",
              "      </script>\n",
              "    </div>\n",
              "  </div>\n",
              "  "
            ],
            "text/plain": [
              "                                                    #  ...                                            2030[A]\n",
              "0                                                   1  ...                                               1416\n",
              "1                                                   2  ...                                               1528\n",
              "2                                                   3  ...                                                356\n",
              "3                                                   4  ...                                                295\n",
              "4                                                   5  ...                                                245\n",
              "5                                                   6  ...                                                228\n",
              "6                                                   7  ...                                                263\n",
              "7                                                   8  ...                                                186\n",
              "8                                                   9  ...                                                149\n",
              "9                                                  10  ...                                                148\n",
              "10                                                NaN  ...                                               8501\n",
              "11  Notes: .mw-parser-output .reflist{font-size:90...  ...  Notes: .mw-parser-output .reflist{font-size:90...\n",
              "\n",
              "[12 rows x 5 columns]"
            ]
          },
          "metadata": {},
          "execution_count": 46
        }
      ]
    },
    {
      "cell_type": "code",
      "source": [
        "tt =  tt.drop(11,axis = 0)"
      ],
      "metadata": {
        "id": "_Z50q4Vi7JsE"
      },
      "execution_count": null,
      "outputs": []
    },
    {
      "cell_type": "code",
      "source": [
        "tt = tt.drop('#',axis=1)"
      ],
      "metadata": {
        "id": "70nY9fHO7RtT"
      },
      "execution_count": null,
      "outputs": []
    },
    {
      "cell_type": "code",
      "source": [
        "tt.loc[0].at['Top ten most populous countries'] = \"China\""
      ],
      "metadata": {
        "id": "ARR3FhWK7b7Z"
      },
      "execution_count": null,
      "outputs": []
    },
    {
      "cell_type": "code",
      "source": [
        "#tt.loc[0][0] == tt.loc[0].at['Top ten most populous countries']\n",
        "#these two are similar"
      ],
      "metadata": {
        "colab": {
          "base_uri": "https://localhost:8080/",
          "height": 35
        },
        "id": "T1YATXf_8m7J",
        "outputId": "dd004346-e75c-4a2b-c1c3-588c499fd689"
      },
      "execution_count": null,
      "outputs": [
        {
          "output_type": "execute_result",
          "data": {
            "application/vnd.google.colaboratory.intrinsic+json": {
              "type": "string"
            },
            "text/plain": [
              "'1270'"
            ]
          },
          "metadata": {},
          "execution_count": 59
        }
      ]
    },
    {
      "cell_type": "code",
      "source": [
        "from google.colab import files\n",
        "uploaded = files.upload()"
      ],
      "metadata": {
        "colab": {
          "resources": {
            "http://localhost:8080/nbextensions/google.colab/files.js": {
              "data": "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",
              "ok": true,
              "headers": [
                [
                  "content-type",
                  "application/javascript"
                ]
              ],
              "status": 200,
              "status_text": ""
            }
          },
          "base_uri": "https://localhost:8080/",
          "height": 91
        },
        "id": "yNRlo31U-FPM",
        "outputId": "3bca4a79-491b-4a93-fb17-f38590d7309d"
      },
      "execution_count": null,
      "outputs": [
        {
          "output_type": "display_data",
          "data": {
            "text/html": [
              "\n",
              "     <input type=\"file\" id=\"files-d3093606-ef40-409a-bedd-32894905f4c9\" name=\"files[]\" multiple disabled\n",
              "        style=\"border:none\" />\n",
              "     <output id=\"result-d3093606-ef40-409a-bedd-32894905f4c9\">\n",
              "      Upload widget is only available when the cell has been executed in the\n",
              "      current browser session. Please rerun this cell to enable.\n",
              "      </output>\n",
              "      <script src=\"/nbextensions/google.colab/files.js\"></script> "
            ],
            "text/plain": [
              "<IPython.core.display.HTML object>"
            ]
          },
          "metadata": {}
        },
        {
          "output_type": "stream",
          "name": "stdout",
          "text": [
            "Saving my_excel_file.xlsx to my_excel_file.xlsx\n"
          ]
        }
      ]
    },
    {
      "cell_type": "code",
      "source": [
        "f = pd.read_excel('my_excel_file.xlsx',sheet_name='First_Sheet')\n",
        "f"
      ],
      "metadata": {
        "colab": {
          "base_uri": "https://localhost:8080/",
          "height": 174
        },
        "id": "iMmbToJe9QfI",
        "outputId": "6333ad4b-6ea1-4628-c4f6-5862f9170cac"
      },
      "execution_count": null,
      "outputs": [
        {
          "output_type": "execute_result",
          "data": {
            "text/html": [
              "\n",
              "  <div id=\"df-17a0f708-35e7-4407-a015-6a0742abf435\">\n",
              "    <div class=\"colab-df-container\">\n",
              "      <div>\n",
              "<style scoped>\n",
              "    .dataframe tbody tr th:only-of-type {\n",
              "        vertical-align: middle;\n",
              "    }\n",
              "\n",
              "    .dataframe tbody tr th {\n",
              "        vertical-align: top;\n",
              "    }\n",
              "\n",
              "    .dataframe thead th {\n",
              "        text-align: right;\n",
              "    }\n",
              "</style>\n",
              "<table border=\"1\" class=\"dataframe\">\n",
              "  <thead>\n",
              "    <tr style=\"text-align: right;\">\n",
              "      <th></th>\n",
              "      <th>a</th>\n",
              "      <th>b</th>\n",
              "      <th>c</th>\n",
              "      <th>d</th>\n",
              "    </tr>\n",
              "  </thead>\n",
              "  <tbody>\n",
              "    <tr>\n",
              "      <th>0</th>\n",
              "      <td>0</td>\n",
              "      <td>1</td>\n",
              "      <td>2</td>\n",
              "      <td>3</td>\n",
              "    </tr>\n",
              "    <tr>\n",
              "      <th>1</th>\n",
              "      <td>4</td>\n",
              "      <td>5</td>\n",
              "      <td>6</td>\n",
              "      <td>7</td>\n",
              "    </tr>\n",
              "    <tr>\n",
              "      <th>2</th>\n",
              "      <td>8</td>\n",
              "      <td>9</td>\n",
              "      <td>10</td>\n",
              "      <td>11</td>\n",
              "    </tr>\n",
              "    <tr>\n",
              "      <th>3</th>\n",
              "      <td>12</td>\n",
              "      <td>13</td>\n",
              "      <td>14</td>\n",
              "      <td>15</td>\n",
              "    </tr>\n",
              "  </tbody>\n",
              "</table>\n",
              "</div>\n",
              "      <button class=\"colab-df-convert\" onclick=\"convertToInteractive('df-17a0f708-35e7-4407-a015-6a0742abf435')\"\n",
              "              title=\"Convert this dataframe to an interactive table.\"\n",
              "              style=\"display:none;\">\n",
              "        \n",
              "  <svg xmlns=\"http://www.w3.org/2000/svg\" height=\"24px\"viewBox=\"0 0 24 24\"\n",
              "       width=\"24px\">\n",
              "    <path d=\"M0 0h24v24H0V0z\" fill=\"none\"/>\n",
              "    <path d=\"M18.56 5.44l.94 2.06.94-2.06 2.06-.94-2.06-.94-.94-2.06-.94 2.06-2.06.94zm-11 1L8.5 8.5l.94-2.06 2.06-.94-2.06-.94L8.5 2.5l-.94 2.06-2.06.94zm10 10l.94 2.06.94-2.06 2.06-.94-2.06-.94-.94-2.06-.94 2.06-2.06.94z\"/><path d=\"M17.41 7.96l-1.37-1.37c-.4-.4-.92-.59-1.43-.59-.52 0-1.04.2-1.43.59L10.3 9.45l-7.72 7.72c-.78.78-.78 2.05 0 2.83L4 21.41c.39.39.9.59 1.41.59.51 0 1.02-.2 1.41-.59l7.78-7.78 2.81-2.81c.8-.78.8-2.07 0-2.86zM5.41 20L4 18.59l7.72-7.72 1.47 1.35L5.41 20z\"/>\n",
              "  </svg>\n",
              "      </button>\n",
              "      \n",
              "  <style>\n",
              "    .colab-df-container {\n",
              "      display:flex;\n",
              "      flex-wrap:wrap;\n",
              "      gap: 12px;\n",
              "    }\n",
              "\n",
              "    .colab-df-convert {\n",
              "      background-color: #E8F0FE;\n",
              "      border: none;\n",
              "      border-radius: 50%;\n",
              "      cursor: pointer;\n",
              "      display: none;\n",
              "      fill: #1967D2;\n",
              "      height: 32px;\n",
              "      padding: 0 0 0 0;\n",
              "      width: 32px;\n",
              "    }\n",
              "\n",
              "    .colab-df-convert:hover {\n",
              "      background-color: #E2EBFA;\n",
              "      box-shadow: 0px 1px 2px rgba(60, 64, 67, 0.3), 0px 1px 3px 1px rgba(60, 64, 67, 0.15);\n",
              "      fill: #174EA6;\n",
              "    }\n",
              "\n",
              "    [theme=dark] .colab-df-convert {\n",
              "      background-color: #3B4455;\n",
              "      fill: #D2E3FC;\n",
              "    }\n",
              "\n",
              "    [theme=dark] .colab-df-convert:hover {\n",
              "      background-color: #434B5C;\n",
              "      box-shadow: 0px 1px 3px 1px rgba(0, 0, 0, 0.15);\n",
              "      filter: drop-shadow(0px 1px 2px rgba(0, 0, 0, 0.3));\n",
              "      fill: #FFFFFF;\n",
              "    }\n",
              "  </style>\n",
              "\n",
              "      <script>\n",
              "        const buttonEl =\n",
              "          document.querySelector('#df-17a0f708-35e7-4407-a015-6a0742abf435 button.colab-df-convert');\n",
              "        buttonEl.style.display =\n",
              "          google.colab.kernel.accessAllowed ? 'block' : 'none';\n",
              "\n",
              "        async function convertToInteractive(key) {\n",
              "          const element = document.querySelector('#df-17a0f708-35e7-4407-a015-6a0742abf435');\n",
              "          const dataTable =\n",
              "            await google.colab.kernel.invokeFunction('convertToInteractive',\n",
              "                                                     [key], {});\n",
              "          if (!dataTable) return;\n",
              "\n",
              "          const docLinkHtml = 'Like what you see? Visit the ' +\n",
              "            '<a target=\"_blank\" href=https://colab.research.google.com/notebooks/data_table.ipynb>data table notebook</a>'\n",
              "            + ' to learn more about interactive tables.';\n",
              "          element.innerHTML = '';\n",
              "          dataTable['output_type'] = 'display_data';\n",
              "          await google.colab.output.renderOutput(dataTable, element);\n",
              "          const docLink = document.createElement('div');\n",
              "          docLink.innerHTML = docLinkHtml;\n",
              "          element.appendChild(docLink);\n",
              "        }\n",
              "      </script>\n",
              "    </div>\n",
              "  </div>\n",
              "  "
            ],
            "text/plain": [
              "    a   b   c   d\n",
              "0   0   1   2   3\n",
              "1   4   5   6   7\n",
              "2   8   9  10  11\n",
              "3  12  13  14  15"
            ]
          },
          "metadata": {},
          "execution_count": 68
        }
      ]
    },
    {
      "cell_type": "code",
      "source": [
        "wb = pd.ExcelFile('my_excel_file.xlsx')\n",
        "wb.sheet_names"
      ],
      "metadata": {
        "colab": {
          "base_uri": "https://localhost:8080/"
        },
        "id": "1m1acZ0O-eig",
        "outputId": "f078c6bd-8d0d-4028-ce4a-d819a1031661"
      },
      "execution_count": null,
      "outputs": [
        {
          "output_type": "execute_result",
          "data": {
            "text/plain": [
              "['First_Sheet']"
            ]
          },
          "metadata": {},
          "execution_count": 69
        }
      ]
    },
    {
      "cell_type": "code",
      "source": [
        "from google.colab import files\n",
        "uploaded = files.upload()"
      ],
      "metadata": {
        "colab": {
          "resources": {
            "http://localhost:8080/nbextensions/google.colab/files.js": {
              "data": "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",
              "ok": true,
              "headers": [
                [
                  "content-type",
                  "application/javascript"
                ]
              ],
              "status": 200,
              "status_text": ""
            }
          },
          "base_uri": "https://localhost:8080/",
          "height": 91
        },
        "id": "riRlArH7CZKr",
        "outputId": "a24c04bb-ec05-4d79-e746-507391a22614"
      },
      "execution_count": null,
      "outputs": [
        {
          "output_type": "display_data",
          "data": {
            "text/html": [
              "\n",
              "     <input type=\"file\" id=\"files-f19e9ff6-3bd2-4217-ab59-e44b5e334ee5\" name=\"files[]\" multiple disabled\n",
              "        style=\"border:none\" />\n",
              "     <output id=\"result-f19e9ff6-3bd2-4217-ab59-e44b5e334ee5\">\n",
              "      Upload widget is only available when the cell has been executed in the\n",
              "      current browser session. Please rerun this cell to enable.\n",
              "      </output>\n",
              "      <script src=\"/nbextensions/google.colab/files.js\"></script> "
            ],
            "text/plain": [
              "<IPython.core.display.HTML object>"
            ]
          },
          "metadata": {}
        },
        {
          "output_type": "stream",
          "name": "stdout",
          "text": [
            "Saving Sales_Funnel_CRM.csv to Sales_Funnel_CRM.csv\n"
          ]
        }
      ]
    },
    {
      "cell_type": "code",
      "source": [
        "f = pd.read_csv('Sales_Funnel_CRM.csv')\n",
        "f"
      ],
      "metadata": {
        "colab": {
          "base_uri": "https://localhost:8080/",
          "height": 938
        },
        "id": "EjWJUMqv-vcR",
        "outputId": "dfaaa3c4-d559-406b-b462-a58291413d03"
      },
      "execution_count": null,
      "outputs": [
        {
          "output_type": "execute_result",
          "data": {
            "text/html": [
              "\n",
              "  <div id=\"df-1f05b204-8fc9-42de-a89a-d3faa897e3cd\">\n",
              "    <div class=\"colab-df-container\">\n",
              "      <div>\n",
              "<style scoped>\n",
              "    .dataframe tbody tr th:only-of-type {\n",
              "        vertical-align: middle;\n",
              "    }\n",
              "\n",
              "    .dataframe tbody tr th {\n",
              "        vertical-align: top;\n",
              "    }\n",
              "\n",
              "    .dataframe thead th {\n",
              "        text-align: right;\n",
              "    }\n",
              "</style>\n",
              "<table border=\"1\" class=\"dataframe\">\n",
              "  <thead>\n",
              "    <tr style=\"text-align: right;\">\n",
              "      <th></th>\n",
              "      <th>Account Number</th>\n",
              "      <th>Company</th>\n",
              "      <th>Contact</th>\n",
              "      <th>Account Manager</th>\n",
              "      <th>Product</th>\n",
              "      <th>Licenses</th>\n",
              "      <th>Sale Price</th>\n",
              "      <th>Status</th>\n",
              "    </tr>\n",
              "  </thead>\n",
              "  <tbody>\n",
              "    <tr>\n",
              "      <th>0</th>\n",
              "      <td>2123398</td>\n",
              "      <td>Google</td>\n",
              "      <td>Larry Pager</td>\n",
              "      <td>Edward Thorp</td>\n",
              "      <td>Analytics</td>\n",
              "      <td>150</td>\n",
              "      <td>2100000</td>\n",
              "      <td>Presented</td>\n",
              "    </tr>\n",
              "    <tr>\n",
              "      <th>1</th>\n",
              "      <td>2123398</td>\n",
              "      <td>Google</td>\n",
              "      <td>Larry Pager</td>\n",
              "      <td>Edward Thorp</td>\n",
              "      <td>Prediction</td>\n",
              "      <td>150</td>\n",
              "      <td>700000</td>\n",
              "      <td>Presented</td>\n",
              "    </tr>\n",
              "    <tr>\n",
              "      <th>2</th>\n",
              "      <td>2123398</td>\n",
              "      <td>Google</td>\n",
              "      <td>Larry Pager</td>\n",
              "      <td>Edward Thorp</td>\n",
              "      <td>Tracking</td>\n",
              "      <td>300</td>\n",
              "      <td>350000</td>\n",
              "      <td>Under Review</td>\n",
              "    </tr>\n",
              "    <tr>\n",
              "      <th>3</th>\n",
              "      <td>2192650</td>\n",
              "      <td>BOBO</td>\n",
              "      <td>Larry Pager</td>\n",
              "      <td>Edward Thorp</td>\n",
              "      <td>Analytics</td>\n",
              "      <td>150</td>\n",
              "      <td>2450000</td>\n",
              "      <td>Lost</td>\n",
              "    </tr>\n",
              "    <tr>\n",
              "      <th>4</th>\n",
              "      <td>420496</td>\n",
              "      <td>IKEA</td>\n",
              "      <td>Elon Tusk</td>\n",
              "      <td>Edward Thorp</td>\n",
              "      <td>Analytics</td>\n",
              "      <td>300</td>\n",
              "      <td>4550000</td>\n",
              "      <td>Won</td>\n",
              "    </tr>\n",
              "    <tr>\n",
              "      <th>5</th>\n",
              "      <td>636685</td>\n",
              "      <td>Tesla Inc.</td>\n",
              "      <td>Elon Tusk</td>\n",
              "      <td>Edward Thorp</td>\n",
              "      <td>Analytics</td>\n",
              "      <td>300</td>\n",
              "      <td>2800000</td>\n",
              "      <td>Under Review</td>\n",
              "    </tr>\n",
              "    <tr>\n",
              "      <th>6</th>\n",
              "      <td>636685</td>\n",
              "      <td>Tesla Inc.</td>\n",
              "      <td>Elon Tusk</td>\n",
              "      <td>Edward Thorp</td>\n",
              "      <td>Prediction</td>\n",
              "      <td>150</td>\n",
              "      <td>700000</td>\n",
              "      <td>Presented</td>\n",
              "    </tr>\n",
              "    <tr>\n",
              "      <th>7</th>\n",
              "      <td>1216870</td>\n",
              "      <td>Microsoft</td>\n",
              "      <td>Will Grates</td>\n",
              "      <td>Edward Thorp</td>\n",
              "      <td>Tracking</td>\n",
              "      <td>300</td>\n",
              "      <td>350000</td>\n",
              "      <td>Under Review</td>\n",
              "    </tr>\n",
              "    <tr>\n",
              "      <th>8</th>\n",
              "      <td>2200450</td>\n",
              "      <td>Walmart</td>\n",
              "      <td>Will Grates</td>\n",
              "      <td>Edward Thorp</td>\n",
              "      <td>Analytics</td>\n",
              "      <td>150</td>\n",
              "      <td>2450000</td>\n",
              "      <td>Lost</td>\n",
              "    </tr>\n",
              "    <tr>\n",
              "      <th>9</th>\n",
              "      <td>405886</td>\n",
              "      <td>Apple</td>\n",
              "      <td>Cindy Phoner</td>\n",
              "      <td>Claude Shannon</td>\n",
              "      <td>Analytics</td>\n",
              "      <td>300</td>\n",
              "      <td>4550000</td>\n",
              "      <td>Won</td>\n",
              "    </tr>\n",
              "    <tr>\n",
              "      <th>10</th>\n",
              "      <td>470248</td>\n",
              "      <td>Exxon Mobile</td>\n",
              "      <td>Cindy Phoner</td>\n",
              "      <td>Claude Shannon</td>\n",
              "      <td>Analytics</td>\n",
              "      <td>150</td>\n",
              "      <td>2100000</td>\n",
              "      <td>Presented</td>\n",
              "    </tr>\n",
              "    <tr>\n",
              "      <th>11</th>\n",
              "      <td>698032</td>\n",
              "      <td>ATT</td>\n",
              "      <td>Cindy Phoner</td>\n",
              "      <td>Claude Shannon</td>\n",
              "      <td>Tracking</td>\n",
              "      <td>150</td>\n",
              "      <td>350000</td>\n",
              "      <td>Under Review</td>\n",
              "    </tr>\n",
              "    <tr>\n",
              "      <th>12</th>\n",
              "      <td>698032</td>\n",
              "      <td>ATT</td>\n",
              "      <td>Cindy Phoner</td>\n",
              "      <td>Claude Shannon</td>\n",
              "      <td>Prediction</td>\n",
              "      <td>150</td>\n",
              "      <td>700000</td>\n",
              "      <td>Presented</td>\n",
              "    </tr>\n",
              "    <tr>\n",
              "      <th>13</th>\n",
              "      <td>902797</td>\n",
              "      <td>CVS Health</td>\n",
              "      <td>Emma Gordian</td>\n",
              "      <td>Claude Shannon</td>\n",
              "      <td>Tracking</td>\n",
              "      <td>450</td>\n",
              "      <td>490000</td>\n",
              "      <td>Won</td>\n",
              "    </tr>\n",
              "    <tr>\n",
              "      <th>14</th>\n",
              "      <td>2046943</td>\n",
              "      <td>Salesforce</td>\n",
              "      <td>Emma Gordian</td>\n",
              "      <td>Claude Shannon</td>\n",
              "      <td>Analytics</td>\n",
              "      <td>750</td>\n",
              "      <td>7000000</td>\n",
              "      <td>Won</td>\n",
              "    </tr>\n",
              "    <tr>\n",
              "      <th>15</th>\n",
              "      <td>2169499</td>\n",
              "      <td>Cisco</td>\n",
              "      <td>Emma Gordian</td>\n",
              "      <td>Claude Shannon</td>\n",
              "      <td>Analytics</td>\n",
              "      <td>300</td>\n",
              "      <td>4550000</td>\n",
              "      <td>Lost</td>\n",
              "    </tr>\n",
              "    <tr>\n",
              "      <th>16</th>\n",
              "      <td>2169499</td>\n",
              "      <td>Cisco</td>\n",
              "      <td>Emma Gordian</td>\n",
              "      <td>Claude Shannon</td>\n",
              "      <td>GPS Positioning</td>\n",
              "      <td>300</td>\n",
              "      <td>350000</td>\n",
              "      <td>Presented</td>\n",
              "    </tr>\n",
              "  </tbody>\n",
              "</table>\n",
              "</div>\n",
              "      <button class=\"colab-df-convert\" onclick=\"convertToInteractive('df-1f05b204-8fc9-42de-a89a-d3faa897e3cd')\"\n",
              "              title=\"Convert this dataframe to an interactive table.\"\n",
              "              style=\"display:none;\">\n",
              "        \n",
              "  <svg xmlns=\"http://www.w3.org/2000/svg\" height=\"24px\"viewBox=\"0 0 24 24\"\n",
              "       width=\"24px\">\n",
              "    <path d=\"M0 0h24v24H0V0z\" fill=\"none\"/>\n",
              "    <path d=\"M18.56 5.44l.94 2.06.94-2.06 2.06-.94-2.06-.94-.94-2.06-.94 2.06-2.06.94zm-11 1L8.5 8.5l.94-2.06 2.06-.94-2.06-.94L8.5 2.5l-.94 2.06-2.06.94zm10 10l.94 2.06.94-2.06 2.06-.94-2.06-.94-.94-2.06-.94 2.06-2.06.94z\"/><path d=\"M17.41 7.96l-1.37-1.37c-.4-.4-.92-.59-1.43-.59-.52 0-1.04.2-1.43.59L10.3 9.45l-7.72 7.72c-.78.78-.78 2.05 0 2.83L4 21.41c.39.39.9.59 1.41.59.51 0 1.02-.2 1.41-.59l7.78-7.78 2.81-2.81c.8-.78.8-2.07 0-2.86zM5.41 20L4 18.59l7.72-7.72 1.47 1.35L5.41 20z\"/>\n",
              "  </svg>\n",
              "      </button>\n",
              "      \n",
              "  <style>\n",
              "    .colab-df-container {\n",
              "      display:flex;\n",
              "      flex-wrap:wrap;\n",
              "      gap: 12px;\n",
              "    }\n",
              "\n",
              "    .colab-df-convert {\n",
              "      background-color: #E8F0FE;\n",
              "      border: none;\n",
              "      border-radius: 50%;\n",
              "      cursor: pointer;\n",
              "      display: none;\n",
              "      fill: #1967D2;\n",
              "      height: 32px;\n",
              "      padding: 0 0 0 0;\n",
              "      width: 32px;\n",
              "    }\n",
              "\n",
              "    .colab-df-convert:hover {\n",
              "      background-color: #E2EBFA;\n",
              "      box-shadow: 0px 1px 2px rgba(60, 64, 67, 0.3), 0px 1px 3px 1px rgba(60, 64, 67, 0.15);\n",
              "      fill: #174EA6;\n",
              "    }\n",
              "\n",
              "    [theme=dark] .colab-df-convert {\n",
              "      background-color: #3B4455;\n",
              "      fill: #D2E3FC;\n",
              "    }\n",
              "\n",
              "    [theme=dark] .colab-df-convert:hover {\n",
              "      background-color: #434B5C;\n",
              "      box-shadow: 0px 1px 3px 1px rgba(0, 0, 0, 0.15);\n",
              "      filter: drop-shadow(0px 1px 2px rgba(0, 0, 0, 0.3));\n",
              "      fill: #FFFFFF;\n",
              "    }\n",
              "  </style>\n",
              "\n",
              "      <script>\n",
              "        const buttonEl =\n",
              "          document.querySelector('#df-1f05b204-8fc9-42de-a89a-d3faa897e3cd button.colab-df-convert');\n",
              "        buttonEl.style.display =\n",
              "          google.colab.kernel.accessAllowed ? 'block' : 'none';\n",
              "\n",
              "        async function convertToInteractive(key) {\n",
              "          const element = document.querySelector('#df-1f05b204-8fc9-42de-a89a-d3faa897e3cd');\n",
              "          const dataTable =\n",
              "            await google.colab.kernel.invokeFunction('convertToInteractive',\n",
              "                                                     [key], {});\n",
              "          if (!dataTable) return;\n",
              "\n",
              "          const docLinkHtml = 'Like what you see? Visit the ' +\n",
              "            '<a target=\"_blank\" href=https://colab.research.google.com/notebooks/data_table.ipynb>data table notebook</a>'\n",
              "            + ' to learn more about interactive tables.';\n",
              "          element.innerHTML = '';\n",
              "          dataTable['output_type'] = 'display_data';\n",
              "          await google.colab.output.renderOutput(dataTable, element);\n",
              "          const docLink = document.createElement('div');\n",
              "          docLink.innerHTML = docLinkHtml;\n",
              "          element.appendChild(docLink);\n",
              "        }\n",
              "      </script>\n",
              "    </div>\n",
              "  </div>\n",
              "  "
            ],
            "text/plain": [
              "    Account Number       Company  ... Sale Price        Status\n",
              "0          2123398        Google  ...    2100000     Presented\n",
              "1          2123398        Google  ...     700000     Presented\n",
              "2          2123398        Google  ...     350000  Under Review\n",
              "3          2192650          BOBO  ...    2450000          Lost\n",
              "4           420496          IKEA  ...    4550000           Won\n",
              "5           636685    Tesla Inc.  ...    2800000  Under Review\n",
              "6           636685    Tesla Inc.  ...     700000     Presented\n",
              "7          1216870     Microsoft  ...     350000  Under Review\n",
              "8          2200450       Walmart  ...    2450000          Lost\n",
              "9           405886         Apple  ...    4550000           Won\n",
              "10          470248  Exxon Mobile  ...    2100000     Presented\n",
              "11          698032           ATT  ...     350000  Under Review\n",
              "12          698032           ATT  ...     700000     Presented\n",
              "13          902797    CVS Health  ...     490000           Won\n",
              "14         2046943    Salesforce  ...    7000000           Won\n",
              "15         2169499         Cisco  ...    4550000          Lost\n",
              "16         2169499         Cisco  ...     350000     Presented\n",
              "\n",
              "[17 rows x 8 columns]"
            ]
          },
          "metadata": {},
          "execution_count": 73
        }
      ]
    },
    {
      "cell_type": "code",
      "source": [
        "help(pd.pivotm)"
      ],
      "metadata": {
        "colab": {
          "base_uri": "https://localhost:8080/"
        },
        "id": "UCFgUgcmC0xD",
        "outputId": "9aa1edfe-bbfb-4fca-818b-3e342d264fc7"
      },
      "execution_count": null,
      "outputs": [
        {
          "output_type": "stream",
          "name": "stdout",
          "text": [
            "Help on function pivot in module pandas.core.reshape.pivot:\n",
            "\n",
            "pivot(data: 'DataFrame', index: 'IndexLabel | None' = None, columns: 'IndexLabel | None' = None, values: 'IndexLabel | None' = None) -> 'DataFrame'\n",
            "    Return reshaped DataFrame organized by given index / column values.\n",
            "    \n",
            "    Reshape data (produce a \"pivot\" table) based on column values. Uses\n",
            "    unique values from specified `index` / `columns` to form axes of the\n",
            "    resulting DataFrame. This function does not support data\n",
            "    aggregation, multiple values will result in a MultiIndex in the\n",
            "    columns. See the :ref:`User Guide <reshaping>` for more on reshaping.\n",
            "    \n",
            "    Parameters\n",
            "    ----------\n",
            "    data : DataFrame\n",
            "    index : str or object or a list of str, optional\n",
            "        Column to use to make new frame's index. If None, uses\n",
            "        existing index.\n",
            "    \n",
            "        .. versionchanged:: 1.1.0\n",
            "           Also accept list of index names.\n",
            "    \n",
            "    columns : str or object or a list of str\n",
            "        Column to use to make new frame's columns.\n",
            "    \n",
            "        .. versionchanged:: 1.1.0\n",
            "           Also accept list of columns names.\n",
            "    \n",
            "    values : str, object or a list of the previous, optional\n",
            "        Column(s) to use for populating new frame's values. If not\n",
            "        specified, all remaining columns will be used and the result will\n",
            "        have hierarchically indexed columns.\n",
            "    \n",
            "    Returns\n",
            "    -------\n",
            "    DataFrame\n",
            "        Returns reshaped DataFrame.\n",
            "    \n",
            "    Raises\n",
            "    ------\n",
            "    ValueError:\n",
            "        When there are any `index`, `columns` combinations with multiple\n",
            "        values. `DataFrame.pivot_table` when you need to aggregate.\n",
            "    \n",
            "    See Also\n",
            "    --------\n",
            "    DataFrame.pivot_table : Generalization of pivot that can handle\n",
            "        duplicate values for one index/column pair.\n",
            "    DataFrame.unstack : Pivot based on the index values instead of a\n",
            "        column.\n",
            "    wide_to_long : Wide panel to long format. Less flexible but more\n",
            "        user-friendly than melt.\n",
            "    \n",
            "    Notes\n",
            "    -----\n",
            "    For finer-tuned control, see hierarchical indexing documentation along\n",
            "    with the related stack/unstack methods.\n",
            "    \n",
            "    Examples\n",
            "    --------\n",
            "    >>> df = pd.DataFrame({'foo': ['one', 'one', 'one', 'two', 'two',\n",
            "    ...                            'two'],\n",
            "    ...                    'bar': ['A', 'B', 'C', 'A', 'B', 'C'],\n",
            "    ...                    'baz': [1, 2, 3, 4, 5, 6],\n",
            "    ...                    'zoo': ['x', 'y', 'z', 'q', 'w', 't']})\n",
            "    >>> df\n",
            "        foo   bar  baz  zoo\n",
            "    0   one   A    1    x\n",
            "    1   one   B    2    y\n",
            "    2   one   C    3    z\n",
            "    3   two   A    4    q\n",
            "    4   two   B    5    w\n",
            "    5   two   C    6    t\n",
            "    \n",
            "    >>> df.pivot(index='foo', columns='bar', values='baz')\n",
            "    bar  A   B   C\n",
            "    foo\n",
            "    one  1   2   3\n",
            "    two  4   5   6\n",
            "    \n",
            "    >>> df.pivot(index='foo', columns='bar')['baz']\n",
            "    bar  A   B   C\n",
            "    foo\n",
            "    one  1   2   3\n",
            "    two  4   5   6\n",
            "    \n",
            "    >>> df.pivot(index='foo', columns='bar', values=['baz', 'zoo'])\n",
            "          baz       zoo\n",
            "    bar   A  B  C   A  B  C\n",
            "    foo\n",
            "    one   1  2  3   x  y  z\n",
            "    two   4  5  6   q  w  t\n",
            "    \n",
            "    You could also assign a list of column names or a list of index names.\n",
            "    \n",
            "    >>> df = pd.DataFrame({\n",
            "    ...        \"lev1\": [1, 1, 1, 2, 2, 2],\n",
            "    ...        \"lev2\": [1, 1, 2, 1, 1, 2],\n",
            "    ...        \"lev3\": [1, 2, 1, 2, 1, 2],\n",
            "    ...        \"lev4\": [1, 2, 3, 4, 5, 6],\n",
            "    ...        \"values\": [0, 1, 2, 3, 4, 5]})\n",
            "    >>> df\n",
            "        lev1 lev2 lev3 lev4 values\n",
            "    0   1    1    1    1    0\n",
            "    1   1    1    2    2    1\n",
            "    2   1    2    1    3    2\n",
            "    3   2    1    2    4    3\n",
            "    4   2    1    1    5    4\n",
            "    5   2    2    2    6    5\n",
            "    \n",
            "    >>> df.pivot(index=\"lev1\", columns=[\"lev2\", \"lev3\"],values=\"values\")\n",
            "    lev2    1         2\n",
            "    lev3    1    2    1    2\n",
            "    lev1\n",
            "    1     0.0  1.0  2.0  NaN\n",
            "    2     4.0  3.0  NaN  5.0\n",
            "    \n",
            "    >>> df.pivot(index=[\"lev1\", \"lev2\"], columns=[\"lev3\"],values=\"values\")\n",
            "          lev3    1    2\n",
            "    lev1  lev2\n",
            "       1     1  0.0  1.0\n",
            "             2  2.0  NaN\n",
            "       2     1  4.0  3.0\n",
            "             2  NaN  5.0\n",
            "    \n",
            "    A ValueError is raised if there are any duplicates.\n",
            "    \n",
            "    >>> df = pd.DataFrame({\"foo\": ['one', 'one', 'two', 'two'],\n",
            "    ...                    \"bar\": ['A', 'A', 'B', 'C'],\n",
            "    ...                    \"baz\": [1, 2, 3, 4]})\n",
            "    >>> df\n",
            "       foo bar  baz\n",
            "    0  one   A    1\n",
            "    1  one   A    2\n",
            "    2  two   B    3\n",
            "    3  two   C    4\n",
            "    \n",
            "    Notice that the first two rows are the same for our `index`\n",
            "    and `columns` arguments.\n",
            "    \n",
            "    >>> df.pivot(index='foo', columns='bar', values='baz')\n",
            "    Traceback (most recent call last):\n",
            "       ...\n",
            "    ValueError: Index contains duplicate entries, cannot reshape\n",
            "\n"
          ]
        }
      ]
    },
    {
      "cell_type": "code",
      "source": [
        "f"
      ],
      "metadata": {
        "colab": {
          "base_uri": "https://localhost:8080/",
          "height": 938
        },
        "id": "McJXrzK_DOAQ",
        "outputId": "577a6d18-3774-4c35-92ae-c8663de2d857"
      },
      "execution_count": null,
      "outputs": [
        {
          "output_type": "execute_result",
          "data": {
            "text/html": [
              "\n",
              "  <div id=\"df-c777d1b3-4919-4438-bb6a-68b3b3a86edf\">\n",
              "    <div class=\"colab-df-container\">\n",
              "      <div>\n",
              "<style scoped>\n",
              "    .dataframe tbody tr th:only-of-type {\n",
              "        vertical-align: middle;\n",
              "    }\n",
              "\n",
              "    .dataframe tbody tr th {\n",
              "        vertical-align: top;\n",
              "    }\n",
              "\n",
              "    .dataframe thead th {\n",
              "        text-align: right;\n",
              "    }\n",
              "</style>\n",
              "<table border=\"1\" class=\"dataframe\">\n",
              "  <thead>\n",
              "    <tr style=\"text-align: right;\">\n",
              "      <th></th>\n",
              "      <th>Account Number</th>\n",
              "      <th>Company</th>\n",
              "      <th>Contact</th>\n",
              "      <th>Account Manager</th>\n",
              "      <th>Product</th>\n",
              "      <th>Licenses</th>\n",
              "      <th>Sale Price</th>\n",
              "      <th>Status</th>\n",
              "    </tr>\n",
              "  </thead>\n",
              "  <tbody>\n",
              "    <tr>\n",
              "      <th>0</th>\n",
              "      <td>2123398</td>\n",
              "      <td>Google</td>\n",
              "      <td>Larry Pager</td>\n",
              "      <td>Edward Thorp</td>\n",
              "      <td>Analytics</td>\n",
              "      <td>150</td>\n",
              "      <td>2100000</td>\n",
              "      <td>Presented</td>\n",
              "    </tr>\n",
              "    <tr>\n",
              "      <th>1</th>\n",
              "      <td>2123398</td>\n",
              "      <td>Google</td>\n",
              "      <td>Larry Pager</td>\n",
              "      <td>Edward Thorp</td>\n",
              "      <td>Prediction</td>\n",
              "      <td>150</td>\n",
              "      <td>700000</td>\n",
              "      <td>Presented</td>\n",
              "    </tr>\n",
              "    <tr>\n",
              "      <th>2</th>\n",
              "      <td>2123398</td>\n",
              "      <td>Google</td>\n",
              "      <td>Larry Pager</td>\n",
              "      <td>Edward Thorp</td>\n",
              "      <td>Tracking</td>\n",
              "      <td>300</td>\n",
              "      <td>350000</td>\n",
              "      <td>Under Review</td>\n",
              "    </tr>\n",
              "    <tr>\n",
              "      <th>3</th>\n",
              "      <td>2192650</td>\n",
              "      <td>BOBO</td>\n",
              "      <td>Larry Pager</td>\n",
              "      <td>Edward Thorp</td>\n",
              "      <td>Analytics</td>\n",
              "      <td>150</td>\n",
              "      <td>2450000</td>\n",
              "      <td>Lost</td>\n",
              "    </tr>\n",
              "    <tr>\n",
              "      <th>4</th>\n",
              "      <td>420496</td>\n",
              "      <td>IKEA</td>\n",
              "      <td>Elon Tusk</td>\n",
              "      <td>Edward Thorp</td>\n",
              "      <td>Analytics</td>\n",
              "      <td>300</td>\n",
              "      <td>4550000</td>\n",
              "      <td>Won</td>\n",
              "    </tr>\n",
              "    <tr>\n",
              "      <th>5</th>\n",
              "      <td>636685</td>\n",
              "      <td>Tesla Inc.</td>\n",
              "      <td>Elon Tusk</td>\n",
              "      <td>Edward Thorp</td>\n",
              "      <td>Analytics</td>\n",
              "      <td>300</td>\n",
              "      <td>2800000</td>\n",
              "      <td>Under Review</td>\n",
              "    </tr>\n",
              "    <tr>\n",
              "      <th>6</th>\n",
              "      <td>636685</td>\n",
              "      <td>Tesla Inc.</td>\n",
              "      <td>Elon Tusk</td>\n",
              "      <td>Edward Thorp</td>\n",
              "      <td>Prediction</td>\n",
              "      <td>150</td>\n",
              "      <td>700000</td>\n",
              "      <td>Presented</td>\n",
              "    </tr>\n",
              "    <tr>\n",
              "      <th>7</th>\n",
              "      <td>1216870</td>\n",
              "      <td>Microsoft</td>\n",
              "      <td>Will Grates</td>\n",
              "      <td>Edward Thorp</td>\n",
              "      <td>Tracking</td>\n",
              "      <td>300</td>\n",
              "      <td>350000</td>\n",
              "      <td>Under Review</td>\n",
              "    </tr>\n",
              "    <tr>\n",
              "      <th>8</th>\n",
              "      <td>2200450</td>\n",
              "      <td>Walmart</td>\n",
              "      <td>Will Grates</td>\n",
              "      <td>Edward Thorp</td>\n",
              "      <td>Analytics</td>\n",
              "      <td>150</td>\n",
              "      <td>2450000</td>\n",
              "      <td>Lost</td>\n",
              "    </tr>\n",
              "    <tr>\n",
              "      <th>9</th>\n",
              "      <td>405886</td>\n",
              "      <td>Apple</td>\n",
              "      <td>Cindy Phoner</td>\n",
              "      <td>Claude Shannon</td>\n",
              "      <td>Analytics</td>\n",
              "      <td>300</td>\n",
              "      <td>4550000</td>\n",
              "      <td>Won</td>\n",
              "    </tr>\n",
              "    <tr>\n",
              "      <th>10</th>\n",
              "      <td>470248</td>\n",
              "      <td>Exxon Mobile</td>\n",
              "      <td>Cindy Phoner</td>\n",
              "      <td>Claude Shannon</td>\n",
              "      <td>Analytics</td>\n",
              "      <td>150</td>\n",
              "      <td>2100000</td>\n",
              "      <td>Presented</td>\n",
              "    </tr>\n",
              "    <tr>\n",
              "      <th>11</th>\n",
              "      <td>698032</td>\n",
              "      <td>ATT</td>\n",
              "      <td>Cindy Phoner</td>\n",
              "      <td>Claude Shannon</td>\n",
              "      <td>Tracking</td>\n",
              "      <td>150</td>\n",
              "      <td>350000</td>\n",
              "      <td>Under Review</td>\n",
              "    </tr>\n",
              "    <tr>\n",
              "      <th>12</th>\n",
              "      <td>698032</td>\n",
              "      <td>ATT</td>\n",
              "      <td>Cindy Phoner</td>\n",
              "      <td>Claude Shannon</td>\n",
              "      <td>Prediction</td>\n",
              "      <td>150</td>\n",
              "      <td>700000</td>\n",
              "      <td>Presented</td>\n",
              "    </tr>\n",
              "    <tr>\n",
              "      <th>13</th>\n",
              "      <td>902797</td>\n",
              "      <td>CVS Health</td>\n",
              "      <td>Emma Gordian</td>\n",
              "      <td>Claude Shannon</td>\n",
              "      <td>Tracking</td>\n",
              "      <td>450</td>\n",
              "      <td>490000</td>\n",
              "      <td>Won</td>\n",
              "    </tr>\n",
              "    <tr>\n",
              "      <th>14</th>\n",
              "      <td>2046943</td>\n",
              "      <td>Salesforce</td>\n",
              "      <td>Emma Gordian</td>\n",
              "      <td>Claude Shannon</td>\n",
              "      <td>Analytics</td>\n",
              "      <td>750</td>\n",
              "      <td>7000000</td>\n",
              "      <td>Won</td>\n",
              "    </tr>\n",
              "    <tr>\n",
              "      <th>15</th>\n",
              "      <td>2169499</td>\n",
              "      <td>Cisco</td>\n",
              "      <td>Emma Gordian</td>\n",
              "      <td>Claude Shannon</td>\n",
              "      <td>Analytics</td>\n",
              "      <td>300</td>\n",
              "      <td>4550000</td>\n",
              "      <td>Lost</td>\n",
              "    </tr>\n",
              "    <tr>\n",
              "      <th>16</th>\n",
              "      <td>2169499</td>\n",
              "      <td>Cisco</td>\n",
              "      <td>Emma Gordian</td>\n",
              "      <td>Claude Shannon</td>\n",
              "      <td>GPS Positioning</td>\n",
              "      <td>300</td>\n",
              "      <td>350000</td>\n",
              "      <td>Presented</td>\n",
              "    </tr>\n",
              "  </tbody>\n",
              "</table>\n",
              "</div>\n",
              "      <button class=\"colab-df-convert\" onclick=\"convertToInteractive('df-c777d1b3-4919-4438-bb6a-68b3b3a86edf')\"\n",
              "              title=\"Convert this dataframe to an interactive table.\"\n",
              "              style=\"display:none;\">\n",
              "        \n",
              "  <svg xmlns=\"http://www.w3.org/2000/svg\" height=\"24px\"viewBox=\"0 0 24 24\"\n",
              "       width=\"24px\">\n",
              "    <path d=\"M0 0h24v24H0V0z\" fill=\"none\"/>\n",
              "    <path d=\"M18.56 5.44l.94 2.06.94-2.06 2.06-.94-2.06-.94-.94-2.06-.94 2.06-2.06.94zm-11 1L8.5 8.5l.94-2.06 2.06-.94-2.06-.94L8.5 2.5l-.94 2.06-2.06.94zm10 10l.94 2.06.94-2.06 2.06-.94-2.06-.94-.94-2.06-.94 2.06-2.06.94z\"/><path d=\"M17.41 7.96l-1.37-1.37c-.4-.4-.92-.59-1.43-.59-.52 0-1.04.2-1.43.59L10.3 9.45l-7.72 7.72c-.78.78-.78 2.05 0 2.83L4 21.41c.39.39.9.59 1.41.59.51 0 1.02-.2 1.41-.59l7.78-7.78 2.81-2.81c.8-.78.8-2.07 0-2.86zM5.41 20L4 18.59l7.72-7.72 1.47 1.35L5.41 20z\"/>\n",
              "  </svg>\n",
              "      </button>\n",
              "      \n",
              "  <style>\n",
              "    .colab-df-container {\n",
              "      display:flex;\n",
              "      flex-wrap:wrap;\n",
              "      gap: 12px;\n",
              "    }\n",
              "\n",
              "    .colab-df-convert {\n",
              "      background-color: #E8F0FE;\n",
              "      border: none;\n",
              "      border-radius: 50%;\n",
              "      cursor: pointer;\n",
              "      display: none;\n",
              "      fill: #1967D2;\n",
              "      height: 32px;\n",
              "      padding: 0 0 0 0;\n",
              "      width: 32px;\n",
              "    }\n",
              "\n",
              "    .colab-df-convert:hover {\n",
              "      background-color: #E2EBFA;\n",
              "      box-shadow: 0px 1px 2px rgba(60, 64, 67, 0.3), 0px 1px 3px 1px rgba(60, 64, 67, 0.15);\n",
              "      fill: #174EA6;\n",
              "    }\n",
              "\n",
              "    [theme=dark] .colab-df-convert {\n",
              "      background-color: #3B4455;\n",
              "      fill: #D2E3FC;\n",
              "    }\n",
              "\n",
              "    [theme=dark] .colab-df-convert:hover {\n",
              "      background-color: #434B5C;\n",
              "      box-shadow: 0px 1px 3px 1px rgba(0, 0, 0, 0.15);\n",
              "      filter: drop-shadow(0px 1px 2px rgba(0, 0, 0, 0.3));\n",
              "      fill: #FFFFFF;\n",
              "    }\n",
              "  </style>\n",
              "\n",
              "      <script>\n",
              "        const buttonEl =\n",
              "          document.querySelector('#df-c777d1b3-4919-4438-bb6a-68b3b3a86edf button.colab-df-convert');\n",
              "        buttonEl.style.display =\n",
              "          google.colab.kernel.accessAllowed ? 'block' : 'none';\n",
              "\n",
              "        async function convertToInteractive(key) {\n",
              "          const element = document.querySelector('#df-c777d1b3-4919-4438-bb6a-68b3b3a86edf');\n",
              "          const dataTable =\n",
              "            await google.colab.kernel.invokeFunction('convertToInteractive',\n",
              "                                                     [key], {});\n",
              "          if (!dataTable) return;\n",
              "\n",
              "          const docLinkHtml = 'Like what you see? Visit the ' +\n",
              "            '<a target=\"_blank\" href=https://colab.research.google.com/notebooks/data_table.ipynb>data table notebook</a>'\n",
              "            + ' to learn more about interactive tables.';\n",
              "          element.innerHTML = '';\n",
              "          dataTable['output_type'] = 'display_data';\n",
              "          await google.colab.output.renderOutput(dataTable, element);\n",
              "          const docLink = document.createElement('div');\n",
              "          docLink.innerHTML = docLinkHtml;\n",
              "          element.appendChild(docLink);\n",
              "        }\n",
              "      </script>\n",
              "    </div>\n",
              "  </div>\n",
              "  "
            ],
            "text/plain": [
              "    Account Number       Company  ... Sale Price        Status\n",
              "0          2123398        Google  ...    2100000     Presented\n",
              "1          2123398        Google  ...     700000     Presented\n",
              "2          2123398        Google  ...     350000  Under Review\n",
              "3          2192650          BOBO  ...    2450000          Lost\n",
              "4           420496          IKEA  ...    4550000           Won\n",
              "5           636685    Tesla Inc.  ...    2800000  Under Review\n",
              "6           636685    Tesla Inc.  ...     700000     Presented\n",
              "7          1216870     Microsoft  ...     350000  Under Review\n",
              "8          2200450       Walmart  ...    2450000          Lost\n",
              "9           405886         Apple  ...    4550000           Won\n",
              "10          470248  Exxon Mobile  ...    2100000     Presented\n",
              "11          698032           ATT  ...     350000  Under Review\n",
              "12          698032           ATT  ...     700000     Presented\n",
              "13          902797    CVS Health  ...     490000           Won\n",
              "14         2046943    Salesforce  ...    7000000           Won\n",
              "15         2169499         Cisco  ...    4550000          Lost\n",
              "16         2169499         Cisco  ...     350000     Presented\n",
              "\n",
              "[17 rows x 8 columns]"
            ]
          },
          "metadata": {},
          "execution_count": 75
        }
      ]
    },
    {
      "cell_type": "code",
      "source": [
        "lisence = f[['Company','Product','Licenses']]"
      ],
      "metadata": {
        "id": "0NwH0UaFGbgs"
      },
      "execution_count": null,
      "outputs": []
    },
    {
      "cell_type": "code",
      "source": [
        "pd.pivot(lisence,index = 'Company',columns = 'Product', values='Licenses')"
      ],
      "metadata": {
        "colab": {
          "base_uri": "https://localhost:8080/",
          "height": 457
        },
        "id": "4gPgGz0CGrlh",
        "outputId": "716d8020-e9e5-4d18-94bb-99d024af52d7"
      },
      "execution_count": null,
      "outputs": [
        {
          "output_type": "execute_result",
          "data": {
            "text/html": [
              "\n",
              "  <div id=\"df-5f1221f7-8115-40b6-be0c-7cfca2ba0409\">\n",
              "    <div class=\"colab-df-container\">\n",
              "      <div>\n",
              "<style scoped>\n",
              "    .dataframe tbody tr th:only-of-type {\n",
              "        vertical-align: middle;\n",
              "    }\n",
              "\n",
              "    .dataframe tbody tr th {\n",
              "        vertical-align: top;\n",
              "    }\n",
              "\n",
              "    .dataframe thead th {\n",
              "        text-align: right;\n",
              "    }\n",
              "</style>\n",
              "<table border=\"1\" class=\"dataframe\">\n",
              "  <thead>\n",
              "    <tr style=\"text-align: right;\">\n",
              "      <th>Product</th>\n",
              "      <th>Analytics</th>\n",
              "      <th>GPS Positioning</th>\n",
              "      <th>Prediction</th>\n",
              "      <th>Tracking</th>\n",
              "    </tr>\n",
              "    <tr>\n",
              "      <th>Company</th>\n",
              "      <th></th>\n",
              "      <th></th>\n",
              "      <th></th>\n",
              "      <th></th>\n",
              "    </tr>\n",
              "  </thead>\n",
              "  <tbody>\n",
              "    <tr>\n",
              "      <th>Google</th>\n",
              "      <td>150.0</td>\n",
              "      <td>NaN</td>\n",
              "      <td>150.0</td>\n",
              "      <td>300.0</td>\n",
              "    </tr>\n",
              "    <tr>\n",
              "      <th>ATT</th>\n",
              "      <td>NaN</td>\n",
              "      <td>NaN</td>\n",
              "      <td>150.0</td>\n",
              "      <td>150.0</td>\n",
              "    </tr>\n",
              "    <tr>\n",
              "      <th>Apple</th>\n",
              "      <td>300.0</td>\n",
              "      <td>NaN</td>\n",
              "      <td>NaN</td>\n",
              "      <td>NaN</td>\n",
              "    </tr>\n",
              "    <tr>\n",
              "      <th>BOBO</th>\n",
              "      <td>150.0</td>\n",
              "      <td>NaN</td>\n",
              "      <td>NaN</td>\n",
              "      <td>NaN</td>\n",
              "    </tr>\n",
              "    <tr>\n",
              "      <th>CVS Health</th>\n",
              "      <td>NaN</td>\n",
              "      <td>NaN</td>\n",
              "      <td>NaN</td>\n",
              "      <td>450.0</td>\n",
              "    </tr>\n",
              "    <tr>\n",
              "      <th>Cisco</th>\n",
              "      <td>300.0</td>\n",
              "      <td>300.0</td>\n",
              "      <td>NaN</td>\n",
              "      <td>NaN</td>\n",
              "    </tr>\n",
              "    <tr>\n",
              "      <th>Exxon Mobile</th>\n",
              "      <td>150.0</td>\n",
              "      <td>NaN</td>\n",
              "      <td>NaN</td>\n",
              "      <td>NaN</td>\n",
              "    </tr>\n",
              "    <tr>\n",
              "      <th>IKEA</th>\n",
              "      <td>300.0</td>\n",
              "      <td>NaN</td>\n",
              "      <td>NaN</td>\n",
              "      <td>NaN</td>\n",
              "    </tr>\n",
              "    <tr>\n",
              "      <th>Microsoft</th>\n",
              "      <td>NaN</td>\n",
              "      <td>NaN</td>\n",
              "      <td>NaN</td>\n",
              "      <td>300.0</td>\n",
              "    </tr>\n",
              "    <tr>\n",
              "      <th>Salesforce</th>\n",
              "      <td>750.0</td>\n",
              "      <td>NaN</td>\n",
              "      <td>NaN</td>\n",
              "      <td>NaN</td>\n",
              "    </tr>\n",
              "    <tr>\n",
              "      <th>Tesla Inc.</th>\n",
              "      <td>300.0</td>\n",
              "      <td>NaN</td>\n",
              "      <td>150.0</td>\n",
              "      <td>NaN</td>\n",
              "    </tr>\n",
              "    <tr>\n",
              "      <th>Walmart</th>\n",
              "      <td>150.0</td>\n",
              "      <td>NaN</td>\n",
              "      <td>NaN</td>\n",
              "      <td>NaN</td>\n",
              "    </tr>\n",
              "  </tbody>\n",
              "</table>\n",
              "</div>\n",
              "      <button class=\"colab-df-convert\" onclick=\"convertToInteractive('df-5f1221f7-8115-40b6-be0c-7cfca2ba0409')\"\n",
              "              title=\"Convert this dataframe to an interactive table.\"\n",
              "              style=\"display:none;\">\n",
              "        \n",
              "  <svg xmlns=\"http://www.w3.org/2000/svg\" height=\"24px\"viewBox=\"0 0 24 24\"\n",
              "       width=\"24px\">\n",
              "    <path d=\"M0 0h24v24H0V0z\" fill=\"none\"/>\n",
              "    <path d=\"M18.56 5.44l.94 2.06.94-2.06 2.06-.94-2.06-.94-.94-2.06-.94 2.06-2.06.94zm-11 1L8.5 8.5l.94-2.06 2.06-.94-2.06-.94L8.5 2.5l-.94 2.06-2.06.94zm10 10l.94 2.06.94-2.06 2.06-.94-2.06-.94-.94-2.06-.94 2.06-2.06.94z\"/><path d=\"M17.41 7.96l-1.37-1.37c-.4-.4-.92-.59-1.43-.59-.52 0-1.04.2-1.43.59L10.3 9.45l-7.72 7.72c-.78.78-.78 2.05 0 2.83L4 21.41c.39.39.9.59 1.41.59.51 0 1.02-.2 1.41-.59l7.78-7.78 2.81-2.81c.8-.78.8-2.07 0-2.86zM5.41 20L4 18.59l7.72-7.72 1.47 1.35L5.41 20z\"/>\n",
              "  </svg>\n",
              "      </button>\n",
              "      \n",
              "  <style>\n",
              "    .colab-df-container {\n",
              "      display:flex;\n",
              "      flex-wrap:wrap;\n",
              "      gap: 12px;\n",
              "    }\n",
              "\n",
              "    .colab-df-convert {\n",
              "      background-color: #E8F0FE;\n",
              "      border: none;\n",
              "      border-radius: 50%;\n",
              "      cursor: pointer;\n",
              "      display: none;\n",
              "      fill: #1967D2;\n",
              "      height: 32px;\n",
              "      padding: 0 0 0 0;\n",
              "      width: 32px;\n",
              "    }\n",
              "\n",
              "    .colab-df-convert:hover {\n",
              "      background-color: #E2EBFA;\n",
              "      box-shadow: 0px 1px 2px rgba(60, 64, 67, 0.3), 0px 1px 3px 1px rgba(60, 64, 67, 0.15);\n",
              "      fill: #174EA6;\n",
              "    }\n",
              "\n",
              "    [theme=dark] .colab-df-convert {\n",
              "      background-color: #3B4455;\n",
              "      fill: #D2E3FC;\n",
              "    }\n",
              "\n",
              "    [theme=dark] .colab-df-convert:hover {\n",
              "      background-color: #434B5C;\n",
              "      box-shadow: 0px 1px 3px 1px rgba(0, 0, 0, 0.15);\n",
              "      filter: drop-shadow(0px 1px 2px rgba(0, 0, 0, 0.3));\n",
              "      fill: #FFFFFF;\n",
              "    }\n",
              "  </style>\n",
              "\n",
              "      <script>\n",
              "        const buttonEl =\n",
              "          document.querySelector('#df-5f1221f7-8115-40b6-be0c-7cfca2ba0409 button.colab-df-convert');\n",
              "        buttonEl.style.display =\n",
              "          google.colab.kernel.accessAllowed ? 'block' : 'none';\n",
              "\n",
              "        async function convertToInteractive(key) {\n",
              "          const element = document.querySelector('#df-5f1221f7-8115-40b6-be0c-7cfca2ba0409');\n",
              "          const dataTable =\n",
              "            await google.colab.kernel.invokeFunction('convertToInteractive',\n",
              "                                                     [key], {});\n",
              "          if (!dataTable) return;\n",
              "\n",
              "          const docLinkHtml = 'Like what you see? Visit the ' +\n",
              "            '<a target=\"_blank\" href=https://colab.research.google.com/notebooks/data_table.ipynb>data table notebook</a>'\n",
              "            + ' to learn more about interactive tables.';\n",
              "          element.innerHTML = '';\n",
              "          dataTable['output_type'] = 'display_data';\n",
              "          await google.colab.output.renderOutput(dataTable, element);\n",
              "          const docLink = document.createElement('div');\n",
              "          docLink.innerHTML = docLinkHtml;\n",
              "          element.appendChild(docLink);\n",
              "        }\n",
              "      </script>\n",
              "    </div>\n",
              "  </div>\n",
              "  "
            ],
            "text/plain": [
              "Product       Analytics  GPS Positioning  Prediction  Tracking\n",
              "Company                                                       \n",
              " Google           150.0              NaN       150.0     300.0\n",
              "ATT                 NaN              NaN       150.0     150.0\n",
              "Apple             300.0              NaN         NaN       NaN\n",
              "BOBO              150.0              NaN         NaN       NaN\n",
              "CVS Health          NaN              NaN         NaN     450.0\n",
              "Cisco             300.0            300.0         NaN       NaN\n",
              "Exxon Mobile      150.0              NaN         NaN       NaN\n",
              "IKEA              300.0              NaN         NaN       NaN\n",
              "Microsoft           NaN              NaN         NaN     300.0\n",
              "Salesforce        750.0              NaN         NaN       NaN\n",
              "Tesla Inc.        300.0              NaN       150.0       NaN\n",
              "Walmart           150.0              NaN         NaN       NaN"
            ]
          },
          "metadata": {},
          "execution_count": 85
        }
      ]
    },
    {
      "cell_type": "code",
      "source": [
        "f.groupby('Company').sum()[['Licenses','Sale Price']]"
      ],
      "metadata": {
        "colab": {
          "base_uri": "https://localhost:8080/",
          "height": 457
        },
        "id": "PshPglSAIfZz",
        "outputId": "e02d55ba-2022-45bc-b743-c859240bfffe"
      },
      "execution_count": null,
      "outputs": [
        {
          "output_type": "execute_result",
          "data": {
            "text/html": [
              "\n",
              "  <div id=\"df-ab424d9d-20c4-49eb-beea-f051e5d00c5a\">\n",
              "    <div class=\"colab-df-container\">\n",
              "      <div>\n",
              "<style scoped>\n",
              "    .dataframe tbody tr th:only-of-type {\n",
              "        vertical-align: middle;\n",
              "    }\n",
              "\n",
              "    .dataframe tbody tr th {\n",
              "        vertical-align: top;\n",
              "    }\n",
              "\n",
              "    .dataframe thead th {\n",
              "        text-align: right;\n",
              "    }\n",
              "</style>\n",
              "<table border=\"1\" class=\"dataframe\">\n",
              "  <thead>\n",
              "    <tr style=\"text-align: right;\">\n",
              "      <th></th>\n",
              "      <th>Licenses</th>\n",
              "      <th>Sale Price</th>\n",
              "    </tr>\n",
              "    <tr>\n",
              "      <th>Company</th>\n",
              "      <th></th>\n",
              "      <th></th>\n",
              "    </tr>\n",
              "  </thead>\n",
              "  <tbody>\n",
              "    <tr>\n",
              "      <th>Google</th>\n",
              "      <td>600</td>\n",
              "      <td>3150000</td>\n",
              "    </tr>\n",
              "    <tr>\n",
              "      <th>ATT</th>\n",
              "      <td>300</td>\n",
              "      <td>1050000</td>\n",
              "    </tr>\n",
              "    <tr>\n",
              "      <th>Apple</th>\n",
              "      <td>300</td>\n",
              "      <td>4550000</td>\n",
              "    </tr>\n",
              "    <tr>\n",
              "      <th>BOBO</th>\n",
              "      <td>150</td>\n",
              "      <td>2450000</td>\n",
              "    </tr>\n",
              "    <tr>\n",
              "      <th>CVS Health</th>\n",
              "      <td>450</td>\n",
              "      <td>490000</td>\n",
              "    </tr>\n",
              "    <tr>\n",
              "      <th>Cisco</th>\n",
              "      <td>600</td>\n",
              "      <td>4900000</td>\n",
              "    </tr>\n",
              "    <tr>\n",
              "      <th>Exxon Mobile</th>\n",
              "      <td>150</td>\n",
              "      <td>2100000</td>\n",
              "    </tr>\n",
              "    <tr>\n",
              "      <th>IKEA</th>\n",
              "      <td>300</td>\n",
              "      <td>4550000</td>\n",
              "    </tr>\n",
              "    <tr>\n",
              "      <th>Microsoft</th>\n",
              "      <td>300</td>\n",
              "      <td>350000</td>\n",
              "    </tr>\n",
              "    <tr>\n",
              "      <th>Salesforce</th>\n",
              "      <td>750</td>\n",
              "      <td>7000000</td>\n",
              "    </tr>\n",
              "    <tr>\n",
              "      <th>Tesla Inc.</th>\n",
              "      <td>450</td>\n",
              "      <td>3500000</td>\n",
              "    </tr>\n",
              "    <tr>\n",
              "      <th>Walmart</th>\n",
              "      <td>150</td>\n",
              "      <td>2450000</td>\n",
              "    </tr>\n",
              "  </tbody>\n",
              "</table>\n",
              "</div>\n",
              "      <button class=\"colab-df-convert\" onclick=\"convertToInteractive('df-ab424d9d-20c4-49eb-beea-f051e5d00c5a')\"\n",
              "              title=\"Convert this dataframe to an interactive table.\"\n",
              "              style=\"display:none;\">\n",
              "        \n",
              "  <svg xmlns=\"http://www.w3.org/2000/svg\" height=\"24px\"viewBox=\"0 0 24 24\"\n",
              "       width=\"24px\">\n",
              "    <path d=\"M0 0h24v24H0V0z\" fill=\"none\"/>\n",
              "    <path d=\"M18.56 5.44l.94 2.06.94-2.06 2.06-.94-2.06-.94-.94-2.06-.94 2.06-2.06.94zm-11 1L8.5 8.5l.94-2.06 2.06-.94-2.06-.94L8.5 2.5l-.94 2.06-2.06.94zm10 10l.94 2.06.94-2.06 2.06-.94-2.06-.94-.94-2.06-.94 2.06-2.06.94z\"/><path d=\"M17.41 7.96l-1.37-1.37c-.4-.4-.92-.59-1.43-.59-.52 0-1.04.2-1.43.59L10.3 9.45l-7.72 7.72c-.78.78-.78 2.05 0 2.83L4 21.41c.39.39.9.59 1.41.59.51 0 1.02-.2 1.41-.59l7.78-7.78 2.81-2.81c.8-.78.8-2.07 0-2.86zM5.41 20L4 18.59l7.72-7.72 1.47 1.35L5.41 20z\"/>\n",
              "  </svg>\n",
              "      </button>\n",
              "      \n",
              "  <style>\n",
              "    .colab-df-container {\n",
              "      display:flex;\n",
              "      flex-wrap:wrap;\n",
              "      gap: 12px;\n",
              "    }\n",
              "\n",
              "    .colab-df-convert {\n",
              "      background-color: #E8F0FE;\n",
              "      border: none;\n",
              "      border-radius: 50%;\n",
              "      cursor: pointer;\n",
              "      display: none;\n",
              "      fill: #1967D2;\n",
              "      height: 32px;\n",
              "      padding: 0 0 0 0;\n",
              "      width: 32px;\n",
              "    }\n",
              "\n",
              "    .colab-df-convert:hover {\n",
              "      background-color: #E2EBFA;\n",
              "      box-shadow: 0px 1px 2px rgba(60, 64, 67, 0.3), 0px 1px 3px 1px rgba(60, 64, 67, 0.15);\n",
              "      fill: #174EA6;\n",
              "    }\n",
              "\n",
              "    [theme=dark] .colab-df-convert {\n",
              "      background-color: #3B4455;\n",
              "      fill: #D2E3FC;\n",
              "    }\n",
              "\n",
              "    [theme=dark] .colab-df-convert:hover {\n",
              "      background-color: #434B5C;\n",
              "      box-shadow: 0px 1px 3px 1px rgba(0, 0, 0, 0.15);\n",
              "      filter: drop-shadow(0px 1px 2px rgba(0, 0, 0, 0.3));\n",
              "      fill: #FFFFFF;\n",
              "    }\n",
              "  </style>\n",
              "\n",
              "      <script>\n",
              "        const buttonEl =\n",
              "          document.querySelector('#df-ab424d9d-20c4-49eb-beea-f051e5d00c5a button.colab-df-convert');\n",
              "        buttonEl.style.display =\n",
              "          google.colab.kernel.accessAllowed ? 'block' : 'none';\n",
              "\n",
              "        async function convertToInteractive(key) {\n",
              "          const element = document.querySelector('#df-ab424d9d-20c4-49eb-beea-f051e5d00c5a');\n",
              "          const dataTable =\n",
              "            await google.colab.kernel.invokeFunction('convertToInteractive',\n",
              "                                                     [key], {});\n",
              "          if (!dataTable) return;\n",
              "\n",
              "          const docLinkHtml = 'Like what you see? Visit the ' +\n",
              "            '<a target=\"_blank\" href=https://colab.research.google.com/notebooks/data_table.ipynb>data table notebook</a>'\n",
              "            + ' to learn more about interactive tables.';\n",
              "          element.innerHTML = '';\n",
              "          dataTable['output_type'] = 'display_data';\n",
              "          await google.colab.output.renderOutput(dataTable, element);\n",
              "          const docLink = document.createElement('div');\n",
              "          docLink.innerHTML = docLinkHtml;\n",
              "          element.appendChild(docLink);\n",
              "        }\n",
              "      </script>\n",
              "    </div>\n",
              "  </div>\n",
              "  "
            ],
            "text/plain": [
              "              Licenses  Sale Price\n",
              "Company                           \n",
              " Google            600     3150000\n",
              "ATT                300     1050000\n",
              "Apple              300     4550000\n",
              "BOBO               150     2450000\n",
              "CVS Health         450      490000\n",
              "Cisco              600     4900000\n",
              "Exxon Mobile       150     2100000\n",
              "IKEA               300     4550000\n",
              "Microsoft          300      350000\n",
              "Salesforce         750     7000000\n",
              "Tesla Inc.         450     3500000\n",
              "Walmart            150     2450000"
            ]
          },
          "metadata": {},
          "execution_count": 90
        }
      ]
    },
    {
      "cell_type": "code",
      "source": [
        "pd.pivot_table(f,index=['Account Manager','Contact'],values=['Sale Price'],aggfunc='sum')"
      ],
      "metadata": {
        "colab": {
          "base_uri": "https://localhost:8080/",
          "height": 238
        },
        "id": "P_Sd7jmKIkDB",
        "outputId": "01cbf455-0e77-4973-be21-7294c0619ee4"
      },
      "execution_count": null,
      "outputs": [
        {
          "output_type": "execute_result",
          "data": {
            "text/html": [
              "\n",
              "  <div id=\"df-6ee683d3-9c4f-4fd5-82ca-3646b0264875\">\n",
              "    <div class=\"colab-df-container\">\n",
              "      <div>\n",
              "<style scoped>\n",
              "    .dataframe tbody tr th:only-of-type {\n",
              "        vertical-align: middle;\n",
              "    }\n",
              "\n",
              "    .dataframe tbody tr th {\n",
              "        vertical-align: top;\n",
              "    }\n",
              "\n",
              "    .dataframe thead th {\n",
              "        text-align: right;\n",
              "    }\n",
              "</style>\n",
              "<table border=\"1\" class=\"dataframe\">\n",
              "  <thead>\n",
              "    <tr style=\"text-align: right;\">\n",
              "      <th></th>\n",
              "      <th></th>\n",
              "      <th>Sale Price</th>\n",
              "    </tr>\n",
              "    <tr>\n",
              "      <th>Account Manager</th>\n",
              "      <th>Contact</th>\n",
              "      <th></th>\n",
              "    </tr>\n",
              "  </thead>\n",
              "  <tbody>\n",
              "    <tr>\n",
              "      <th rowspan=\"2\" valign=\"top\">Claude Shannon</th>\n",
              "      <th>Cindy Phoner</th>\n",
              "      <td>7700000</td>\n",
              "    </tr>\n",
              "    <tr>\n",
              "      <th>Emma Gordian</th>\n",
              "      <td>12390000</td>\n",
              "    </tr>\n",
              "    <tr>\n",
              "      <th rowspan=\"3\" valign=\"top\">Edward Thorp</th>\n",
              "      <th>Elon Tusk</th>\n",
              "      <td>8050000</td>\n",
              "    </tr>\n",
              "    <tr>\n",
              "      <th>Larry Pager</th>\n",
              "      <td>5600000</td>\n",
              "    </tr>\n",
              "    <tr>\n",
              "      <th>Will Grates</th>\n",
              "      <td>2800000</td>\n",
              "    </tr>\n",
              "  </tbody>\n",
              "</table>\n",
              "</div>\n",
              "      <button class=\"colab-df-convert\" onclick=\"convertToInteractive('df-6ee683d3-9c4f-4fd5-82ca-3646b0264875')\"\n",
              "              title=\"Convert this dataframe to an interactive table.\"\n",
              "              style=\"display:none;\">\n",
              "        \n",
              "  <svg xmlns=\"http://www.w3.org/2000/svg\" height=\"24px\"viewBox=\"0 0 24 24\"\n",
              "       width=\"24px\">\n",
              "    <path d=\"M0 0h24v24H0V0z\" fill=\"none\"/>\n",
              "    <path d=\"M18.56 5.44l.94 2.06.94-2.06 2.06-.94-2.06-.94-.94-2.06-.94 2.06-2.06.94zm-11 1L8.5 8.5l.94-2.06 2.06-.94-2.06-.94L8.5 2.5l-.94 2.06-2.06.94zm10 10l.94 2.06.94-2.06 2.06-.94-2.06-.94-.94-2.06-.94 2.06-2.06.94z\"/><path d=\"M17.41 7.96l-1.37-1.37c-.4-.4-.92-.59-1.43-.59-.52 0-1.04.2-1.43.59L10.3 9.45l-7.72 7.72c-.78.78-.78 2.05 0 2.83L4 21.41c.39.39.9.59 1.41.59.51 0 1.02-.2 1.41-.59l7.78-7.78 2.81-2.81c.8-.78.8-2.07 0-2.86zM5.41 20L4 18.59l7.72-7.72 1.47 1.35L5.41 20z\"/>\n",
              "  </svg>\n",
              "      </button>\n",
              "      \n",
              "  <style>\n",
              "    .colab-df-container {\n",
              "      display:flex;\n",
              "      flex-wrap:wrap;\n",
              "      gap: 12px;\n",
              "    }\n",
              "\n",
              "    .colab-df-convert {\n",
              "      background-color: #E8F0FE;\n",
              "      border: none;\n",
              "      border-radius: 50%;\n",
              "      cursor: pointer;\n",
              "      display: none;\n",
              "      fill: #1967D2;\n",
              "      height: 32px;\n",
              "      padding: 0 0 0 0;\n",
              "      width: 32px;\n",
              "    }\n",
              "\n",
              "    .colab-df-convert:hover {\n",
              "      background-color: #E2EBFA;\n",
              "      box-shadow: 0px 1px 2px rgba(60, 64, 67, 0.3), 0px 1px 3px 1px rgba(60, 64, 67, 0.15);\n",
              "      fill: #174EA6;\n",
              "    }\n",
              "\n",
              "    [theme=dark] .colab-df-convert {\n",
              "      background-color: #3B4455;\n",
              "      fill: #D2E3FC;\n",
              "    }\n",
              "\n",
              "    [theme=dark] .colab-df-convert:hover {\n",
              "      background-color: #434B5C;\n",
              "      box-shadow: 0px 1px 3px 1px rgba(0, 0, 0, 0.15);\n",
              "      filter: drop-shadow(0px 1px 2px rgba(0, 0, 0, 0.3));\n",
              "      fill: #FFFFFF;\n",
              "    }\n",
              "  </style>\n",
              "\n",
              "      <script>\n",
              "        const buttonEl =\n",
              "          document.querySelector('#df-6ee683d3-9c4f-4fd5-82ca-3646b0264875 button.colab-df-convert');\n",
              "        buttonEl.style.display =\n",
              "          google.colab.kernel.accessAllowed ? 'block' : 'none';\n",
              "\n",
              "        async function convertToInteractive(key) {\n",
              "          const element = document.querySelector('#df-6ee683d3-9c4f-4fd5-82ca-3646b0264875');\n",
              "          const dataTable =\n",
              "            await google.colab.kernel.invokeFunction('convertToInteractive',\n",
              "                                                     [key], {});\n",
              "          if (!dataTable) return;\n",
              "\n",
              "          const docLinkHtml = 'Like what you see? Visit the ' +\n",
              "            '<a target=\"_blank\" href=https://colab.research.google.com/notebooks/data_table.ipynb>data table notebook</a>'\n",
              "            + ' to learn more about interactive tables.';\n",
              "          element.innerHTML = '';\n",
              "          dataTable['output_type'] = 'display_data';\n",
              "          await google.colab.output.renderOutput(dataTable, element);\n",
              "          const docLink = document.createElement('div');\n",
              "          docLink.innerHTML = docLinkHtml;\n",
              "          element.appendChild(docLink);\n",
              "        }\n",
              "      </script>\n",
              "    </div>\n",
              "  </div>\n",
              "  "
            ],
            "text/plain": [
              "                              Sale Price\n",
              "Account Manager Contact                 \n",
              "Claude Shannon  Cindy Phoner     7700000\n",
              "                Emma Gordian    12390000\n",
              "Edward Thorp    Elon Tusk        8050000\n",
              "                Larry Pager      5600000\n",
              "                Will Grates      2800000"
            ]
          },
          "metadata": {},
          "execution_count": 91
        }
      ]
    },
    {
      "cell_type": "code",
      "source": [
        "from google.colab import files\n",
        "uploaded = files.upload()"
      ],
      "metadata": {
        "colab": {
          "resources": {
            "http://localhost:8080/nbextensions/google.colab/files.js": {
              "data": "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",
              "ok": true,
              "headers": [
                [
                  "content-type",
                  "application/javascript"
                ]
              ],
              "status": 200,
              "status_text": ""
            }
          },
          "base_uri": "https://localhost:8080/",
          "height": 39
        },
        "id": "IUYK1s8sKOv8",
        "outputId": "af31773a-7b20-45ee-cbcf-28ea96261378"
      },
      "execution_count": null,
      "outputs": [
        {
          "output_type": "display_data",
          "data": {
            "text/html": [
              "\n",
              "     <input type=\"file\" id=\"files-3fbab83f-7f09-4b7c-8505-dfab8d45333b\" name=\"files[]\" multiple disabled\n",
              "        style=\"border:none\" />\n",
              "     <output id=\"result-3fbab83f-7f09-4b7c-8505-dfab8d45333b\">\n",
              "      Upload widget is only available when the cell has been executed in the\n",
              "      current browser session. Please rerun this cell to enable.\n",
              "      </output>\n",
              "      <script src=\"/nbextensions/google.colab/files.js\"></script> "
            ],
            "text/plain": [
              "<IPython.core.display.HTML object>"
            ]
          },
          "metadata": {}
        }
      ]
    },
    {
      "cell_type": "code",
      "source": [
        "f = pd.read_csv('hotel_booking_data.csv')\n",
        "\n",
        "len(f.rows)"
      ],
      "metadata": {
        "id": "ijjsJCC5JL4N"
      },
      "execution_count": null,
      "outputs": []
    },
    {
      "cell_type": "code",
      "source": [
        "f[f.isna()]"
      ],
      "metadata": {
        "id": "6Q5d-cq6LK9K"
      },
      "execution_count": null,
      "outputs": []
    },
    {
      "cell_type": "code",
      "source": [
        "f.drop()"
      ],
      "metadata": {
        "id": "jfk4yqHzLRaV"
      },
      "execution_count": null,
      "outputs": []
    }
  ]
}